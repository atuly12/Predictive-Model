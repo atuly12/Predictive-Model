{
  "nbformat": 4,
  "nbformat_minor": 0,
  "metadata": {
    "colab": {
      "provenance": []
    },
    "kernelspec": {
      "name": "python3",
      "display_name": "Python 3"
    },
    "language_info": {
      "name": "python"
    }
  },
  "cells": [
    {
      "cell_type": "code",
      "execution_count": 1,
      "metadata": {
        "id": "FpPURIB0HzeF"
      },
      "outputs": [],
      "source": [
        "import pandas as pd\n",
        "from sklearn.linear_model import LogisticRegression\n",
        "# importing ploting libraries\n",
        "import matplotlib.pyplot as plt\n",
        "#importing seaborn for statistical plots\n",
        "import seaborn as sns\n",
        "#Let us break the X and y dataframes into training set and test set. For this we will use\n",
        "#Sklearn package's data splitting function which is based on random function\n",
        "from sklearn.model_selection import train_test_split\n",
        "import numpy as np\n",
        "# calculate accuracy measures and confusion matrix\n",
        "from sklearn import metrics\n",
        "import io\n",
        "import statsmodels.api as sm\n",
        "from sklearn.metrics import roc_auc_score, roc_curve, accuracy_score, confusion_matrix, classification_report, precision_score\n",
        "from sklearn.model_selection import train_test_split,GridSearchCV\n",
        "from sklearn.discriminant_analysis import LinearDiscriminantAnalysis"
      ]
    },
    {
      "cell_type": "code",
      "source": [
        "car_df = pd.read_csv('Car_Crash.csv').drop('Unnamed: 0',axis=1)"
      ],
      "metadata": {
        "id": "gDkM_S1OISqQ"
      },
      "execution_count": 2,
      "outputs": []
    },
    {
      "cell_type": "code",
      "source": [
        "car_df.shape"
      ],
      "metadata": {
        "colab": {
          "base_uri": "https://localhost:8080/"
        },
        "id": "c9qHq83ZIbGq",
        "outputId": "72926ce0-2394-4738-f59b-3f40ebdf9a1b"
      },
      "execution_count": null,
      "outputs": [
        {
          "output_type": "execute_result",
          "data": {
            "text/plain": [
              "(11217, 15)"
            ]
          },
          "metadata": {},
          "execution_count": 89
        }
      ]
    },
    {
      "cell_type": "code",
      "source": [
        "car_df.head(20)"
      ],
      "metadata": {
        "colab": {
          "base_uri": "https://localhost:8080/",
          "height": 676
        },
        "id": "9azAQQn7a1tk",
        "outputId": "9dcd4847-57ff-4079-c52a-567ccf45d4eb"
      },
      "execution_count": null,
      "outputs": [
        {
          "output_type": "execute_result",
          "data": {
            "text/plain": [
              "    dvcat  weight      Survived  airbag seatbelt  frontal sex  ageOFocc  \\\n",
              "0     55+  27.078  Not_Survived    none     none        1   m        32   \n",
              "1   25-39  89.627  Not_Survived  airbag   belted        0   f        54   \n",
              "2     55+  27.078  Not_Survived    none   belted        1   m        67   \n",
              "3     55+  27.078  Not_Survived    none   belted        1   f        64   \n",
              "4     55+  13.374  Not_Survived    none     none        1   m        23   \n",
              "5   25-39  12.383  Not_Survived    none   belted        0   f        77   \n",
              "6     55+  13.374  Not_Survived    none     none        0   m        34   \n",
              "7   10-24  13.374  Not_Survived  airbag   belted        1   m        37   \n",
              "8   40-54  13.374  Not_Survived    none     none        0   f        33   \n",
              "9   25-39  15.355  Not_Survived  airbag     none        1   f        84   \n",
              "10  10-24  15.355  Not_Survived    none     none        0   m        87   \n",
              "11  40-54  29.655  Not_Survived    none   belted        1   f        38   \n",
              "12  40-54  29.655  Not_Survived    none     none        1   m        75   \n",
              "13  40-54  31.408  Not_Survived    none     none        0   m        37   \n",
              "14  10-24  29.655  Not_Survived    none     none        1   m        19   \n",
              "15  25-39  29.655  Not_Survived    none     none        1   m        22   \n",
              "16    55+  29.655  Not_Survived    none     none        1   f        76   \n",
              "17  25-39  11.652  Not_Survived    none   belted        0   f        17   \n",
              "18    55+  14.592  Not_Survived    none     none        0   m        33   \n",
              "19  40-54  22.485  Not_Survived    none   belted        0   m        62   \n",
              "\n",
              "    yearacc  yearVeh     abcat occRole  deploy  injSeverity   caseid  \n",
              "0      1997   1987.0   unavail  driver       0          4.0   2:13:2  \n",
              "1      1997   1994.0  nodeploy  driver       0          4.0   2:17:1  \n",
              "2      1997   1992.0   unavail  driver       0          4.0   2:79:1  \n",
              "3      1997   1992.0   unavail    pass       0          4.0   2:79:1  \n",
              "4      1997   1986.0   unavail  driver       0          4.0   4:58:1  \n",
              "5      1997   1992.0   unavail    pass       0          4.0   4:96:2  \n",
              "6      1997   1990.0   unavail  driver       0          4.0  4:100:1  \n",
              "7      1997   1995.0    deploy  driver       1          4.0  4:104:2  \n",
              "8      1997   1987.0   unavail  driver       0          4.0  4:138:1  \n",
              "9      1997   1996.0    deploy  driver       1          4.0  4:146:1  \n",
              "10     1997   1981.0   unavail  driver       0          4.0  4:147:2  \n",
              "11     1997   1989.0   unavail  driver       0          4.0   5:26:2  \n",
              "12     1997   1986.0   unavail  driver       0          4.0   5:32:1  \n",
              "13     1997   1987.0   unavail  driver       0          4.0   5:78:1  \n",
              "14     1997   1989.0   unavail  driver       0          4.0   5:91:2  \n",
              "15     1997   1981.0   unavail    pass       0          4.0   5:94:1  \n",
              "16     1997   1993.0   unavail  driver       0          4.0  5:123:1  \n",
              "17     1997   1989.0   unavail    pass       0          4.0   6:14:1  \n",
              "18     1997   1987.0   unavail    pass       0          4.0   6:24:2  \n",
              "19     1997   1987.0   unavail  driver       0          3.0   6:26:2  "
            ],
            "text/html": [
              "\n",
              "\n",
              "  <div id=\"df-c9c3c0cc-08c1-41e5-8b43-7333045cc4f0\">\n",
              "    <div class=\"colab-df-container\">\n",
              "      <div>\n",
              "<style scoped>\n",
              "    .dataframe tbody tr th:only-of-type {\n",
              "        vertical-align: middle;\n",
              "    }\n",
              "\n",
              "    .dataframe tbody tr th {\n",
              "        vertical-align: top;\n",
              "    }\n",
              "\n",
              "    .dataframe thead th {\n",
              "        text-align: right;\n",
              "    }\n",
              "</style>\n",
              "<table border=\"1\" class=\"dataframe\">\n",
              "  <thead>\n",
              "    <tr style=\"text-align: right;\">\n",
              "      <th></th>\n",
              "      <th>dvcat</th>\n",
              "      <th>weight</th>\n",
              "      <th>Survived</th>\n",
              "      <th>airbag</th>\n",
              "      <th>seatbelt</th>\n",
              "      <th>frontal</th>\n",
              "      <th>sex</th>\n",
              "      <th>ageOFocc</th>\n",
              "      <th>yearacc</th>\n",
              "      <th>yearVeh</th>\n",
              "      <th>abcat</th>\n",
              "      <th>occRole</th>\n",
              "      <th>deploy</th>\n",
              "      <th>injSeverity</th>\n",
              "      <th>caseid</th>\n",
              "    </tr>\n",
              "  </thead>\n",
              "  <tbody>\n",
              "    <tr>\n",
              "      <th>0</th>\n",
              "      <td>55+</td>\n",
              "      <td>27.078</td>\n",
              "      <td>Not_Survived</td>\n",
              "      <td>none</td>\n",
              "      <td>none</td>\n",
              "      <td>1</td>\n",
              "      <td>m</td>\n",
              "      <td>32</td>\n",
              "      <td>1997</td>\n",
              "      <td>1987.0</td>\n",
              "      <td>unavail</td>\n",
              "      <td>driver</td>\n",
              "      <td>0</td>\n",
              "      <td>4.0</td>\n",
              "      <td>2:13:2</td>\n",
              "    </tr>\n",
              "    <tr>\n",
              "      <th>1</th>\n",
              "      <td>25-39</td>\n",
              "      <td>89.627</td>\n",
              "      <td>Not_Survived</td>\n",
              "      <td>airbag</td>\n",
              "      <td>belted</td>\n",
              "      <td>0</td>\n",
              "      <td>f</td>\n",
              "      <td>54</td>\n",
              "      <td>1997</td>\n",
              "      <td>1994.0</td>\n",
              "      <td>nodeploy</td>\n",
              "      <td>driver</td>\n",
              "      <td>0</td>\n",
              "      <td>4.0</td>\n",
              "      <td>2:17:1</td>\n",
              "    </tr>\n",
              "    <tr>\n",
              "      <th>2</th>\n",
              "      <td>55+</td>\n",
              "      <td>27.078</td>\n",
              "      <td>Not_Survived</td>\n",
              "      <td>none</td>\n",
              "      <td>belted</td>\n",
              "      <td>1</td>\n",
              "      <td>m</td>\n",
              "      <td>67</td>\n",
              "      <td>1997</td>\n",
              "      <td>1992.0</td>\n",
              "      <td>unavail</td>\n",
              "      <td>driver</td>\n",
              "      <td>0</td>\n",
              "      <td>4.0</td>\n",
              "      <td>2:79:1</td>\n",
              "    </tr>\n",
              "    <tr>\n",
              "      <th>3</th>\n",
              "      <td>55+</td>\n",
              "      <td>27.078</td>\n",
              "      <td>Not_Survived</td>\n",
              "      <td>none</td>\n",
              "      <td>belted</td>\n",
              "      <td>1</td>\n",
              "      <td>f</td>\n",
              "      <td>64</td>\n",
              "      <td>1997</td>\n",
              "      <td>1992.0</td>\n",
              "      <td>unavail</td>\n",
              "      <td>pass</td>\n",
              "      <td>0</td>\n",
              "      <td>4.0</td>\n",
              "      <td>2:79:1</td>\n",
              "    </tr>\n",
              "    <tr>\n",
              "      <th>4</th>\n",
              "      <td>55+</td>\n",
              "      <td>13.374</td>\n",
              "      <td>Not_Survived</td>\n",
              "      <td>none</td>\n",
              "      <td>none</td>\n",
              "      <td>1</td>\n",
              "      <td>m</td>\n",
              "      <td>23</td>\n",
              "      <td>1997</td>\n",
              "      <td>1986.0</td>\n",
              "      <td>unavail</td>\n",
              "      <td>driver</td>\n",
              "      <td>0</td>\n",
              "      <td>4.0</td>\n",
              "      <td>4:58:1</td>\n",
              "    </tr>\n",
              "    <tr>\n",
              "      <th>5</th>\n",
              "      <td>25-39</td>\n",
              "      <td>12.383</td>\n",
              "      <td>Not_Survived</td>\n",
              "      <td>none</td>\n",
              "      <td>belted</td>\n",
              "      <td>0</td>\n",
              "      <td>f</td>\n",
              "      <td>77</td>\n",
              "      <td>1997</td>\n",
              "      <td>1992.0</td>\n",
              "      <td>unavail</td>\n",
              "      <td>pass</td>\n",
              "      <td>0</td>\n",
              "      <td>4.0</td>\n",
              "      <td>4:96:2</td>\n",
              "    </tr>\n",
              "    <tr>\n",
              "      <th>6</th>\n",
              "      <td>55+</td>\n",
              "      <td>13.374</td>\n",
              "      <td>Not_Survived</td>\n",
              "      <td>none</td>\n",
              "      <td>none</td>\n",
              "      <td>0</td>\n",
              "      <td>m</td>\n",
              "      <td>34</td>\n",
              "      <td>1997</td>\n",
              "      <td>1990.0</td>\n",
              "      <td>unavail</td>\n",
              "      <td>driver</td>\n",
              "      <td>0</td>\n",
              "      <td>4.0</td>\n",
              "      <td>4:100:1</td>\n",
              "    </tr>\n",
              "    <tr>\n",
              "      <th>7</th>\n",
              "      <td>10-24</td>\n",
              "      <td>13.374</td>\n",
              "      <td>Not_Survived</td>\n",
              "      <td>airbag</td>\n",
              "      <td>belted</td>\n",
              "      <td>1</td>\n",
              "      <td>m</td>\n",
              "      <td>37</td>\n",
              "      <td>1997</td>\n",
              "      <td>1995.0</td>\n",
              "      <td>deploy</td>\n",
              "      <td>driver</td>\n",
              "      <td>1</td>\n",
              "      <td>4.0</td>\n",
              "      <td>4:104:2</td>\n",
              "    </tr>\n",
              "    <tr>\n",
              "      <th>8</th>\n",
              "      <td>40-54</td>\n",
              "      <td>13.374</td>\n",
              "      <td>Not_Survived</td>\n",
              "      <td>none</td>\n",
              "      <td>none</td>\n",
              "      <td>0</td>\n",
              "      <td>f</td>\n",
              "      <td>33</td>\n",
              "      <td>1997</td>\n",
              "      <td>1987.0</td>\n",
              "      <td>unavail</td>\n",
              "      <td>driver</td>\n",
              "      <td>0</td>\n",
              "      <td>4.0</td>\n",
              "      <td>4:138:1</td>\n",
              "    </tr>\n",
              "    <tr>\n",
              "      <th>9</th>\n",
              "      <td>25-39</td>\n",
              "      <td>15.355</td>\n",
              "      <td>Not_Survived</td>\n",
              "      <td>airbag</td>\n",
              "      <td>none</td>\n",
              "      <td>1</td>\n",
              "      <td>f</td>\n",
              "      <td>84</td>\n",
              "      <td>1997</td>\n",
              "      <td>1996.0</td>\n",
              "      <td>deploy</td>\n",
              "      <td>driver</td>\n",
              "      <td>1</td>\n",
              "      <td>4.0</td>\n",
              "      <td>4:146:1</td>\n",
              "    </tr>\n",
              "    <tr>\n",
              "      <th>10</th>\n",
              "      <td>10-24</td>\n",
              "      <td>15.355</td>\n",
              "      <td>Not_Survived</td>\n",
              "      <td>none</td>\n",
              "      <td>none</td>\n",
              "      <td>0</td>\n",
              "      <td>m</td>\n",
              "      <td>87</td>\n",
              "      <td>1997</td>\n",
              "      <td>1981.0</td>\n",
              "      <td>unavail</td>\n",
              "      <td>driver</td>\n",
              "      <td>0</td>\n",
              "      <td>4.0</td>\n",
              "      <td>4:147:2</td>\n",
              "    </tr>\n",
              "    <tr>\n",
              "      <th>11</th>\n",
              "      <td>40-54</td>\n",
              "      <td>29.655</td>\n",
              "      <td>Not_Survived</td>\n",
              "      <td>none</td>\n",
              "      <td>belted</td>\n",
              "      <td>1</td>\n",
              "      <td>f</td>\n",
              "      <td>38</td>\n",
              "      <td>1997</td>\n",
              "      <td>1989.0</td>\n",
              "      <td>unavail</td>\n",
              "      <td>driver</td>\n",
              "      <td>0</td>\n",
              "      <td>4.0</td>\n",
              "      <td>5:26:2</td>\n",
              "    </tr>\n",
              "    <tr>\n",
              "      <th>12</th>\n",
              "      <td>40-54</td>\n",
              "      <td>29.655</td>\n",
              "      <td>Not_Survived</td>\n",
              "      <td>none</td>\n",
              "      <td>none</td>\n",
              "      <td>1</td>\n",
              "      <td>m</td>\n",
              "      <td>75</td>\n",
              "      <td>1997</td>\n",
              "      <td>1986.0</td>\n",
              "      <td>unavail</td>\n",
              "      <td>driver</td>\n",
              "      <td>0</td>\n",
              "      <td>4.0</td>\n",
              "      <td>5:32:1</td>\n",
              "    </tr>\n",
              "    <tr>\n",
              "      <th>13</th>\n",
              "      <td>40-54</td>\n",
              "      <td>31.408</td>\n",
              "      <td>Not_Survived</td>\n",
              "      <td>none</td>\n",
              "      <td>none</td>\n",
              "      <td>0</td>\n",
              "      <td>m</td>\n",
              "      <td>37</td>\n",
              "      <td>1997</td>\n",
              "      <td>1987.0</td>\n",
              "      <td>unavail</td>\n",
              "      <td>driver</td>\n",
              "      <td>0</td>\n",
              "      <td>4.0</td>\n",
              "      <td>5:78:1</td>\n",
              "    </tr>\n",
              "    <tr>\n",
              "      <th>14</th>\n",
              "      <td>10-24</td>\n",
              "      <td>29.655</td>\n",
              "      <td>Not_Survived</td>\n",
              "      <td>none</td>\n",
              "      <td>none</td>\n",
              "      <td>1</td>\n",
              "      <td>m</td>\n",
              "      <td>19</td>\n",
              "      <td>1997</td>\n",
              "      <td>1989.0</td>\n",
              "      <td>unavail</td>\n",
              "      <td>driver</td>\n",
              "      <td>0</td>\n",
              "      <td>4.0</td>\n",
              "      <td>5:91:2</td>\n",
              "    </tr>\n",
              "    <tr>\n",
              "      <th>15</th>\n",
              "      <td>25-39</td>\n",
              "      <td>29.655</td>\n",
              "      <td>Not_Survived</td>\n",
              "      <td>none</td>\n",
              "      <td>none</td>\n",
              "      <td>1</td>\n",
              "      <td>m</td>\n",
              "      <td>22</td>\n",
              "      <td>1997</td>\n",
              "      <td>1981.0</td>\n",
              "      <td>unavail</td>\n",
              "      <td>pass</td>\n",
              "      <td>0</td>\n",
              "      <td>4.0</td>\n",
              "      <td>5:94:1</td>\n",
              "    </tr>\n",
              "    <tr>\n",
              "      <th>16</th>\n",
              "      <td>55+</td>\n",
              "      <td>29.655</td>\n",
              "      <td>Not_Survived</td>\n",
              "      <td>none</td>\n",
              "      <td>none</td>\n",
              "      <td>1</td>\n",
              "      <td>f</td>\n",
              "      <td>76</td>\n",
              "      <td>1997</td>\n",
              "      <td>1993.0</td>\n",
              "      <td>unavail</td>\n",
              "      <td>driver</td>\n",
              "      <td>0</td>\n",
              "      <td>4.0</td>\n",
              "      <td>5:123:1</td>\n",
              "    </tr>\n",
              "    <tr>\n",
              "      <th>17</th>\n",
              "      <td>25-39</td>\n",
              "      <td>11.652</td>\n",
              "      <td>Not_Survived</td>\n",
              "      <td>none</td>\n",
              "      <td>belted</td>\n",
              "      <td>0</td>\n",
              "      <td>f</td>\n",
              "      <td>17</td>\n",
              "      <td>1997</td>\n",
              "      <td>1989.0</td>\n",
              "      <td>unavail</td>\n",
              "      <td>pass</td>\n",
              "      <td>0</td>\n",
              "      <td>4.0</td>\n",
              "      <td>6:14:1</td>\n",
              "    </tr>\n",
              "    <tr>\n",
              "      <th>18</th>\n",
              "      <td>55+</td>\n",
              "      <td>14.592</td>\n",
              "      <td>Not_Survived</td>\n",
              "      <td>none</td>\n",
              "      <td>none</td>\n",
              "      <td>0</td>\n",
              "      <td>m</td>\n",
              "      <td>33</td>\n",
              "      <td>1997</td>\n",
              "      <td>1987.0</td>\n",
              "      <td>unavail</td>\n",
              "      <td>pass</td>\n",
              "      <td>0</td>\n",
              "      <td>4.0</td>\n",
              "      <td>6:24:2</td>\n",
              "    </tr>\n",
              "    <tr>\n",
              "      <th>19</th>\n",
              "      <td>40-54</td>\n",
              "      <td>22.485</td>\n",
              "      <td>Not_Survived</td>\n",
              "      <td>none</td>\n",
              "      <td>belted</td>\n",
              "      <td>0</td>\n",
              "      <td>m</td>\n",
              "      <td>62</td>\n",
              "      <td>1997</td>\n",
              "      <td>1987.0</td>\n",
              "      <td>unavail</td>\n",
              "      <td>driver</td>\n",
              "      <td>0</td>\n",
              "      <td>3.0</td>\n",
              "      <td>6:26:2</td>\n",
              "    </tr>\n",
              "  </tbody>\n",
              "</table>\n",
              "</div>\n",
              "      <button class=\"colab-df-convert\" onclick=\"convertToInteractive('df-c9c3c0cc-08c1-41e5-8b43-7333045cc4f0')\"\n",
              "              title=\"Convert this dataframe to an interactive table.\"\n",
              "              style=\"display:none;\">\n",
              "\n",
              "  <svg xmlns=\"http://www.w3.org/2000/svg\" height=\"24px\"viewBox=\"0 0 24 24\"\n",
              "       width=\"24px\">\n",
              "    <path d=\"M0 0h24v24H0V0z\" fill=\"none\"/>\n",
              "    <path d=\"M18.56 5.44l.94 2.06.94-2.06 2.06-.94-2.06-.94-.94-2.06-.94 2.06-2.06.94zm-11 1L8.5 8.5l.94-2.06 2.06-.94-2.06-.94L8.5 2.5l-.94 2.06-2.06.94zm10 10l.94 2.06.94-2.06 2.06-.94-2.06-.94-.94-2.06-.94 2.06-2.06.94z\"/><path d=\"M17.41 7.96l-1.37-1.37c-.4-.4-.92-.59-1.43-.59-.52 0-1.04.2-1.43.59L10.3 9.45l-7.72 7.72c-.78.78-.78 2.05 0 2.83L4 21.41c.39.39.9.59 1.41.59.51 0 1.02-.2 1.41-.59l7.78-7.78 2.81-2.81c.8-.78.8-2.07 0-2.86zM5.41 20L4 18.59l7.72-7.72 1.47 1.35L5.41 20z\"/>\n",
              "  </svg>\n",
              "      </button>\n",
              "\n",
              "\n",
              "\n",
              "    <div id=\"df-c2bbef31-0cca-48dd-a946-c540e7b5ee29\">\n",
              "      <button class=\"colab-df-quickchart\" onclick=\"quickchart('df-c2bbef31-0cca-48dd-a946-c540e7b5ee29')\"\n",
              "              title=\"Suggest charts.\"\n",
              "              style=\"display:none;\">\n",
              "\n",
              "<svg xmlns=\"http://www.w3.org/2000/svg\" height=\"24px\"viewBox=\"0 0 24 24\"\n",
              "     width=\"24px\">\n",
              "    <g>\n",
              "        <path d=\"M19 3H5c-1.1 0-2 .9-2 2v14c0 1.1.9 2 2 2h14c1.1 0 2-.9 2-2V5c0-1.1-.9-2-2-2zM9 17H7v-7h2v7zm4 0h-2V7h2v10zm4 0h-2v-4h2v4z\"/>\n",
              "    </g>\n",
              "</svg>\n",
              "      </button>\n",
              "    </div>\n",
              "\n",
              "<style>\n",
              "  .colab-df-quickchart {\n",
              "    background-color: #E8F0FE;\n",
              "    border: none;\n",
              "    border-radius: 50%;\n",
              "    cursor: pointer;\n",
              "    display: none;\n",
              "    fill: #1967D2;\n",
              "    height: 32px;\n",
              "    padding: 0 0 0 0;\n",
              "    width: 32px;\n",
              "  }\n",
              "\n",
              "  .colab-df-quickchart:hover {\n",
              "    background-color: #E2EBFA;\n",
              "    box-shadow: 0px 1px 2px rgba(60, 64, 67, 0.3), 0px 1px 3px 1px rgba(60, 64, 67, 0.15);\n",
              "    fill: #174EA6;\n",
              "  }\n",
              "\n",
              "  [theme=dark] .colab-df-quickchart {\n",
              "    background-color: #3B4455;\n",
              "    fill: #D2E3FC;\n",
              "  }\n",
              "\n",
              "  [theme=dark] .colab-df-quickchart:hover {\n",
              "    background-color: #434B5C;\n",
              "    box-shadow: 0px 1px 3px 1px rgba(0, 0, 0, 0.15);\n",
              "    filter: drop-shadow(0px 1px 2px rgba(0, 0, 0, 0.3));\n",
              "    fill: #FFFFFF;\n",
              "  }\n",
              "</style>\n",
              "\n",
              "    <script>\n",
              "      async function quickchart(key) {\n",
              "        const containerElement = document.querySelector('#' + key);\n",
              "        const charts = await google.colab.kernel.invokeFunction(\n",
              "            'suggestCharts', [key], {});\n",
              "      }\n",
              "    </script>\n",
              "\n",
              "      <script>\n",
              "\n",
              "function displayQuickchartButton(domScope) {\n",
              "  let quickchartButtonEl =\n",
              "    domScope.querySelector('#df-c2bbef31-0cca-48dd-a946-c540e7b5ee29 button.colab-df-quickchart');\n",
              "  quickchartButtonEl.style.display =\n",
              "    google.colab.kernel.accessAllowed ? 'block' : 'none';\n",
              "}\n",
              "\n",
              "        displayQuickchartButton(document);\n",
              "      </script>\n",
              "      <style>\n",
              "    .colab-df-container {\n",
              "      display:flex;\n",
              "      flex-wrap:wrap;\n",
              "      gap: 12px;\n",
              "    }\n",
              "\n",
              "    .colab-df-convert {\n",
              "      background-color: #E8F0FE;\n",
              "      border: none;\n",
              "      border-radius: 50%;\n",
              "      cursor: pointer;\n",
              "      display: none;\n",
              "      fill: #1967D2;\n",
              "      height: 32px;\n",
              "      padding: 0 0 0 0;\n",
              "      width: 32px;\n",
              "    }\n",
              "\n",
              "    .colab-df-convert:hover {\n",
              "      background-color: #E2EBFA;\n",
              "      box-shadow: 0px 1px 2px rgba(60, 64, 67, 0.3), 0px 1px 3px 1px rgba(60, 64, 67, 0.15);\n",
              "      fill: #174EA6;\n",
              "    }\n",
              "\n",
              "    [theme=dark] .colab-df-convert {\n",
              "      background-color: #3B4455;\n",
              "      fill: #D2E3FC;\n",
              "    }\n",
              "\n",
              "    [theme=dark] .colab-df-convert:hover {\n",
              "      background-color: #434B5C;\n",
              "      box-shadow: 0px 1px 3px 1px rgba(0, 0, 0, 0.15);\n",
              "      filter: drop-shadow(0px 1px 2px rgba(0, 0, 0, 0.3));\n",
              "      fill: #FFFFFF;\n",
              "    }\n",
              "  </style>\n",
              "\n",
              "      <script>\n",
              "        const buttonEl =\n",
              "          document.querySelector('#df-c9c3c0cc-08c1-41e5-8b43-7333045cc4f0 button.colab-df-convert');\n",
              "        buttonEl.style.display =\n",
              "          google.colab.kernel.accessAllowed ? 'block' : 'none';\n",
              "\n",
              "        async function convertToInteractive(key) {\n",
              "          const element = document.querySelector('#df-c9c3c0cc-08c1-41e5-8b43-7333045cc4f0');\n",
              "          const dataTable =\n",
              "            await google.colab.kernel.invokeFunction('convertToInteractive',\n",
              "                                                     [key], {});\n",
              "          if (!dataTable) return;\n",
              "\n",
              "          const docLinkHtml = 'Like what you see? Visit the ' +\n",
              "            '<a target=\"_blank\" href=https://colab.research.google.com/notebooks/data_table.ipynb>data table notebook</a>'\n",
              "            + ' to learn more about interactive tables.';\n",
              "          element.innerHTML = '';\n",
              "          dataTable['output_type'] = 'display_data';\n",
              "          await google.colab.output.renderOutput(dataTable, element);\n",
              "          const docLink = document.createElement('div');\n",
              "          docLink.innerHTML = docLinkHtml;\n",
              "          element.appendChild(docLink);\n",
              "        }\n",
              "      </script>\n",
              "    </div>\n",
              "  </div>\n"
            ]
          },
          "metadata": {},
          "execution_count": 90
        }
      ]
    },
    {
      "cell_type": "code",
      "source": [
        "car_df.info()"
      ],
      "metadata": {
        "colab": {
          "base_uri": "https://localhost:8080/"
        },
        "id": "mGN6TSNGa4EG",
        "outputId": "92906b87-1e02-4c24-e899-0fe557deaecf"
      },
      "execution_count": null,
      "outputs": [
        {
          "output_type": "stream",
          "name": "stdout",
          "text": [
            "<class 'pandas.core.frame.DataFrame'>\n",
            "RangeIndex: 11217 entries, 0 to 11216\n",
            "Data columns (total 15 columns):\n",
            " #   Column       Non-Null Count  Dtype  \n",
            "---  ------       --------------  -----  \n",
            " 0   dvcat        11217 non-null  object \n",
            " 1   weight       11217 non-null  float64\n",
            " 2   Survived     11217 non-null  object \n",
            " 3   airbag       11217 non-null  object \n",
            " 4   seatbelt     11217 non-null  object \n",
            " 5   frontal      11217 non-null  int64  \n",
            " 6   sex          11217 non-null  object \n",
            " 7   ageOFocc     11217 non-null  int64  \n",
            " 8   yearacc      11217 non-null  int64  \n",
            " 9   yearVeh      11217 non-null  float64\n",
            " 10  abcat        11217 non-null  object \n",
            " 11  occRole      11217 non-null  object \n",
            " 12  deploy       11217 non-null  int64  \n",
            " 13  injSeverity  11140 non-null  float64\n",
            " 14  caseid       11217 non-null  object \n",
            "dtypes: float64(3), int64(4), object(8)\n",
            "memory usage: 1.3+ MB\n"
          ]
        }
      ]
    },
    {
      "cell_type": "code",
      "source": [
        "car_df.isnull().sum()"
      ],
      "metadata": {
        "colab": {
          "base_uri": "https://localhost:8080/"
        },
        "id": "Z3N6RpaonQLb",
        "outputId": "3680572b-440c-437d-8573-50b326bc423b"
      },
      "execution_count": null,
      "outputs": [
        {
          "output_type": "execute_result",
          "data": {
            "text/plain": [
              "dvcat           0\n",
              "weight          0\n",
              "Survived        0\n",
              "airbag          0\n",
              "seatbelt        0\n",
              "frontal         0\n",
              "sex             0\n",
              "ageOFocc        0\n",
              "yearacc         0\n",
              "yearVeh         0\n",
              "abcat           0\n",
              "occRole         0\n",
              "deploy          0\n",
              "injSeverity    77\n",
              "caseid          0\n",
              "dtype: int64"
            ]
          },
          "metadata": {},
          "execution_count": 92
        }
      ]
    },
    {
      "cell_type": "code",
      "source": [
        "car_df['injSeverity'].value_counts()"
      ],
      "metadata": {
        "colab": {
          "base_uri": "https://localhost:8080/"
        },
        "id": "MIlRYjDOoVRA",
        "outputId": "f53256e1-278c-4e86-8539-98ce1a6bc897"
      },
      "execution_count": null,
      "outputs": [
        {
          "output_type": "execute_result",
          "data": {
            "text/plain": [
              "3.0    3337\n",
              "0.0    2734\n",
              "1.0    2218\n",
              "2.0    1682\n",
              "4.0    1101\n",
              "5.0      68\n",
              "Name: injSeverity, dtype: int64"
            ]
          },
          "metadata": {},
          "execution_count": 93
        }
      ]
    },
    {
      "cell_type": "code",
      "source": [
        "car_df.info()"
      ],
      "metadata": {
        "colab": {
          "base_uri": "https://localhost:8080/"
        },
        "id": "rLtqDBfd7W5r",
        "outputId": "32da37f8-e723-42b7-8290-fc35531debca"
      },
      "execution_count": null,
      "outputs": [
        {
          "output_type": "stream",
          "name": "stdout",
          "text": [
            "<class 'pandas.core.frame.DataFrame'>\n",
            "RangeIndex: 11217 entries, 0 to 11216\n",
            "Data columns (total 15 columns):\n",
            " #   Column       Non-Null Count  Dtype  \n",
            "---  ------       --------------  -----  \n",
            " 0   dvcat        11217 non-null  object \n",
            " 1   weight       11217 non-null  float64\n",
            " 2   Survived     11217 non-null  object \n",
            " 3   airbag       11217 non-null  object \n",
            " 4   seatbelt     11217 non-null  object \n",
            " 5   frontal      11217 non-null  int64  \n",
            " 6   sex          11217 non-null  object \n",
            " 7   ageOFocc     11217 non-null  int64  \n",
            " 8   yearacc      11217 non-null  int64  \n",
            " 9   yearVeh      11217 non-null  float64\n",
            " 10  abcat        11217 non-null  object \n",
            " 11  occRole      11217 non-null  object \n",
            " 12  deploy       11217 non-null  int64  \n",
            " 13  injSeverity  11140 non-null  float64\n",
            " 14  caseid       11217 non-null  object \n",
            "dtypes: float64(3), int64(4), object(8)\n",
            "memory usage: 1.3+ MB\n"
          ]
        }
      ]
    },
    {
      "cell_type": "code",
      "source": [
        "car_df['injSeverity'].fillna(car_df['injSeverity'].mode()[0], inplace= True)"
      ],
      "metadata": {
        "id": "L4GmILh_3AIZ"
      },
      "execution_count": null,
      "outputs": []
    },
    {
      "cell_type": "code",
      "source": [
        "dups = car_df.duplicated()\n",
        "print('Number of duplicate rows = %d' % (dups.sum()))\n",
        "\n",
        "car_df[dups]"
      ],
      "metadata": {
        "colab": {
          "base_uri": "https://localhost:8080/",
          "height": 66
        },
        "id": "Sfgptgj_sm46",
        "outputId": "e0888227-a05e-4dc1-ded4-0b1151a572a1"
      },
      "execution_count": null,
      "outputs": [
        {
          "output_type": "stream",
          "name": "stdout",
          "text": [
            "Number of duplicate rows = 0\n"
          ]
        },
        {
          "output_type": "execute_result",
          "data": {
            "text/plain": [
              "Empty DataFrame\n",
              "Columns: [dvcat, weight, Survived, airbag, seatbelt, frontal, sex, ageOFocc, yearacc, yearVeh, abcat, occRole, deploy, injSeverity, caseid]\n",
              "Index: []"
            ],
            "text/html": [
              "\n",
              "\n",
              "  <div id=\"df-844de3f3-ecfc-4602-8bd6-21e382c9b08c\">\n",
              "    <div class=\"colab-df-container\">\n",
              "      <div>\n",
              "<style scoped>\n",
              "    .dataframe tbody tr th:only-of-type {\n",
              "        vertical-align: middle;\n",
              "    }\n",
              "\n",
              "    .dataframe tbody tr th {\n",
              "        vertical-align: top;\n",
              "    }\n",
              "\n",
              "    .dataframe thead th {\n",
              "        text-align: right;\n",
              "    }\n",
              "</style>\n",
              "<table border=\"1\" class=\"dataframe\">\n",
              "  <thead>\n",
              "    <tr style=\"text-align: right;\">\n",
              "      <th></th>\n",
              "      <th>dvcat</th>\n",
              "      <th>weight</th>\n",
              "      <th>Survived</th>\n",
              "      <th>airbag</th>\n",
              "      <th>seatbelt</th>\n",
              "      <th>frontal</th>\n",
              "      <th>sex</th>\n",
              "      <th>ageOFocc</th>\n",
              "      <th>yearacc</th>\n",
              "      <th>yearVeh</th>\n",
              "      <th>abcat</th>\n",
              "      <th>occRole</th>\n",
              "      <th>deploy</th>\n",
              "      <th>injSeverity</th>\n",
              "      <th>caseid</th>\n",
              "    </tr>\n",
              "  </thead>\n",
              "  <tbody>\n",
              "  </tbody>\n",
              "</table>\n",
              "</div>\n",
              "      <button class=\"colab-df-convert\" onclick=\"convertToInteractive('df-844de3f3-ecfc-4602-8bd6-21e382c9b08c')\"\n",
              "              title=\"Convert this dataframe to an interactive table.\"\n",
              "              style=\"display:none;\">\n",
              "\n",
              "  <svg xmlns=\"http://www.w3.org/2000/svg\" height=\"24px\"viewBox=\"0 0 24 24\"\n",
              "       width=\"24px\">\n",
              "    <path d=\"M0 0h24v24H0V0z\" fill=\"none\"/>\n",
              "    <path d=\"M18.56 5.44l.94 2.06.94-2.06 2.06-.94-2.06-.94-.94-2.06-.94 2.06-2.06.94zm-11 1L8.5 8.5l.94-2.06 2.06-.94-2.06-.94L8.5 2.5l-.94 2.06-2.06.94zm10 10l.94 2.06.94-2.06 2.06-.94-2.06-.94-.94-2.06-.94 2.06-2.06.94z\"/><path d=\"M17.41 7.96l-1.37-1.37c-.4-.4-.92-.59-1.43-.59-.52 0-1.04.2-1.43.59L10.3 9.45l-7.72 7.72c-.78.78-.78 2.05 0 2.83L4 21.41c.39.39.9.59 1.41.59.51 0 1.02-.2 1.41-.59l7.78-7.78 2.81-2.81c.8-.78.8-2.07 0-2.86zM5.41 20L4 18.59l7.72-7.72 1.47 1.35L5.41 20z\"/>\n",
              "  </svg>\n",
              "      </button>\n",
              "\n",
              "\n",
              "\n",
              "    <div id=\"df-4320085f-f47e-4bb5-aadb-8ec5997a97ad\">\n",
              "      <button class=\"colab-df-quickchart\" onclick=\"quickchart('df-4320085f-f47e-4bb5-aadb-8ec5997a97ad')\"\n",
              "              title=\"Suggest charts.\"\n",
              "              style=\"display:none;\">\n",
              "\n",
              "<svg xmlns=\"http://www.w3.org/2000/svg\" height=\"24px\"viewBox=\"0 0 24 24\"\n",
              "     width=\"24px\">\n",
              "    <g>\n",
              "        <path d=\"M19 3H5c-1.1 0-2 .9-2 2v14c0 1.1.9 2 2 2h14c1.1 0 2-.9 2-2V5c0-1.1-.9-2-2-2zM9 17H7v-7h2v7zm4 0h-2V7h2v10zm4 0h-2v-4h2v4z\"/>\n",
              "    </g>\n",
              "</svg>\n",
              "      </button>\n",
              "    </div>\n",
              "\n",
              "<style>\n",
              "  .colab-df-quickchart {\n",
              "    background-color: #E8F0FE;\n",
              "    border: none;\n",
              "    border-radius: 50%;\n",
              "    cursor: pointer;\n",
              "    display: none;\n",
              "    fill: #1967D2;\n",
              "    height: 32px;\n",
              "    padding: 0 0 0 0;\n",
              "    width: 32px;\n",
              "  }\n",
              "\n",
              "  .colab-df-quickchart:hover {\n",
              "    background-color: #E2EBFA;\n",
              "    box-shadow: 0px 1px 2px rgba(60, 64, 67, 0.3), 0px 1px 3px 1px rgba(60, 64, 67, 0.15);\n",
              "    fill: #174EA6;\n",
              "  }\n",
              "\n",
              "  [theme=dark] .colab-df-quickchart {\n",
              "    background-color: #3B4455;\n",
              "    fill: #D2E3FC;\n",
              "  }\n",
              "\n",
              "  [theme=dark] .colab-df-quickchart:hover {\n",
              "    background-color: #434B5C;\n",
              "    box-shadow: 0px 1px 3px 1px rgba(0, 0, 0, 0.15);\n",
              "    filter: drop-shadow(0px 1px 2px rgba(0, 0, 0, 0.3));\n",
              "    fill: #FFFFFF;\n",
              "  }\n",
              "</style>\n",
              "\n",
              "    <script>\n",
              "      async function quickchart(key) {\n",
              "        const containerElement = document.querySelector('#' + key);\n",
              "        const charts = await google.colab.kernel.invokeFunction(\n",
              "            'suggestCharts', [key], {});\n",
              "      }\n",
              "    </script>\n",
              "\n",
              "      <script>\n",
              "\n",
              "function displayQuickchartButton(domScope) {\n",
              "  let quickchartButtonEl =\n",
              "    domScope.querySelector('#df-4320085f-f47e-4bb5-aadb-8ec5997a97ad button.colab-df-quickchart');\n",
              "  quickchartButtonEl.style.display =\n",
              "    google.colab.kernel.accessAllowed ? 'block' : 'none';\n",
              "}\n",
              "\n",
              "        displayQuickchartButton(document);\n",
              "      </script>\n",
              "      <style>\n",
              "    .colab-df-container {\n",
              "      display:flex;\n",
              "      flex-wrap:wrap;\n",
              "      gap: 12px;\n",
              "    }\n",
              "\n",
              "    .colab-df-convert {\n",
              "      background-color: #E8F0FE;\n",
              "      border: none;\n",
              "      border-radius: 50%;\n",
              "      cursor: pointer;\n",
              "      display: none;\n",
              "      fill: #1967D2;\n",
              "      height: 32px;\n",
              "      padding: 0 0 0 0;\n",
              "      width: 32px;\n",
              "    }\n",
              "\n",
              "    .colab-df-convert:hover {\n",
              "      background-color: #E2EBFA;\n",
              "      box-shadow: 0px 1px 2px rgba(60, 64, 67, 0.3), 0px 1px 3px 1px rgba(60, 64, 67, 0.15);\n",
              "      fill: #174EA6;\n",
              "    }\n",
              "\n",
              "    [theme=dark] .colab-df-convert {\n",
              "      background-color: #3B4455;\n",
              "      fill: #D2E3FC;\n",
              "    }\n",
              "\n",
              "    [theme=dark] .colab-df-convert:hover {\n",
              "      background-color: #434B5C;\n",
              "      box-shadow: 0px 1px 3px 1px rgba(0, 0, 0, 0.15);\n",
              "      filter: drop-shadow(0px 1px 2px rgba(0, 0, 0, 0.3));\n",
              "      fill: #FFFFFF;\n",
              "    }\n",
              "  </style>\n",
              "\n",
              "      <script>\n",
              "        const buttonEl =\n",
              "          document.querySelector('#df-844de3f3-ecfc-4602-8bd6-21e382c9b08c button.colab-df-convert');\n",
              "        buttonEl.style.display =\n",
              "          google.colab.kernel.accessAllowed ? 'block' : 'none';\n",
              "\n",
              "        async function convertToInteractive(key) {\n",
              "          const element = document.querySelector('#df-844de3f3-ecfc-4602-8bd6-21e382c9b08c');\n",
              "          const dataTable =\n",
              "            await google.colab.kernel.invokeFunction('convertToInteractive',\n",
              "                                                     [key], {});\n",
              "          if (!dataTable) return;\n",
              "\n",
              "          const docLinkHtml = 'Like what you see? Visit the ' +\n",
              "            '<a target=\"_blank\" href=https://colab.research.google.com/notebooks/data_table.ipynb>data table notebook</a>'\n",
              "            + ' to learn more about interactive tables.';\n",
              "          element.innerHTML = '';\n",
              "          dataTable['output_type'] = 'display_data';\n",
              "          await google.colab.output.renderOutput(dataTable, element);\n",
              "          const docLink = document.createElement('div');\n",
              "          docLink.innerHTML = docLinkHtml;\n",
              "          element.appendChild(docLink);\n",
              "        }\n",
              "      </script>\n",
              "    </div>\n",
              "  </div>\n"
            ]
          },
          "metadata": {},
          "execution_count": 96
        }
      ]
    },
    {
      "cell_type": "code",
      "source": [
        "car_df.describe().T"
      ],
      "metadata": {
        "colab": {
          "base_uri": "https://localhost:8080/",
          "height": 269
        },
        "id": "eNrVqWFpwz76",
        "outputId": "eb28d5f6-c404-4b13-aa7f-2b7da8fdccfe"
      },
      "execution_count": null,
      "outputs": [
        {
          "output_type": "execute_result",
          "data": {
            "text/plain": [
              "               count         mean          std     min       25%       50%  \\\n",
              "weight       11217.0   431.405309  1406.202941     0.0    28.292    82.195   \n",
              "frontal      11217.0     0.644022     0.478830     0.0     0.000     1.000   \n",
              "ageOFocc     11217.0    37.427654    18.192429    16.0    22.000    33.000   \n",
              "yearacc      11217.0  2001.103236     1.056805  1997.0  2001.000  2001.000   \n",
              "yearVeh      11217.0  1994.177944     5.658704  1953.0  1991.000  1995.000   \n",
              "deploy       11217.0     0.389141     0.487577     0.0     0.000     0.000   \n",
              "injSeverity  11217.0     1.833645     1.377214     0.0     1.000     2.000   \n",
              "\n",
              "                  75%       max  \n",
              "weight        324.056  31694.04  \n",
              "frontal         1.000      1.00  \n",
              "ageOFocc       48.000     97.00  \n",
              "yearacc      2002.000   2002.00  \n",
              "yearVeh      1999.000   2003.00  \n",
              "deploy          1.000      1.00  \n",
              "injSeverity     3.000      5.00  "
            ],
            "text/html": [
              "\n",
              "\n",
              "  <div id=\"df-b7c86809-f3b2-4bd7-99ac-13d88dc0e5c4\">\n",
              "    <div class=\"colab-df-container\">\n",
              "      <div>\n",
              "<style scoped>\n",
              "    .dataframe tbody tr th:only-of-type {\n",
              "        vertical-align: middle;\n",
              "    }\n",
              "\n",
              "    .dataframe tbody tr th {\n",
              "        vertical-align: top;\n",
              "    }\n",
              "\n",
              "    .dataframe thead th {\n",
              "        text-align: right;\n",
              "    }\n",
              "</style>\n",
              "<table border=\"1\" class=\"dataframe\">\n",
              "  <thead>\n",
              "    <tr style=\"text-align: right;\">\n",
              "      <th></th>\n",
              "      <th>count</th>\n",
              "      <th>mean</th>\n",
              "      <th>std</th>\n",
              "      <th>min</th>\n",
              "      <th>25%</th>\n",
              "      <th>50%</th>\n",
              "      <th>75%</th>\n",
              "      <th>max</th>\n",
              "    </tr>\n",
              "  </thead>\n",
              "  <tbody>\n",
              "    <tr>\n",
              "      <th>weight</th>\n",
              "      <td>11217.0</td>\n",
              "      <td>431.405309</td>\n",
              "      <td>1406.202941</td>\n",
              "      <td>0.0</td>\n",
              "      <td>28.292</td>\n",
              "      <td>82.195</td>\n",
              "      <td>324.056</td>\n",
              "      <td>31694.04</td>\n",
              "    </tr>\n",
              "    <tr>\n",
              "      <th>frontal</th>\n",
              "      <td>11217.0</td>\n",
              "      <td>0.644022</td>\n",
              "      <td>0.478830</td>\n",
              "      <td>0.0</td>\n",
              "      <td>0.000</td>\n",
              "      <td>1.000</td>\n",
              "      <td>1.000</td>\n",
              "      <td>1.00</td>\n",
              "    </tr>\n",
              "    <tr>\n",
              "      <th>ageOFocc</th>\n",
              "      <td>11217.0</td>\n",
              "      <td>37.427654</td>\n",
              "      <td>18.192429</td>\n",
              "      <td>16.0</td>\n",
              "      <td>22.000</td>\n",
              "      <td>33.000</td>\n",
              "      <td>48.000</td>\n",
              "      <td>97.00</td>\n",
              "    </tr>\n",
              "    <tr>\n",
              "      <th>yearacc</th>\n",
              "      <td>11217.0</td>\n",
              "      <td>2001.103236</td>\n",
              "      <td>1.056805</td>\n",
              "      <td>1997.0</td>\n",
              "      <td>2001.000</td>\n",
              "      <td>2001.000</td>\n",
              "      <td>2002.000</td>\n",
              "      <td>2002.00</td>\n",
              "    </tr>\n",
              "    <tr>\n",
              "      <th>yearVeh</th>\n",
              "      <td>11217.0</td>\n",
              "      <td>1994.177944</td>\n",
              "      <td>5.658704</td>\n",
              "      <td>1953.0</td>\n",
              "      <td>1991.000</td>\n",
              "      <td>1995.000</td>\n",
              "      <td>1999.000</td>\n",
              "      <td>2003.00</td>\n",
              "    </tr>\n",
              "    <tr>\n",
              "      <th>deploy</th>\n",
              "      <td>11217.0</td>\n",
              "      <td>0.389141</td>\n",
              "      <td>0.487577</td>\n",
              "      <td>0.0</td>\n",
              "      <td>0.000</td>\n",
              "      <td>0.000</td>\n",
              "      <td>1.000</td>\n",
              "      <td>1.00</td>\n",
              "    </tr>\n",
              "    <tr>\n",
              "      <th>injSeverity</th>\n",
              "      <td>11217.0</td>\n",
              "      <td>1.833645</td>\n",
              "      <td>1.377214</td>\n",
              "      <td>0.0</td>\n",
              "      <td>1.000</td>\n",
              "      <td>2.000</td>\n",
              "      <td>3.000</td>\n",
              "      <td>5.00</td>\n",
              "    </tr>\n",
              "  </tbody>\n",
              "</table>\n",
              "</div>\n",
              "      <button class=\"colab-df-convert\" onclick=\"convertToInteractive('df-b7c86809-f3b2-4bd7-99ac-13d88dc0e5c4')\"\n",
              "              title=\"Convert this dataframe to an interactive table.\"\n",
              "              style=\"display:none;\">\n",
              "\n",
              "  <svg xmlns=\"http://www.w3.org/2000/svg\" height=\"24px\"viewBox=\"0 0 24 24\"\n",
              "       width=\"24px\">\n",
              "    <path d=\"M0 0h24v24H0V0z\" fill=\"none\"/>\n",
              "    <path d=\"M18.56 5.44l.94 2.06.94-2.06 2.06-.94-2.06-.94-.94-2.06-.94 2.06-2.06.94zm-11 1L8.5 8.5l.94-2.06 2.06-.94-2.06-.94L8.5 2.5l-.94 2.06-2.06.94zm10 10l.94 2.06.94-2.06 2.06-.94-2.06-.94-.94-2.06-.94 2.06-2.06.94z\"/><path d=\"M17.41 7.96l-1.37-1.37c-.4-.4-.92-.59-1.43-.59-.52 0-1.04.2-1.43.59L10.3 9.45l-7.72 7.72c-.78.78-.78 2.05 0 2.83L4 21.41c.39.39.9.59 1.41.59.51 0 1.02-.2 1.41-.59l7.78-7.78 2.81-2.81c.8-.78.8-2.07 0-2.86zM5.41 20L4 18.59l7.72-7.72 1.47 1.35L5.41 20z\"/>\n",
              "  </svg>\n",
              "      </button>\n",
              "\n",
              "\n",
              "\n",
              "    <div id=\"df-e1810234-ee49-4e7a-82f9-2e24cc228be4\">\n",
              "      <button class=\"colab-df-quickchart\" onclick=\"quickchart('df-e1810234-ee49-4e7a-82f9-2e24cc228be4')\"\n",
              "              title=\"Suggest charts.\"\n",
              "              style=\"display:none;\">\n",
              "\n",
              "<svg xmlns=\"http://www.w3.org/2000/svg\" height=\"24px\"viewBox=\"0 0 24 24\"\n",
              "     width=\"24px\">\n",
              "    <g>\n",
              "        <path d=\"M19 3H5c-1.1 0-2 .9-2 2v14c0 1.1.9 2 2 2h14c1.1 0 2-.9 2-2V5c0-1.1-.9-2-2-2zM9 17H7v-7h2v7zm4 0h-2V7h2v10zm4 0h-2v-4h2v4z\"/>\n",
              "    </g>\n",
              "</svg>\n",
              "      </button>\n",
              "    </div>\n",
              "\n",
              "<style>\n",
              "  .colab-df-quickchart {\n",
              "    background-color: #E8F0FE;\n",
              "    border: none;\n",
              "    border-radius: 50%;\n",
              "    cursor: pointer;\n",
              "    display: none;\n",
              "    fill: #1967D2;\n",
              "    height: 32px;\n",
              "    padding: 0 0 0 0;\n",
              "    width: 32px;\n",
              "  }\n",
              "\n",
              "  .colab-df-quickchart:hover {\n",
              "    background-color: #E2EBFA;\n",
              "    box-shadow: 0px 1px 2px rgba(60, 64, 67, 0.3), 0px 1px 3px 1px rgba(60, 64, 67, 0.15);\n",
              "    fill: #174EA6;\n",
              "  }\n",
              "\n",
              "  [theme=dark] .colab-df-quickchart {\n",
              "    background-color: #3B4455;\n",
              "    fill: #D2E3FC;\n",
              "  }\n",
              "\n",
              "  [theme=dark] .colab-df-quickchart:hover {\n",
              "    background-color: #434B5C;\n",
              "    box-shadow: 0px 1px 3px 1px rgba(0, 0, 0, 0.15);\n",
              "    filter: drop-shadow(0px 1px 2px rgba(0, 0, 0, 0.3));\n",
              "    fill: #FFFFFF;\n",
              "  }\n",
              "</style>\n",
              "\n",
              "    <script>\n",
              "      async function quickchart(key) {\n",
              "        const containerElement = document.querySelector('#' + key);\n",
              "        const charts = await google.colab.kernel.invokeFunction(\n",
              "            'suggestCharts', [key], {});\n",
              "      }\n",
              "    </script>\n",
              "\n",
              "      <script>\n",
              "\n",
              "function displayQuickchartButton(domScope) {\n",
              "  let quickchartButtonEl =\n",
              "    domScope.querySelector('#df-e1810234-ee49-4e7a-82f9-2e24cc228be4 button.colab-df-quickchart');\n",
              "  quickchartButtonEl.style.display =\n",
              "    google.colab.kernel.accessAllowed ? 'block' : 'none';\n",
              "}\n",
              "\n",
              "        displayQuickchartButton(document);\n",
              "      </script>\n",
              "      <style>\n",
              "    .colab-df-container {\n",
              "      display:flex;\n",
              "      flex-wrap:wrap;\n",
              "      gap: 12px;\n",
              "    }\n",
              "\n",
              "    .colab-df-convert {\n",
              "      background-color: #E8F0FE;\n",
              "      border: none;\n",
              "      border-radius: 50%;\n",
              "      cursor: pointer;\n",
              "      display: none;\n",
              "      fill: #1967D2;\n",
              "      height: 32px;\n",
              "      padding: 0 0 0 0;\n",
              "      width: 32px;\n",
              "    }\n",
              "\n",
              "    .colab-df-convert:hover {\n",
              "      background-color: #E2EBFA;\n",
              "      box-shadow: 0px 1px 2px rgba(60, 64, 67, 0.3), 0px 1px 3px 1px rgba(60, 64, 67, 0.15);\n",
              "      fill: #174EA6;\n",
              "    }\n",
              "\n",
              "    [theme=dark] .colab-df-convert {\n",
              "      background-color: #3B4455;\n",
              "      fill: #D2E3FC;\n",
              "    }\n",
              "\n",
              "    [theme=dark] .colab-df-convert:hover {\n",
              "      background-color: #434B5C;\n",
              "      box-shadow: 0px 1px 3px 1px rgba(0, 0, 0, 0.15);\n",
              "      filter: drop-shadow(0px 1px 2px rgba(0, 0, 0, 0.3));\n",
              "      fill: #FFFFFF;\n",
              "    }\n",
              "  </style>\n",
              "\n",
              "      <script>\n",
              "        const buttonEl =\n",
              "          document.querySelector('#df-b7c86809-f3b2-4bd7-99ac-13d88dc0e5c4 button.colab-df-convert');\n",
              "        buttonEl.style.display =\n",
              "          google.colab.kernel.accessAllowed ? 'block' : 'none';\n",
              "\n",
              "        async function convertToInteractive(key) {\n",
              "          const element = document.querySelector('#df-b7c86809-f3b2-4bd7-99ac-13d88dc0e5c4');\n",
              "          const dataTable =\n",
              "            await google.colab.kernel.invokeFunction('convertToInteractive',\n",
              "                                                     [key], {});\n",
              "          if (!dataTable) return;\n",
              "\n",
              "          const docLinkHtml = 'Like what you see? Visit the ' +\n",
              "            '<a target=\"_blank\" href=https://colab.research.google.com/notebooks/data_table.ipynb>data table notebook</a>'\n",
              "            + ' to learn more about interactive tables.';\n",
              "          element.innerHTML = '';\n",
              "          dataTable['output_type'] = 'display_data';\n",
              "          await google.colab.output.renderOutput(dataTable, element);\n",
              "          const docLink = document.createElement('div');\n",
              "          docLink.innerHTML = docLinkHtml;\n",
              "          element.appendChild(docLink);\n",
              "        }\n",
              "      </script>\n",
              "    </div>\n",
              "  </div>\n"
            ]
          },
          "metadata": {},
          "execution_count": 97
        }
      ]
    },
    {
      "cell_type": "code",
      "source": [
        "car_df.groupby([\"Survived\"]).count()"
      ],
      "metadata": {
        "colab": {
          "base_uri": "https://localhost:8080/",
          "height": 143
        },
        "id": "IrjkpdjcoX4x",
        "outputId": "02e7b09e-39b2-436a-8f19-d6ddece94fb9"
      },
      "execution_count": null,
      "outputs": [
        {
          "output_type": "execute_result",
          "data": {
            "text/plain": [
              "              dvcat  weight  airbag  seatbelt  frontal    sex  ageOFocc  \\\n",
              "Survived                                                                  \n",
              "Not_Survived   1180    1180    1180      1180     1180   1180      1180   \n",
              "survived      10037   10037   10037     10037    10037  10037     10037   \n",
              "\n",
              "              yearacc  yearVeh  abcat  occRole  deploy  injSeverity  caseid  \n",
              "Survived                                                                     \n",
              "Not_Survived     1180     1180   1180     1180    1180         1180    1180  \n",
              "survived        10037    10037  10037    10037   10037        10037   10037  "
            ],
            "text/html": [
              "\n",
              "\n",
              "  <div id=\"df-cf3275d6-1895-4422-a027-bb0ece93562e\">\n",
              "    <div class=\"colab-df-container\">\n",
              "      <div>\n",
              "<style scoped>\n",
              "    .dataframe tbody tr th:only-of-type {\n",
              "        vertical-align: middle;\n",
              "    }\n",
              "\n",
              "    .dataframe tbody tr th {\n",
              "        vertical-align: top;\n",
              "    }\n",
              "\n",
              "    .dataframe thead th {\n",
              "        text-align: right;\n",
              "    }\n",
              "</style>\n",
              "<table border=\"1\" class=\"dataframe\">\n",
              "  <thead>\n",
              "    <tr style=\"text-align: right;\">\n",
              "      <th></th>\n",
              "      <th>dvcat</th>\n",
              "      <th>weight</th>\n",
              "      <th>airbag</th>\n",
              "      <th>seatbelt</th>\n",
              "      <th>frontal</th>\n",
              "      <th>sex</th>\n",
              "      <th>ageOFocc</th>\n",
              "      <th>yearacc</th>\n",
              "      <th>yearVeh</th>\n",
              "      <th>abcat</th>\n",
              "      <th>occRole</th>\n",
              "      <th>deploy</th>\n",
              "      <th>injSeverity</th>\n",
              "      <th>caseid</th>\n",
              "    </tr>\n",
              "    <tr>\n",
              "      <th>Survived</th>\n",
              "      <th></th>\n",
              "      <th></th>\n",
              "      <th></th>\n",
              "      <th></th>\n",
              "      <th></th>\n",
              "      <th></th>\n",
              "      <th></th>\n",
              "      <th></th>\n",
              "      <th></th>\n",
              "      <th></th>\n",
              "      <th></th>\n",
              "      <th></th>\n",
              "      <th></th>\n",
              "      <th></th>\n",
              "    </tr>\n",
              "  </thead>\n",
              "  <tbody>\n",
              "    <tr>\n",
              "      <th>Not_Survived</th>\n",
              "      <td>1180</td>\n",
              "      <td>1180</td>\n",
              "      <td>1180</td>\n",
              "      <td>1180</td>\n",
              "      <td>1180</td>\n",
              "      <td>1180</td>\n",
              "      <td>1180</td>\n",
              "      <td>1180</td>\n",
              "      <td>1180</td>\n",
              "      <td>1180</td>\n",
              "      <td>1180</td>\n",
              "      <td>1180</td>\n",
              "      <td>1180</td>\n",
              "      <td>1180</td>\n",
              "    </tr>\n",
              "    <tr>\n",
              "      <th>survived</th>\n",
              "      <td>10037</td>\n",
              "      <td>10037</td>\n",
              "      <td>10037</td>\n",
              "      <td>10037</td>\n",
              "      <td>10037</td>\n",
              "      <td>10037</td>\n",
              "      <td>10037</td>\n",
              "      <td>10037</td>\n",
              "      <td>10037</td>\n",
              "      <td>10037</td>\n",
              "      <td>10037</td>\n",
              "      <td>10037</td>\n",
              "      <td>10037</td>\n",
              "      <td>10037</td>\n",
              "    </tr>\n",
              "  </tbody>\n",
              "</table>\n",
              "</div>\n",
              "      <button class=\"colab-df-convert\" onclick=\"convertToInteractive('df-cf3275d6-1895-4422-a027-bb0ece93562e')\"\n",
              "              title=\"Convert this dataframe to an interactive table.\"\n",
              "              style=\"display:none;\">\n",
              "\n",
              "  <svg xmlns=\"http://www.w3.org/2000/svg\" height=\"24px\"viewBox=\"0 0 24 24\"\n",
              "       width=\"24px\">\n",
              "    <path d=\"M0 0h24v24H0V0z\" fill=\"none\"/>\n",
              "    <path d=\"M18.56 5.44l.94 2.06.94-2.06 2.06-.94-2.06-.94-.94-2.06-.94 2.06-2.06.94zm-11 1L8.5 8.5l.94-2.06 2.06-.94-2.06-.94L8.5 2.5l-.94 2.06-2.06.94zm10 10l.94 2.06.94-2.06 2.06-.94-2.06-.94-.94-2.06-.94 2.06-2.06.94z\"/><path d=\"M17.41 7.96l-1.37-1.37c-.4-.4-.92-.59-1.43-.59-.52 0-1.04.2-1.43.59L10.3 9.45l-7.72 7.72c-.78.78-.78 2.05 0 2.83L4 21.41c.39.39.9.59 1.41.59.51 0 1.02-.2 1.41-.59l7.78-7.78 2.81-2.81c.8-.78.8-2.07 0-2.86zM5.41 20L4 18.59l7.72-7.72 1.47 1.35L5.41 20z\"/>\n",
              "  </svg>\n",
              "      </button>\n",
              "\n",
              "\n",
              "\n",
              "    <div id=\"df-6f87b7f8-933a-470c-9f5f-64f3555044ea\">\n",
              "      <button class=\"colab-df-quickchart\" onclick=\"quickchart('df-6f87b7f8-933a-470c-9f5f-64f3555044ea')\"\n",
              "              title=\"Suggest charts.\"\n",
              "              style=\"display:none;\">\n",
              "\n",
              "<svg xmlns=\"http://www.w3.org/2000/svg\" height=\"24px\"viewBox=\"0 0 24 24\"\n",
              "     width=\"24px\">\n",
              "    <g>\n",
              "        <path d=\"M19 3H5c-1.1 0-2 .9-2 2v14c0 1.1.9 2 2 2h14c1.1 0 2-.9 2-2V5c0-1.1-.9-2-2-2zM9 17H7v-7h2v7zm4 0h-2V7h2v10zm4 0h-2v-4h2v4z\"/>\n",
              "    </g>\n",
              "</svg>\n",
              "      </button>\n",
              "    </div>\n",
              "\n",
              "<style>\n",
              "  .colab-df-quickchart {\n",
              "    background-color: #E8F0FE;\n",
              "    border: none;\n",
              "    border-radius: 50%;\n",
              "    cursor: pointer;\n",
              "    display: none;\n",
              "    fill: #1967D2;\n",
              "    height: 32px;\n",
              "    padding: 0 0 0 0;\n",
              "    width: 32px;\n",
              "  }\n",
              "\n",
              "  .colab-df-quickchart:hover {\n",
              "    background-color: #E2EBFA;\n",
              "    box-shadow: 0px 1px 2px rgba(60, 64, 67, 0.3), 0px 1px 3px 1px rgba(60, 64, 67, 0.15);\n",
              "    fill: #174EA6;\n",
              "  }\n",
              "\n",
              "  [theme=dark] .colab-df-quickchart {\n",
              "    background-color: #3B4455;\n",
              "    fill: #D2E3FC;\n",
              "  }\n",
              "\n",
              "  [theme=dark] .colab-df-quickchart:hover {\n",
              "    background-color: #434B5C;\n",
              "    box-shadow: 0px 1px 3px 1px rgba(0, 0, 0, 0.15);\n",
              "    filter: drop-shadow(0px 1px 2px rgba(0, 0, 0, 0.3));\n",
              "    fill: #FFFFFF;\n",
              "  }\n",
              "</style>\n",
              "\n",
              "    <script>\n",
              "      async function quickchart(key) {\n",
              "        const containerElement = document.querySelector('#' + key);\n",
              "        const charts = await google.colab.kernel.invokeFunction(\n",
              "            'suggestCharts', [key], {});\n",
              "      }\n",
              "    </script>\n",
              "\n",
              "      <script>\n",
              "\n",
              "function displayQuickchartButton(domScope) {\n",
              "  let quickchartButtonEl =\n",
              "    domScope.querySelector('#df-6f87b7f8-933a-470c-9f5f-64f3555044ea button.colab-df-quickchart');\n",
              "  quickchartButtonEl.style.display =\n",
              "    google.colab.kernel.accessAllowed ? 'block' : 'none';\n",
              "}\n",
              "\n",
              "        displayQuickchartButton(document);\n",
              "      </script>\n",
              "      <style>\n",
              "    .colab-df-container {\n",
              "      display:flex;\n",
              "      flex-wrap:wrap;\n",
              "      gap: 12px;\n",
              "    }\n",
              "\n",
              "    .colab-df-convert {\n",
              "      background-color: #E8F0FE;\n",
              "      border: none;\n",
              "      border-radius: 50%;\n",
              "      cursor: pointer;\n",
              "      display: none;\n",
              "      fill: #1967D2;\n",
              "      height: 32px;\n",
              "      padding: 0 0 0 0;\n",
              "      width: 32px;\n",
              "    }\n",
              "\n",
              "    .colab-df-convert:hover {\n",
              "      background-color: #E2EBFA;\n",
              "      box-shadow: 0px 1px 2px rgba(60, 64, 67, 0.3), 0px 1px 3px 1px rgba(60, 64, 67, 0.15);\n",
              "      fill: #174EA6;\n",
              "    }\n",
              "\n",
              "    [theme=dark] .colab-df-convert {\n",
              "      background-color: #3B4455;\n",
              "      fill: #D2E3FC;\n",
              "    }\n",
              "\n",
              "    [theme=dark] .colab-df-convert:hover {\n",
              "      background-color: #434B5C;\n",
              "      box-shadow: 0px 1px 3px 1px rgba(0, 0, 0, 0.15);\n",
              "      filter: drop-shadow(0px 1px 2px rgba(0, 0, 0, 0.3));\n",
              "      fill: #FFFFFF;\n",
              "    }\n",
              "  </style>\n",
              "\n",
              "      <script>\n",
              "        const buttonEl =\n",
              "          document.querySelector('#df-cf3275d6-1895-4422-a027-bb0ece93562e button.colab-df-convert');\n",
              "        buttonEl.style.display =\n",
              "          google.colab.kernel.accessAllowed ? 'block' : 'none';\n",
              "\n",
              "        async function convertToInteractive(key) {\n",
              "          const element = document.querySelector('#df-cf3275d6-1895-4422-a027-bb0ece93562e');\n",
              "          const dataTable =\n",
              "            await google.colab.kernel.invokeFunction('convertToInteractive',\n",
              "                                                     [key], {});\n",
              "          if (!dataTable) return;\n",
              "\n",
              "          const docLinkHtml = 'Like what you see? Visit the ' +\n",
              "            '<a target=\"_blank\" href=https://colab.research.google.com/notebooks/data_table.ipynb>data table notebook</a>'\n",
              "            + ' to learn more about interactive tables.';\n",
              "          element.innerHTML = '';\n",
              "          dataTable['output_type'] = 'display_data';\n",
              "          await google.colab.output.renderOutput(dataTable, element);\n",
              "          const docLink = document.createElement('div');\n",
              "          docLink.innerHTML = docLinkHtml;\n",
              "          element.appendChild(docLink);\n",
              "        }\n",
              "      </script>\n",
              "    </div>\n",
              "  </div>\n"
            ]
          },
          "metadata": {},
          "execution_count": 98
        }
      ]
    },
    {
      "cell_type": "code",
      "source": [
        "car_df.dtypes"
      ],
      "metadata": {
        "colab": {
          "base_uri": "https://localhost:8080/"
        },
        "id": "S99ilO5Nxv4U",
        "outputId": "c0af9dfb-c321-41a7-f8ec-19ab4bf70066"
      },
      "execution_count": null,
      "outputs": [
        {
          "output_type": "execute_result",
          "data": {
            "text/plain": [
              "dvcat           object\n",
              "weight         float64\n",
              "Survived        object\n",
              "airbag          object\n",
              "seatbelt        object\n",
              "frontal          int64\n",
              "sex             object\n",
              "ageOFocc         int64\n",
              "yearacc          int64\n",
              "yearVeh        float64\n",
              "abcat           object\n",
              "occRole         object\n",
              "deploy           int64\n",
              "injSeverity    float64\n",
              "caseid          object\n",
              "dtype: object"
            ]
          },
          "metadata": {},
          "execution_count": 99
        }
      ]
    },
    {
      "cell_type": "code",
      "source": [
        "car_df['dvcat'].unique()"
      ],
      "metadata": {
        "colab": {
          "base_uri": "https://localhost:8080/"
        },
        "id": "G32Z7AGf0iuE",
        "outputId": "04b7084f-99b7-4846-9f17-287c61b03427"
      },
      "execution_count": null,
      "outputs": [
        {
          "output_type": "execute_result",
          "data": {
            "text/plain": [
              "array([4, 2, 1, 3, 0])"
            ]
          },
          "metadata": {},
          "execution_count": 146
        }
      ]
    },
    {
      "cell_type": "code",
      "source": [
        "car_df['dvcat'] = car_df['dvcat'].replace(['1-9km/h'], ['1-9'])"
      ],
      "metadata": {
        "id": "K6BeT9adt7sG"
      },
      "execution_count": null,
      "outputs": []
    },
    {
      "cell_type": "code",
      "source": [
        "car_df['dvcat'].unique()"
      ],
      "metadata": {
        "colab": {
          "base_uri": "https://localhost:8080/"
        },
        "id": "mead2QNbt9F7",
        "outputId": "198a4fd2-c81c-43a6-95af-a90619de0316"
      },
      "execution_count": null,
      "outputs": [
        {
          "output_type": "execute_result",
          "data": {
            "text/plain": [
              "array([4, 2, 1, 3, 0])"
            ]
          },
          "metadata": {},
          "execution_count": 148
        }
      ]
    },
    {
      "cell_type": "code",
      "source": [
        "car_df['Survived'].unique()"
      ],
      "metadata": {
        "colab": {
          "base_uri": "https://localhost:8080/"
        },
        "id": "pn0GYBsnoZZk",
        "outputId": "e2985608-7752-4dbd-80b6-a1c26f8c85c0"
      },
      "execution_count": null,
      "outputs": [
        {
          "output_type": "execute_result",
          "data": {
            "text/plain": [
              "array([0, 1])"
            ]
          },
          "metadata": {},
          "execution_count": 149
        }
      ]
    },
    {
      "cell_type": "code",
      "source": [
        "car_df['Survived'].replace({'survived': 1,'Not_Survived': 0}, inplace = True)"
      ],
      "metadata": {
        "id": "BUznNECws3xW"
      },
      "execution_count": null,
      "outputs": []
    },
    {
      "cell_type": "code",
      "source": [
        "car_df['airbag'].unique()"
      ],
      "metadata": {
        "colab": {
          "base_uri": "https://localhost:8080/"
        },
        "id": "bbOlSCWos8RY",
        "outputId": "eca75259-284b-4409-f421-00a6c1758e5f"
      },
      "execution_count": null,
      "outputs": [
        {
          "output_type": "execute_result",
          "data": {
            "text/plain": [
              "array([1, 0])"
            ]
          },
          "metadata": {},
          "execution_count": 151
        }
      ]
    },
    {
      "cell_type": "code",
      "source": [
        "car_df['airbag'].replace({'none': 1, 'airbag': 0}, inplace= True)"
      ],
      "metadata": {
        "id": "bqrb8smMtCde"
      },
      "execution_count": null,
      "outputs": []
    },
    {
      "cell_type": "code",
      "source": [
        "car_df['seatbelt'].unique()"
      ],
      "metadata": {
        "colab": {
          "base_uri": "https://localhost:8080/"
        },
        "id": "OTmb8QB_tFoz",
        "outputId": "7e13cb0e-b234-4725-ccd8-e00682045d94"
      },
      "execution_count": null,
      "outputs": [
        {
          "output_type": "execute_result",
          "data": {
            "text/plain": [
              "array([1, 0])"
            ]
          },
          "metadata": {},
          "execution_count": 153
        }
      ]
    },
    {
      "cell_type": "code",
      "source": [
        "car_df['seatbelt'].replace({'none': 1, 'belted': 0}, inplace= True)"
      ],
      "metadata": {
        "id": "GeH9hAl4tIq3"
      },
      "execution_count": null,
      "outputs": []
    },
    {
      "cell_type": "code",
      "source": [
        "car_df['sex'].unique()"
      ],
      "metadata": {
        "colab": {
          "base_uri": "https://localhost:8080/"
        },
        "id": "y68HdKAVtM7r",
        "outputId": "2e5d2439-fe3d-4b4e-c075-b48aa9d73ba9"
      },
      "execution_count": null,
      "outputs": [
        {
          "output_type": "execute_result",
          "data": {
            "text/plain": [
              "array([1, 0])"
            ]
          },
          "metadata": {},
          "execution_count": 155
        }
      ]
    },
    {
      "cell_type": "code",
      "source": [
        "car_df['sex'].replace({'m': 1, 'f': 0}, inplace= True)"
      ],
      "metadata": {
        "id": "VZ_inJzgtQ6Q"
      },
      "execution_count": null,
      "outputs": []
    },
    {
      "cell_type": "code",
      "source": [
        "car_df['abcat'].unique()"
      ],
      "metadata": {
        "colab": {
          "base_uri": "https://localhost:8080/"
        },
        "id": "dV8zn2uKtUIp",
        "outputId": "870f0c7c-ed5a-4cbc-8e9f-6ae162165b53"
      },
      "execution_count": null,
      "outputs": [
        {
          "output_type": "execute_result",
          "data": {
            "text/plain": [
              "array([2, 1, 0])"
            ]
          },
          "metadata": {},
          "execution_count": 157
        }
      ]
    },
    {
      "cell_type": "code",
      "source": [
        "car_df['occRole'].unique()"
      ],
      "metadata": {
        "colab": {
          "base_uri": "https://localhost:8080/"
        },
        "id": "kRb9a1gStW-Z",
        "outputId": "f7ec0080-8cfc-4dd2-c7c7-f2f0198afffa"
      },
      "execution_count": null,
      "outputs": [
        {
          "output_type": "execute_result",
          "data": {
            "text/plain": [
              "array([1, 0])"
            ]
          },
          "metadata": {},
          "execution_count": 158
        }
      ]
    },
    {
      "cell_type": "code",
      "source": [
        "car_df['occRole'].replace({'driver': 1, 'pass': 0}, inplace= True)"
      ],
      "metadata": {
        "id": "FUUR14p3tZy8"
      },
      "execution_count": null,
      "outputs": []
    },
    {
      "cell_type": "code",
      "source": [
        "car_df.info()"
      ],
      "metadata": {
        "colab": {
          "base_uri": "https://localhost:8080/"
        },
        "id": "haU7iJq5tk23",
        "outputId": "7bd06201-bdd6-40a9-eb1a-8323da26408d"
      },
      "execution_count": null,
      "outputs": [
        {
          "output_type": "stream",
          "name": "stdout",
          "text": [
            "<class 'pandas.core.frame.DataFrame'>\n",
            "RangeIndex: 11217 entries, 0 to 11216\n",
            "Data columns (total 14 columns):\n",
            " #   Column       Non-Null Count  Dtype  \n",
            "---  ------       --------------  -----  \n",
            " 0   dvcat        11217 non-null  int64  \n",
            " 1   weight       11217 non-null  float64\n",
            " 2   Survived     11217 non-null  int64  \n",
            " 3   airbag       11217 non-null  int64  \n",
            " 4   seatbelt     11217 non-null  int64  \n",
            " 5   frontal      11217 non-null  int64  \n",
            " 6   sex          11217 non-null  int64  \n",
            " 7   ageOFocc     11217 non-null  int64  \n",
            " 8   yearacc      11217 non-null  int64  \n",
            " 9   yearVeh      11217 non-null  float64\n",
            " 10  abcat        11217 non-null  int64  \n",
            " 11  occRole      11217 non-null  int64  \n",
            " 12  deploy       11217 non-null  int64  \n",
            " 13  injSeverity  11217 non-null  float64\n",
            "dtypes: float64(3), int64(11)\n",
            "memory usage: 1.2 MB\n"
          ]
        }
      ]
    },
    {
      "cell_type": "code",
      "source": [
        "from sklearn.preprocessing import LabelEncoder"
      ],
      "metadata": {
        "id": "-TjIPJpYtyV8"
      },
      "execution_count": null,
      "outputs": []
    },
    {
      "cell_type": "code",
      "source": [
        "le = LabelEncoder()"
      ],
      "metadata": {
        "id": "j3PonHvxvmwb"
      },
      "execution_count": null,
      "outputs": []
    },
    {
      "cell_type": "code",
      "source": [
        "car_df['dvcat']=le.fit_transform(car_df['dvcat'])"
      ],
      "metadata": {
        "id": "4FDXsHssvpVg"
      },
      "execution_count": null,
      "outputs": []
    },
    {
      "cell_type": "code",
      "source": [
        "car_df['abcat']=le.fit_transform(car_df['abcat'])"
      ],
      "metadata": {
        "id": "xP92ULOWvsVC"
      },
      "execution_count": null,
      "outputs": []
    },
    {
      "cell_type": "code",
      "source": [
        "car_df.info()"
      ],
      "metadata": {
        "colab": {
          "base_uri": "https://localhost:8080/"
        },
        "id": "aIrw8EGLvvhy",
        "outputId": "92398cca-f4c7-46cf-c38b-1e50c36b756a"
      },
      "execution_count": null,
      "outputs": [
        {
          "output_type": "stream",
          "name": "stdout",
          "text": [
            "<class 'pandas.core.frame.DataFrame'>\n",
            "RangeIndex: 11217 entries, 0 to 11216\n",
            "Data columns (total 14 columns):\n",
            " #   Column       Non-Null Count  Dtype  \n",
            "---  ------       --------------  -----  \n",
            " 0   dvcat        11217 non-null  int64  \n",
            " 1   weight       11217 non-null  float64\n",
            " 2   Survived     11217 non-null  int64  \n",
            " 3   airbag       11217 non-null  int64  \n",
            " 4   seatbelt     11217 non-null  int64  \n",
            " 5   frontal      11217 non-null  int64  \n",
            " 6   sex          11217 non-null  int64  \n",
            " 7   ageOFocc     11217 non-null  int64  \n",
            " 8   yearacc      11217 non-null  int64  \n",
            " 9   yearVeh      11217 non-null  float64\n",
            " 10  abcat        11217 non-null  int64  \n",
            " 11  occRole      11217 non-null  int64  \n",
            " 12  deploy       11217 non-null  int64  \n",
            " 13  injSeverity  11217 non-null  float64\n",
            "dtypes: float64(3), int64(11)\n",
            "memory usage: 1.2 MB\n"
          ]
        }
      ]
    },
    {
      "cell_type": "code",
      "source": [
        "car_df.drop(['caseid'],axis = 1,inplace= True)"
      ],
      "metadata": {
        "id": "Ipcx6zgbvzCB"
      },
      "execution_count": 3,
      "outputs": []
    },
    {
      "cell_type": "code",
      "source": [
        "car_df.corr()"
      ],
      "metadata": {
        "colab": {
          "base_uri": "https://localhost:8080/",
          "height": 552
        },
        "id": "pwV84C4av5-3",
        "outputId": "dbdb6406-8f5f-418b-e13e-75c9648d928a"
      },
      "execution_count": null,
      "outputs": [
        {
          "output_type": "execute_result",
          "data": {
            "text/plain": [
              "                dvcat    weight  Survived    airbag  seatbelt   frontal  \\\n",
              "dvcat        1.000000 -0.145590 -0.415593  0.160533  0.205410  0.051341   \n",
              "weight      -0.145590  1.000000  0.091640  0.003574 -0.078739  0.000659   \n",
              "Survived    -0.415593  0.091640  1.000000 -0.139679 -0.206467  0.107990   \n",
              "airbag       0.160533  0.003574 -0.139679  1.000000  0.157501  0.050272   \n",
              "seatbelt     0.205410 -0.078739 -0.206467  0.157501  1.000000  0.066590   \n",
              "frontal      0.051341  0.000659  0.107990  0.050272  0.066590  1.000000   \n",
              "sex          0.075768 -0.006471 -0.046499  0.092886  0.117071  0.055639   \n",
              "ageOFocc    -0.033358 -0.040111 -0.135473 -0.025109 -0.066066 -0.048856   \n",
              "yearacc     -0.233494  0.056892  0.549885 -0.181478 -0.149208  0.059768   \n",
              "yearVeh     -0.166158 -0.015226  0.165096 -0.766181 -0.180534 -0.024267   \n",
              "abcat        0.057847  0.038795 -0.107829  0.896724  0.111991 -0.117856   \n",
              "occRole      0.015879  0.000219  0.023460 -0.086011 -0.047712  0.033721   \n",
              "deploy       0.055622 -0.065783  0.054346 -0.611983 -0.044132  0.260388   \n",
              "injSeverity  0.469143 -0.220659 -0.517637  0.124394  0.283063 -0.053709   \n",
              "\n",
              "                  sex  ageOFocc   yearacc   yearVeh     abcat   occRole  \\\n",
              "dvcat        0.075768 -0.033358 -0.233494 -0.166158  0.057847  0.015879   \n",
              "weight      -0.006471 -0.040111  0.056892 -0.015226  0.038795  0.000219   \n",
              "Survived    -0.046499 -0.135473  0.549885  0.165096 -0.107829  0.023460   \n",
              "airbag       0.092886 -0.025109 -0.181478 -0.766181  0.896724 -0.086011   \n",
              "seatbelt     0.117071 -0.066066 -0.149208 -0.180534  0.111991 -0.047712   \n",
              "frontal      0.055639 -0.048856  0.059768 -0.024267 -0.117856  0.033721   \n",
              "sex          1.000000 -0.063575 -0.025957 -0.097390  0.071708  0.116228   \n",
              "ageOFocc    -0.063575  1.000000 -0.072271 -0.002070 -0.008569  0.052485   \n",
              "yearacc     -0.025957 -0.072271  1.000000  0.247743 -0.151650  0.018217   \n",
              "yearVeh     -0.097390 -0.002070  0.247743  1.000000 -0.677852  0.018416   \n",
              "abcat        0.071708 -0.008569 -0.151650 -0.677852  1.000000 -0.094860   \n",
              "occRole      0.116228  0.052485  0.018217  0.018416 -0.094860  1.000000   \n",
              "deploy      -0.036143 -0.009556  0.091252  0.452448 -0.898811  0.084323   \n",
              "injSeverity -0.021284  0.123495 -0.300495 -0.138475  0.048724 -0.018918   \n",
              "\n",
              "               deploy  injSeverity  \n",
              "dvcat        0.055622     0.469143  \n",
              "weight      -0.065783    -0.220659  \n",
              "Survived     0.054346    -0.517637  \n",
              "airbag      -0.611983     0.124394  \n",
              "seatbelt    -0.044132     0.283063  \n",
              "frontal      0.260388    -0.053709  \n",
              "sex         -0.036143    -0.021284  \n",
              "ageOFocc    -0.009556     0.123495  \n",
              "yearacc      0.091252    -0.300495  \n",
              "yearVeh      0.452448    -0.138475  \n",
              "abcat       -0.898811     0.048724  \n",
              "occRole      0.084323    -0.018918  \n",
              "deploy       1.000000     0.036133  \n",
              "injSeverity  0.036133     1.000000  "
            ],
            "text/html": [
              "\n",
              "\n",
              "  <div id=\"df-f28ce0dc-d9ca-490d-b745-a9cb2d8ae282\">\n",
              "    <div class=\"colab-df-container\">\n",
              "      <div>\n",
              "<style scoped>\n",
              "    .dataframe tbody tr th:only-of-type {\n",
              "        vertical-align: middle;\n",
              "    }\n",
              "\n",
              "    .dataframe tbody tr th {\n",
              "        vertical-align: top;\n",
              "    }\n",
              "\n",
              "    .dataframe thead th {\n",
              "        text-align: right;\n",
              "    }\n",
              "</style>\n",
              "<table border=\"1\" class=\"dataframe\">\n",
              "  <thead>\n",
              "    <tr style=\"text-align: right;\">\n",
              "      <th></th>\n",
              "      <th>dvcat</th>\n",
              "      <th>weight</th>\n",
              "      <th>Survived</th>\n",
              "      <th>airbag</th>\n",
              "      <th>seatbelt</th>\n",
              "      <th>frontal</th>\n",
              "      <th>sex</th>\n",
              "      <th>ageOFocc</th>\n",
              "      <th>yearacc</th>\n",
              "      <th>yearVeh</th>\n",
              "      <th>abcat</th>\n",
              "      <th>occRole</th>\n",
              "      <th>deploy</th>\n",
              "      <th>injSeverity</th>\n",
              "    </tr>\n",
              "  </thead>\n",
              "  <tbody>\n",
              "    <tr>\n",
              "      <th>dvcat</th>\n",
              "      <td>1.000000</td>\n",
              "      <td>-0.145590</td>\n",
              "      <td>-0.415593</td>\n",
              "      <td>0.160533</td>\n",
              "      <td>0.205410</td>\n",
              "      <td>0.051341</td>\n",
              "      <td>0.075768</td>\n",
              "      <td>-0.033358</td>\n",
              "      <td>-0.233494</td>\n",
              "      <td>-0.166158</td>\n",
              "      <td>0.057847</td>\n",
              "      <td>0.015879</td>\n",
              "      <td>0.055622</td>\n",
              "      <td>0.469143</td>\n",
              "    </tr>\n",
              "    <tr>\n",
              "      <th>weight</th>\n",
              "      <td>-0.145590</td>\n",
              "      <td>1.000000</td>\n",
              "      <td>0.091640</td>\n",
              "      <td>0.003574</td>\n",
              "      <td>-0.078739</td>\n",
              "      <td>0.000659</td>\n",
              "      <td>-0.006471</td>\n",
              "      <td>-0.040111</td>\n",
              "      <td>0.056892</td>\n",
              "      <td>-0.015226</td>\n",
              "      <td>0.038795</td>\n",
              "      <td>0.000219</td>\n",
              "      <td>-0.065783</td>\n",
              "      <td>-0.220659</td>\n",
              "    </tr>\n",
              "    <tr>\n",
              "      <th>Survived</th>\n",
              "      <td>-0.415593</td>\n",
              "      <td>0.091640</td>\n",
              "      <td>1.000000</td>\n",
              "      <td>-0.139679</td>\n",
              "      <td>-0.206467</td>\n",
              "      <td>0.107990</td>\n",
              "      <td>-0.046499</td>\n",
              "      <td>-0.135473</td>\n",
              "      <td>0.549885</td>\n",
              "      <td>0.165096</td>\n",
              "      <td>-0.107829</td>\n",
              "      <td>0.023460</td>\n",
              "      <td>0.054346</td>\n",
              "      <td>-0.517637</td>\n",
              "    </tr>\n",
              "    <tr>\n",
              "      <th>airbag</th>\n",
              "      <td>0.160533</td>\n",
              "      <td>0.003574</td>\n",
              "      <td>-0.139679</td>\n",
              "      <td>1.000000</td>\n",
              "      <td>0.157501</td>\n",
              "      <td>0.050272</td>\n",
              "      <td>0.092886</td>\n",
              "      <td>-0.025109</td>\n",
              "      <td>-0.181478</td>\n",
              "      <td>-0.766181</td>\n",
              "      <td>0.896724</td>\n",
              "      <td>-0.086011</td>\n",
              "      <td>-0.611983</td>\n",
              "      <td>0.124394</td>\n",
              "    </tr>\n",
              "    <tr>\n",
              "      <th>seatbelt</th>\n",
              "      <td>0.205410</td>\n",
              "      <td>-0.078739</td>\n",
              "      <td>-0.206467</td>\n",
              "      <td>0.157501</td>\n",
              "      <td>1.000000</td>\n",
              "      <td>0.066590</td>\n",
              "      <td>0.117071</td>\n",
              "      <td>-0.066066</td>\n",
              "      <td>-0.149208</td>\n",
              "      <td>-0.180534</td>\n",
              "      <td>0.111991</td>\n",
              "      <td>-0.047712</td>\n",
              "      <td>-0.044132</td>\n",
              "      <td>0.283063</td>\n",
              "    </tr>\n",
              "    <tr>\n",
              "      <th>frontal</th>\n",
              "      <td>0.051341</td>\n",
              "      <td>0.000659</td>\n",
              "      <td>0.107990</td>\n",
              "      <td>0.050272</td>\n",
              "      <td>0.066590</td>\n",
              "      <td>1.000000</td>\n",
              "      <td>0.055639</td>\n",
              "      <td>-0.048856</td>\n",
              "      <td>0.059768</td>\n",
              "      <td>-0.024267</td>\n",
              "      <td>-0.117856</td>\n",
              "      <td>0.033721</td>\n",
              "      <td>0.260388</td>\n",
              "      <td>-0.053709</td>\n",
              "    </tr>\n",
              "    <tr>\n",
              "      <th>sex</th>\n",
              "      <td>0.075768</td>\n",
              "      <td>-0.006471</td>\n",
              "      <td>-0.046499</td>\n",
              "      <td>0.092886</td>\n",
              "      <td>0.117071</td>\n",
              "      <td>0.055639</td>\n",
              "      <td>1.000000</td>\n",
              "      <td>-0.063575</td>\n",
              "      <td>-0.025957</td>\n",
              "      <td>-0.097390</td>\n",
              "      <td>0.071708</td>\n",
              "      <td>0.116228</td>\n",
              "      <td>-0.036143</td>\n",
              "      <td>-0.021284</td>\n",
              "    </tr>\n",
              "    <tr>\n",
              "      <th>ageOFocc</th>\n",
              "      <td>-0.033358</td>\n",
              "      <td>-0.040111</td>\n",
              "      <td>-0.135473</td>\n",
              "      <td>-0.025109</td>\n",
              "      <td>-0.066066</td>\n",
              "      <td>-0.048856</td>\n",
              "      <td>-0.063575</td>\n",
              "      <td>1.000000</td>\n",
              "      <td>-0.072271</td>\n",
              "      <td>-0.002070</td>\n",
              "      <td>-0.008569</td>\n",
              "      <td>0.052485</td>\n",
              "      <td>-0.009556</td>\n",
              "      <td>0.123495</td>\n",
              "    </tr>\n",
              "    <tr>\n",
              "      <th>yearacc</th>\n",
              "      <td>-0.233494</td>\n",
              "      <td>0.056892</td>\n",
              "      <td>0.549885</td>\n",
              "      <td>-0.181478</td>\n",
              "      <td>-0.149208</td>\n",
              "      <td>0.059768</td>\n",
              "      <td>-0.025957</td>\n",
              "      <td>-0.072271</td>\n",
              "      <td>1.000000</td>\n",
              "      <td>0.247743</td>\n",
              "      <td>-0.151650</td>\n",
              "      <td>0.018217</td>\n",
              "      <td>0.091252</td>\n",
              "      <td>-0.300495</td>\n",
              "    </tr>\n",
              "    <tr>\n",
              "      <th>yearVeh</th>\n",
              "      <td>-0.166158</td>\n",
              "      <td>-0.015226</td>\n",
              "      <td>0.165096</td>\n",
              "      <td>-0.766181</td>\n",
              "      <td>-0.180534</td>\n",
              "      <td>-0.024267</td>\n",
              "      <td>-0.097390</td>\n",
              "      <td>-0.002070</td>\n",
              "      <td>0.247743</td>\n",
              "      <td>1.000000</td>\n",
              "      <td>-0.677852</td>\n",
              "      <td>0.018416</td>\n",
              "      <td>0.452448</td>\n",
              "      <td>-0.138475</td>\n",
              "    </tr>\n",
              "    <tr>\n",
              "      <th>abcat</th>\n",
              "      <td>0.057847</td>\n",
              "      <td>0.038795</td>\n",
              "      <td>-0.107829</td>\n",
              "      <td>0.896724</td>\n",
              "      <td>0.111991</td>\n",
              "      <td>-0.117856</td>\n",
              "      <td>0.071708</td>\n",
              "      <td>-0.008569</td>\n",
              "      <td>-0.151650</td>\n",
              "      <td>-0.677852</td>\n",
              "      <td>1.000000</td>\n",
              "      <td>-0.094860</td>\n",
              "      <td>-0.898811</td>\n",
              "      <td>0.048724</td>\n",
              "    </tr>\n",
              "    <tr>\n",
              "      <th>occRole</th>\n",
              "      <td>0.015879</td>\n",
              "      <td>0.000219</td>\n",
              "      <td>0.023460</td>\n",
              "      <td>-0.086011</td>\n",
              "      <td>-0.047712</td>\n",
              "      <td>0.033721</td>\n",
              "      <td>0.116228</td>\n",
              "      <td>0.052485</td>\n",
              "      <td>0.018217</td>\n",
              "      <td>0.018416</td>\n",
              "      <td>-0.094860</td>\n",
              "      <td>1.000000</td>\n",
              "      <td>0.084323</td>\n",
              "      <td>-0.018918</td>\n",
              "    </tr>\n",
              "    <tr>\n",
              "      <th>deploy</th>\n",
              "      <td>0.055622</td>\n",
              "      <td>-0.065783</td>\n",
              "      <td>0.054346</td>\n",
              "      <td>-0.611983</td>\n",
              "      <td>-0.044132</td>\n",
              "      <td>0.260388</td>\n",
              "      <td>-0.036143</td>\n",
              "      <td>-0.009556</td>\n",
              "      <td>0.091252</td>\n",
              "      <td>0.452448</td>\n",
              "      <td>-0.898811</td>\n",
              "      <td>0.084323</td>\n",
              "      <td>1.000000</td>\n",
              "      <td>0.036133</td>\n",
              "    </tr>\n",
              "    <tr>\n",
              "      <th>injSeverity</th>\n",
              "      <td>0.469143</td>\n",
              "      <td>-0.220659</td>\n",
              "      <td>-0.517637</td>\n",
              "      <td>0.124394</td>\n",
              "      <td>0.283063</td>\n",
              "      <td>-0.053709</td>\n",
              "      <td>-0.021284</td>\n",
              "      <td>0.123495</td>\n",
              "      <td>-0.300495</td>\n",
              "      <td>-0.138475</td>\n",
              "      <td>0.048724</td>\n",
              "      <td>-0.018918</td>\n",
              "      <td>0.036133</td>\n",
              "      <td>1.000000</td>\n",
              "    </tr>\n",
              "  </tbody>\n",
              "</table>\n",
              "</div>\n",
              "      <button class=\"colab-df-convert\" onclick=\"convertToInteractive('df-f28ce0dc-d9ca-490d-b745-a9cb2d8ae282')\"\n",
              "              title=\"Convert this dataframe to an interactive table.\"\n",
              "              style=\"display:none;\">\n",
              "\n",
              "  <svg xmlns=\"http://www.w3.org/2000/svg\" height=\"24px\"viewBox=\"0 0 24 24\"\n",
              "       width=\"24px\">\n",
              "    <path d=\"M0 0h24v24H0V0z\" fill=\"none\"/>\n",
              "    <path d=\"M18.56 5.44l.94 2.06.94-2.06 2.06-.94-2.06-.94-.94-2.06-.94 2.06-2.06.94zm-11 1L8.5 8.5l.94-2.06 2.06-.94-2.06-.94L8.5 2.5l-.94 2.06-2.06.94zm10 10l.94 2.06.94-2.06 2.06-.94-2.06-.94-.94-2.06-.94 2.06-2.06.94z\"/><path d=\"M17.41 7.96l-1.37-1.37c-.4-.4-.92-.59-1.43-.59-.52 0-1.04.2-1.43.59L10.3 9.45l-7.72 7.72c-.78.78-.78 2.05 0 2.83L4 21.41c.39.39.9.59 1.41.59.51 0 1.02-.2 1.41-.59l7.78-7.78 2.81-2.81c.8-.78.8-2.07 0-2.86zM5.41 20L4 18.59l7.72-7.72 1.47 1.35L5.41 20z\"/>\n",
              "  </svg>\n",
              "      </button>\n",
              "\n",
              "\n",
              "\n",
              "    <div id=\"df-5916aeae-6554-47b9-a8a9-96ba364ee90e\">\n",
              "      <button class=\"colab-df-quickchart\" onclick=\"quickchart('df-5916aeae-6554-47b9-a8a9-96ba364ee90e')\"\n",
              "              title=\"Suggest charts.\"\n",
              "              style=\"display:none;\">\n",
              "\n",
              "<svg xmlns=\"http://www.w3.org/2000/svg\" height=\"24px\"viewBox=\"0 0 24 24\"\n",
              "     width=\"24px\">\n",
              "    <g>\n",
              "        <path d=\"M19 3H5c-1.1 0-2 .9-2 2v14c0 1.1.9 2 2 2h14c1.1 0 2-.9 2-2V5c0-1.1-.9-2-2-2zM9 17H7v-7h2v7zm4 0h-2V7h2v10zm4 0h-2v-4h2v4z\"/>\n",
              "    </g>\n",
              "</svg>\n",
              "      </button>\n",
              "    </div>\n",
              "\n",
              "<style>\n",
              "  .colab-df-quickchart {\n",
              "    background-color: #E8F0FE;\n",
              "    border: none;\n",
              "    border-radius: 50%;\n",
              "    cursor: pointer;\n",
              "    display: none;\n",
              "    fill: #1967D2;\n",
              "    height: 32px;\n",
              "    padding: 0 0 0 0;\n",
              "    width: 32px;\n",
              "  }\n",
              "\n",
              "  .colab-df-quickchart:hover {\n",
              "    background-color: #E2EBFA;\n",
              "    box-shadow: 0px 1px 2px rgba(60, 64, 67, 0.3), 0px 1px 3px 1px rgba(60, 64, 67, 0.15);\n",
              "    fill: #174EA6;\n",
              "  }\n",
              "\n",
              "  [theme=dark] .colab-df-quickchart {\n",
              "    background-color: #3B4455;\n",
              "    fill: #D2E3FC;\n",
              "  }\n",
              "\n",
              "  [theme=dark] .colab-df-quickchart:hover {\n",
              "    background-color: #434B5C;\n",
              "    box-shadow: 0px 1px 3px 1px rgba(0, 0, 0, 0.15);\n",
              "    filter: drop-shadow(0px 1px 2px rgba(0, 0, 0, 0.3));\n",
              "    fill: #FFFFFF;\n",
              "  }\n",
              "</style>\n",
              "\n",
              "    <script>\n",
              "      async function quickchart(key) {\n",
              "        const containerElement = document.querySelector('#' + key);\n",
              "        const charts = await google.colab.kernel.invokeFunction(\n",
              "            'suggestCharts', [key], {});\n",
              "      }\n",
              "    </script>\n",
              "\n",
              "      <script>\n",
              "\n",
              "function displayQuickchartButton(domScope) {\n",
              "  let quickchartButtonEl =\n",
              "    domScope.querySelector('#df-5916aeae-6554-47b9-a8a9-96ba364ee90e button.colab-df-quickchart');\n",
              "  quickchartButtonEl.style.display =\n",
              "    google.colab.kernel.accessAllowed ? 'block' : 'none';\n",
              "}\n",
              "\n",
              "        displayQuickchartButton(document);\n",
              "      </script>\n",
              "      <style>\n",
              "    .colab-df-container {\n",
              "      display:flex;\n",
              "      flex-wrap:wrap;\n",
              "      gap: 12px;\n",
              "    }\n",
              "\n",
              "    .colab-df-convert {\n",
              "      background-color: #E8F0FE;\n",
              "      border: none;\n",
              "      border-radius: 50%;\n",
              "      cursor: pointer;\n",
              "      display: none;\n",
              "      fill: #1967D2;\n",
              "      height: 32px;\n",
              "      padding: 0 0 0 0;\n",
              "      width: 32px;\n",
              "    }\n",
              "\n",
              "    .colab-df-convert:hover {\n",
              "      background-color: #E2EBFA;\n",
              "      box-shadow: 0px 1px 2px rgba(60, 64, 67, 0.3), 0px 1px 3px 1px rgba(60, 64, 67, 0.15);\n",
              "      fill: #174EA6;\n",
              "    }\n",
              "\n",
              "    [theme=dark] .colab-df-convert {\n",
              "      background-color: #3B4455;\n",
              "      fill: #D2E3FC;\n",
              "    }\n",
              "\n",
              "    [theme=dark] .colab-df-convert:hover {\n",
              "      background-color: #434B5C;\n",
              "      box-shadow: 0px 1px 3px 1px rgba(0, 0, 0, 0.15);\n",
              "      filter: drop-shadow(0px 1px 2px rgba(0, 0, 0, 0.3));\n",
              "      fill: #FFFFFF;\n",
              "    }\n",
              "  </style>\n",
              "\n",
              "      <script>\n",
              "        const buttonEl =\n",
              "          document.querySelector('#df-f28ce0dc-d9ca-490d-b745-a9cb2d8ae282 button.colab-df-convert');\n",
              "        buttonEl.style.display =\n",
              "          google.colab.kernel.accessAllowed ? 'block' : 'none';\n",
              "\n",
              "        async function convertToInteractive(key) {\n",
              "          const element = document.querySelector('#df-f28ce0dc-d9ca-490d-b745-a9cb2d8ae282');\n",
              "          const dataTable =\n",
              "            await google.colab.kernel.invokeFunction('convertToInteractive',\n",
              "                                                     [key], {});\n",
              "          if (!dataTable) return;\n",
              "\n",
              "          const docLinkHtml = 'Like what you see? Visit the ' +\n",
              "            '<a target=\"_blank\" href=https://colab.research.google.com/notebooks/data_table.ipynb>data table notebook</a>'\n",
              "            + ' to learn more about interactive tables.';\n",
              "          element.innerHTML = '';\n",
              "          dataTable['output_type'] = 'display_data';\n",
              "          await google.colab.output.renderOutput(dataTable, element);\n",
              "          const docLink = document.createElement('div');\n",
              "          docLink.innerHTML = docLinkHtml;\n",
              "          element.appendChild(docLink);\n",
              "        }\n",
              "      </script>\n",
              "    </div>\n",
              "  </div>\n"
            ]
          },
          "metadata": {},
          "execution_count": 167
        }
      ]
    },
    {
      "cell_type": "code",
      "source": [
        "plt.figure(figsize=(20,10))\n",
        "sns.heatmap(car_df.corr(),annot = True)"
      ],
      "metadata": {
        "colab": {
          "base_uri": "https://localhost:8080/",
          "height": 662
        },
        "id": "wEnh2SONv-W7",
        "outputId": "1e5b9c3a-b942-4df5-c308-9a1a237cd440"
      },
      "execution_count": null,
      "outputs": [
        {
          "output_type": "execute_result",
          "data": {
            "text/plain": [
              "<Axes: >"
            ]
          },
          "metadata": {},
          "execution_count": 168
        },
        {
          "output_type": "display_data",
          "data": {
            "text/plain": [
              "<Figure size 2000x1000 with 2 Axes>"
            ],
            "image/png": "[encoded data removed]"
          },
          "metadata": {}
        }
      ]
    },
    {
      "cell_type": "code",
      "source": [
        "sns.countplot(x= car_df[\"dvcat\"])"
      ],
      "metadata": {
        "colab": {
          "base_uri": "https://localhost:8080/",
          "height": 466
        },
        "id": "VDsUYkkJ8S_-",
        "outputId": "d540e226-f547-4f32-9530-572a2b19b9c7"
      },
      "execution_count": null,
      "outputs": [
        {
          "output_type": "execute_result",
          "data": {
            "text/plain": [
              "<Axes: xlabel='dvcat', ylabel='count'>"
            ]
          },
          "metadata": {},
          "execution_count": 169
        },
        {
          "output_type": "display_data",
          "data": {
            "text/plain": [
              "<Figure size 640x480 with 1 Axes>"
            ],
            "image/png": "[encoded data removed]"
          },
          "metadata": {}
        }
      ]
    },
    {
      "cell_type": "code",
      "source": [
        "sns.countplot(x= car_df[\"airbag\"])"
      ],
      "metadata": {
        "colab": {
          "base_uri": "https://localhost:8080/",
          "height": 466
        },
        "id": "75EF9vy3AwTg",
        "outputId": "7462db6c-2a7b-495e-e6d4-b8df960504d3"
      },
      "execution_count": null,
      "outputs": [
        {
          "output_type": "execute_result",
          "data": {
            "text/plain": [
              "<Axes: xlabel='airbag', ylabel='count'>"
            ]
          },
          "metadata": {},
          "execution_count": 170
        },
        {
          "output_type": "display_data",
          "data": {
            "text/plain": [
              "<Figure size 640x480 with 1 Axes>"
            ],
            "image/png": "[encoded data removed]"
          },
          "metadata": {}
        }
      ]
    },
    {
      "cell_type": "code",
      "source": [
        "sns.countplot(x= car_df[\"seatbelt\"])"
      ],
      "metadata": {
        "colab": {
          "base_uri": "https://localhost:8080/",
          "height": 466
        },
        "id": "wdEP0ubJA3-r",
        "outputId": "92cc718a-e6ed-4b2d-fd64-40a10ccb41fb"
      },
      "execution_count": null,
      "outputs": [
        {
          "output_type": "execute_result",
          "data": {
            "text/plain": [
              "<Axes: xlabel='seatbelt', ylabel='count'>"
            ]
          },
          "metadata": {},
          "execution_count": 171
        },
        {
          "output_type": "display_data",
          "data": {
            "text/plain": [
              "<Figure size 640x480 with 1 Axes>"
            ],
            "image/png": "[encoded data removed]"
          },
          "metadata": {}
        }
      ]
    },
    {
      "cell_type": "code",
      "source": [
        "sns.countplot(x= car_df[\"frontal\"])"
      ],
      "metadata": {
        "colab": {
          "base_uri": "https://localhost:8080/",
          "height": 466
        },
        "id": "ICfRaQMPGjf_",
        "outputId": "ea5ab5e1-ce01-4e04-a44f-ab3ad7d0810a"
      },
      "execution_count": null,
      "outputs": [
        {
          "output_type": "execute_result",
          "data": {
            "text/plain": [
              "<Axes: xlabel='frontal', ylabel='count'>"
            ]
          },
          "metadata": {},
          "execution_count": 172
        },
        {
          "output_type": "display_data",
          "data": {
            "text/plain": [
              "<Figure size 640x480 with 1 Axes>"
            ],
            "image/png": "[encoded data removed]"
          },
          "metadata": {}
        }
      ]
    },
    {
      "cell_type": "code",
      "source": [
        "sns.countplot(x= car_df[\"sex\"])"
      ],
      "metadata": {
        "colab": {
          "base_uri": "https://localhost:8080/",
          "height": 466
        },
        "id": "6mY92QM6GmUj",
        "outputId": "c2060cd3-8134-4ef8-d7c2-6de6e1a125b7"
      },
      "execution_count": null,
      "outputs": [
        {
          "output_type": "execute_result",
          "data": {
            "text/plain": [
              "<Axes: xlabel='sex', ylabel='count'>"
            ]
          },
          "metadata": {},
          "execution_count": 173
        },
        {
          "output_type": "display_data",
          "data": {
            "text/plain": [
              "<Figure size 640x480 with 1 Axes>"
            ],
            "image/png": "[encoded data removed]"
          },
          "metadata": {}
        }
      ]
    },
    {
      "cell_type": "code",
      "source": [
        "sns.countplot(x= car_df[\"deploy\"])"
      ],
      "metadata": {
        "colab": {
          "base_uri": "https://localhost:8080/",
          "height": 466
        },
        "id": "3geHqIUyGo36",
        "outputId": "176e0e85-66d9-4419-9c41-14f08e03eda1"
      },
      "execution_count": null,
      "outputs": [
        {
          "output_type": "execute_result",
          "data": {
            "text/plain": [
              "<Axes: xlabel='deploy', ylabel='count'>"
            ]
          },
          "metadata": {},
          "execution_count": 174
        },
        {
          "output_type": "display_data",
          "data": {
            "text/plain": [
              "<Figure size 640x480 with 1 Axes>"
            ],
            "image/png": "[encoded data removed]"
          },
          "metadata": {}
        }
      ]
    },
    {
      "cell_type": "code",
      "source": [
        "cont = car_df.dtypes[(car_df.dtypes!='uint8') & (car_df.dtypes!='bool')].index\n",
        "plt.figure(figsize=(10,10))\n",
        "car_df[cont].boxplot(vert=0)\n",
        "plt.title('With Outliers',fontsize=16)\n",
        "plt.show()"
      ],
      "metadata": {
        "colab": {
          "base_uri": "https://localhost:8080/",
          "height": 855
        },
        "id": "9S-TPQ6zwoii",
        "outputId": "68984ce3-3ac4-4b1f-c011-0da4ff0861ac"
      },
      "execution_count": null,
      "outputs": [
        {
          "output_type": "display_data",
          "data": {
            "text/plain": [
              "<Figure size 1000x1000 with 1 Axes>"
            ],
            "image/png": "[encoded data removed]"
          },
          "metadata": {}
        }
      ]
    },
    {
      "cell_type": "code",
      "source": [],
      "metadata": {
        "id": "cOaTNphJfUTk"
      },
      "execution_count": null,
      "outputs": []
    },
    {
      "cell_type": "code",
      "source": [
        "def remove_outlier(col):\n",
        "    sorted(col)\n",
        "    Q1,Q3=col.quantile([0.25,0.75])\n",
        "    IQR=Q3-Q1\n",
        "    lower_range= Q1-(1.5 * IQR)\n",
        "    upper_range= Q3+(1.5 * IQR)\n",
        "    return lower_range, upper_range"
      ],
      "metadata": {
        "id": "Pb5GFvCN8W8W"
      },
      "execution_count": null,
      "outputs": []
    },
    {
      "cell_type": "code",
      "source": [
        "for column in car_df[cont].columns:\n",
        "    lr,ur=remove_outlier(car_df[column])\n",
        "    car_df[column]=np.where(car_df[column]>ur,ur,car_df[column])\n",
        "    car_df[column]=np.where(car_df[column]<lr,lr,car_df[column])"
      ],
      "metadata": {
        "id": "qyizL2EU8ykY"
      },
      "execution_count": null,
      "outputs": []
    },
    {
      "cell_type": "code",
      "source": [
        "plt.figure(figsize=(10,10))\n",
        "car_df[cont].boxplot(vert=0)\n",
        "plt.title('After Outlier Removal',fontsize=16)\n",
        "plt.show()"
      ],
      "metadata": {
        "colab": {
          "base_uri": "https://localhost:8080/",
          "height": 855
        },
        "id": "oVrICXrC8-fa",
        "outputId": "ccd83ed2-2e4d-489f-f8e6-1d7a65e6d13c"
      },
      "execution_count": null,
      "outputs": [
        {
          "output_type": "display_data",
          "data": {
            "text/plain": [
              "<Figure size 1000x1000 with 1 Axes>"
            ],
            "image/png": "[encoded data removed]"
          },
          "metadata": {}
        }
      ]
    },
    {
      "cell_type": "code",
      "source": [
        "car_df.columns"
      ],
      "metadata": {
        "colab": {
          "base_uri": "https://localhost:8080/"
        },
        "id": "8VF8v3MU9FfA",
        "outputId": "84452f9c-3e88-416e-bbff-6e5eb0faa719"
      },
      "execution_count": null,
      "outputs": [
        {
          "output_type": "execute_result",
          "data": {
            "text/plain": [
              "Index(['dvcat', 'weight', 'Survived', 'airbag', 'seatbelt', 'frontal', 'sex',\n",
              "       'ageOFocc', 'yearacc', 'yearVeh', 'abcat', 'occRole', 'deploy',\n",
              "       'injSeverity'],\n",
              "      dtype='object')"
            ]
          },
          "metadata": {},
          "execution_count": 47
        }
      ]
    },
    {
      "cell_type": "code",
      "source": [
        "np.isinf(car_df).sum()"
      ],
      "metadata": {
        "colab": {
          "base_uri": "https://localhost:8080/"
        },
        "id": "KAWiFICd9Y1n",
        "outputId": "d72c5e4e-66bd-4d99-f358-2e73be8c1fbf"
      },
      "execution_count": null,
      "outputs": [
        {
          "output_type": "execute_result",
          "data": {
            "text/plain": [
              "dvcat          0\n",
              "weight         0\n",
              "Survived       0\n",
              "airbag         0\n",
              "seatbelt       0\n",
              "frontal        0\n",
              "sex            0\n",
              "ageOFocc       0\n",
              "yearacc        0\n",
              "yearVeh        0\n",
              "abcat          0\n",
              "occRole        0\n",
              "deploy         0\n",
              "injSeverity    0\n",
              "dtype: int64"
            ]
          },
          "metadata": {},
          "execution_count": 176
        }
      ]
    },
    {
      "cell_type": "code",
      "source": [
        "car_df.info()"
      ],
      "metadata": {
        "colab": {
          "base_uri": "https://localhost:8080/"
        },
        "id": "V7nLJHshYXxi",
        "outputId": "99b989aa-a92b-49fb-8d21-2c35751316ea"
      },
      "execution_count": null,
      "outputs": [
        {
          "output_type": "stream",
          "name": "stdout",
          "text": [
            "<class 'pandas.core.frame.DataFrame'>\n",
            "RangeIndex: 11217 entries, 0 to 11216\n",
            "Data columns (total 14 columns):\n",
            " #   Column       Non-Null Count  Dtype  \n",
            "---  ------       --------------  -----  \n",
            " 0   dvcat        11217 non-null  int64  \n",
            " 1   weight       11217 non-null  float64\n",
            " 2   Survived     11217 non-null  int64  \n",
            " 3   airbag       11217 non-null  int64  \n",
            " 4   seatbelt     11217 non-null  int64  \n",
            " 5   frontal      11217 non-null  int64  \n",
            " 6   sex          11217 non-null  int64  \n",
            " 7   ageOFocc     11217 non-null  int64  \n",
            " 8   yearacc      11217 non-null  int64  \n",
            " 9   yearVeh      11217 non-null  float64\n",
            " 10  abcat        11217 non-null  int64  \n",
            " 11  occRole      11217 non-null  int64  \n",
            " 12  deploy       11217 non-null  int64  \n",
            " 13  injSeverity  11217 non-null  float64\n",
            "dtypes: float64(3), int64(11)\n",
            "memory usage: 1.2 MB\n"
          ]
        }
      ]
    },
    {
      "cell_type": "code",
      "source": [
        "car_df.describe().T"
      ],
      "metadata": {
        "colab": {
          "base_uri": "https://localhost:8080/",
          "height": 488
        },
        "id": "2qqSoplG9jDN",
        "outputId": "63677b3f-2d89-4fca-e00c-952b27c9c31f"
      },
      "execution_count": null,
      "outputs": [
        {
          "output_type": "execute_result",
          "data": {
            "text/plain": [
              "               count         mean          std     min       25%       50%  \\\n",
              "dvcat        11217.0     1.731122     0.958810     0.0     1.000     1.000   \n",
              "weight       11217.0   431.405309  1406.202941     0.0    28.292    82.195   \n",
              "Survived     11217.0     0.894803     0.306821     0.0     1.000     1.000   \n",
              "airbag       11217.0     0.370242     0.482891     0.0     0.000     0.000   \n",
              "seatbelt     11217.0     0.300259     0.458391     0.0     0.000     0.000   \n",
              "frontal      11217.0     0.644022     0.478830     0.0     0.000     1.000   \n",
              "sex          11217.0     0.539182     0.498485     0.0     0.000     1.000   \n",
              "ageOFocc     11217.0    37.427654    18.192429    16.0    22.000    33.000   \n",
              "yearacc      11217.0  2001.103236     1.056805  1997.0  2001.000  2001.000   \n",
              "yearVeh      11217.0  1994.177944     5.658704  1953.0  1991.000  1995.000   \n",
              "abcat        11217.0     0.981100     0.871260     0.0     0.000     1.000   \n",
              "occRole      11217.0     0.783275     0.412032     0.0     1.000     1.000   \n",
              "deploy       11217.0     0.389141     0.487577     0.0     0.000     0.000   \n",
              "injSeverity  11217.0     1.833645     1.377214     0.0     1.000     2.000   \n",
              "\n",
              "                  75%       max  \n",
              "dvcat           2.000      4.00  \n",
              "weight        324.056  31694.04  \n",
              "Survived        1.000      1.00  \n",
              "airbag          1.000      1.00  \n",
              "seatbelt        1.000      1.00  \n",
              "frontal         1.000      1.00  \n",
              "sex             1.000      1.00  \n",
              "ageOFocc       48.000     97.00  \n",
              "yearacc      2002.000   2002.00  \n",
              "yearVeh      1999.000   2003.00  \n",
              "abcat           2.000      2.00  \n",
              "occRole         1.000      1.00  \n",
              "deploy          1.000      1.00  \n",
              "injSeverity     3.000      5.00  "
            ],
            "text/html": [
              "\n",
              "\n",
              "  <div id=\"df-00d97d13-00c3-49ec-823b-3d6e09551091\">\n",
              "    <div class=\"colab-df-container\">\n",
              "      <div>\n",
              "<style scoped>\n",
              "    .dataframe tbody tr th:only-of-type {\n",
              "        vertical-align: middle;\n",
              "    }\n",
              "\n",
              "    .dataframe tbody tr th {\n",
              "        vertical-align: top;\n",
              "    }\n",
              "\n",
              "    .dataframe thead th {\n",
              "        text-align: right;\n",
              "    }\n",
              "</style>\n",
              "<table border=\"1\" class=\"dataframe\">\n",
              "  <thead>\n",
              "    <tr style=\"text-align: right;\">\n",
              "      <th></th>\n",
              "      <th>count</th>\n",
              "      <th>mean</th>\n",
              "      <th>std</th>\n",
              "      <th>min</th>\n",
              "      <th>25%</th>\n",
              "      <th>50%</th>\n",
              "      <th>75%</th>\n",
              "      <th>max</th>\n",
              "    </tr>\n",
              "  </thead>\n",
              "  <tbody>\n",
              "    <tr>\n",
              "      <th>dvcat</th>\n",
              "      <td>11217.0</td>\n",
              "      <td>1.731122</td>\n",
              "      <td>0.958810</td>\n",
              "      <td>0.0</td>\n",
              "      <td>1.000</td>\n",
              "      <td>1.000</td>\n",
              "      <td>2.000</td>\n",
              "      <td>4.00</td>\n",
              "    </tr>\n",
              "    <tr>\n",
              "      <th>weight</th>\n",
              "      <td>11217.0</td>\n",
              "      <td>431.405309</td>\n",
              "      <td>1406.202941</td>\n",
              "      <td>0.0</td>\n",
              "      <td>28.292</td>\n",
              "      <td>82.195</td>\n",
              "      <td>324.056</td>\n",
              "      <td>31694.04</td>\n",
              "    </tr>\n",
              "    <tr>\n",
              "      <th>Survived</th>\n",
              "      <td>11217.0</td>\n",
              "      <td>0.894803</td>\n",
              "      <td>0.306821</td>\n",
              "      <td>0.0</td>\n",
              "      <td>1.000</td>\n",
              "      <td>1.000</td>\n",
              "      <td>1.000</td>\n",
              "      <td>1.00</td>\n",
              "    </tr>\n",
              "    <tr>\n",
              "      <th>airbag</th>\n",
              "      <td>11217.0</td>\n",
              "      <td>0.370242</td>\n",
              "      <td>0.482891</td>\n",
              "      <td>0.0</td>\n",
              "      <td>0.000</td>\n",
              "      <td>0.000</td>\n",
              "      <td>1.000</td>\n",
              "      <td>1.00</td>\n",
              "    </tr>\n",
              "    <tr>\n",
              "      <th>seatbelt</th>\n",
              "      <td>11217.0</td>\n",
              "      <td>0.300259</td>\n",
              "      <td>0.458391</td>\n",
              "      <td>0.0</td>\n",
              "      <td>0.000</td>\n",
              "      <td>0.000</td>\n",
              "      <td>1.000</td>\n",
              "      <td>1.00</td>\n",
              "    </tr>\n",
              "    <tr>\n",
              "      <th>frontal</th>\n",
              "      <td>11217.0</td>\n",
              "      <td>0.644022</td>\n",
              "      <td>0.478830</td>\n",
              "      <td>0.0</td>\n",
              "      <td>0.000</td>\n",
              "      <td>1.000</td>\n",
              "      <td>1.000</td>\n",
              "      <td>1.00</td>\n",
              "    </tr>\n",
              "    <tr>\n",
              "      <th>sex</th>\n",
              "      <td>11217.0</td>\n",
              "      <td>0.539182</td>\n",
              "      <td>0.498485</td>\n",
              "      <td>0.0</td>\n",
              "      <td>0.000</td>\n",
              "      <td>1.000</td>\n",
              "      <td>1.000</td>\n",
              "      <td>1.00</td>\n",
              "    </tr>\n",
              "    <tr>\n",
              "      <th>ageOFocc</th>\n",
              "      <td>11217.0</td>\n",
              "      <td>37.427654</td>\n",
              "      <td>18.192429</td>\n",
              "      <td>16.0</td>\n",
              "      <td>22.000</td>\n",
              "      <td>33.000</td>\n",
              "      <td>48.000</td>\n",
              "      <td>97.00</td>\n",
              "    </tr>\n",
              "    <tr>\n",
              "      <th>yearacc</th>\n",
              "      <td>11217.0</td>\n",
              "      <td>2001.103236</td>\n",
              "      <td>1.056805</td>\n",
              "      <td>1997.0</td>\n",
              "      <td>2001.000</td>\n",
              "      <td>2001.000</td>\n",
              "      <td>2002.000</td>\n",
              "      <td>2002.00</td>\n",
              "    </tr>\n",
              "    <tr>\n",
              "      <th>yearVeh</th>\n",
              "      <td>11217.0</td>\n",
              "      <td>1994.177944</td>\n",
              "      <td>5.658704</td>\n",
              "      <td>1953.0</td>\n",
              "      <td>1991.000</td>\n",
              "      <td>1995.000</td>\n",
              "      <td>1999.000</td>\n",
              "      <td>2003.00</td>\n",
              "    </tr>\n",
              "    <tr>\n",
              "      <th>abcat</th>\n",
              "      <td>11217.0</td>\n",
              "      <td>0.981100</td>\n",
              "      <td>0.871260</td>\n",
              "      <td>0.0</td>\n",
              "      <td>0.000</td>\n",
              "      <td>1.000</td>\n",
              "      <td>2.000</td>\n",
              "      <td>2.00</td>\n",
              "    </tr>\n",
              "    <tr>\n",
              "      <th>occRole</th>\n",
              "      <td>11217.0</td>\n",
              "      <td>0.783275</td>\n",
              "      <td>0.412032</td>\n",
              "      <td>0.0</td>\n",
              "      <td>1.000</td>\n",
              "      <td>1.000</td>\n",
              "      <td>1.000</td>\n",
              "      <td>1.00</td>\n",
              "    </tr>\n",
              "    <tr>\n",
              "      <th>deploy</th>\n",
              "      <td>11217.0</td>\n",
              "      <td>0.389141</td>\n",
              "      <td>0.487577</td>\n",
              "      <td>0.0</td>\n",
              "      <td>0.000</td>\n",
              "      <td>0.000</td>\n",
              "      <td>1.000</td>\n",
              "      <td>1.00</td>\n",
              "    </tr>\n",
              "    <tr>\n",
              "      <th>injSeverity</th>\n",
              "      <td>11217.0</td>\n",
              "      <td>1.833645</td>\n",
              "      <td>1.377214</td>\n",
              "      <td>0.0</td>\n",
              "      <td>1.000</td>\n",
              "      <td>2.000</td>\n",
              "      <td>3.000</td>\n",
              "      <td>5.00</td>\n",
              "    </tr>\n",
              "  </tbody>\n",
              "</table>\n",
              "</div>\n",
              "      <button class=\"colab-df-convert\" onclick=\"convertToInteractive('df-00d97d13-00c3-49ec-823b-3d6e09551091')\"\n",
              "              title=\"Convert this dataframe to an interactive table.\"\n",
              "              style=\"display:none;\">\n",
              "\n",
              "  <svg xmlns=\"http://www.w3.org/2000/svg\" height=\"24px\"viewBox=\"0 0 24 24\"\n",
              "       width=\"24px\">\n",
              "    <path d=\"M0 0h24v24H0V0z\" fill=\"none\"/>\n",
              "    <path d=\"M18.56 5.44l.94 2.06.94-2.06 2.06-.94-2.06-.94-.94-2.06-.94 2.06-2.06.94zm-11 1L8.5 8.5l.94-2.06 2.06-.94-2.06-.94L8.5 2.5l-.94 2.06-2.06.94zm10 10l.94 2.06.94-2.06 2.06-.94-2.06-.94-.94-2.06-.94 2.06-2.06.94z\"/><path d=\"M17.41 7.96l-1.37-1.37c-.4-.4-.92-.59-1.43-.59-.52 0-1.04.2-1.43.59L10.3 9.45l-7.72 7.72c-.78.78-.78 2.05 0 2.83L4 21.41c.39.39.9.59 1.41.59.51 0 1.02-.2 1.41-.59l7.78-7.78 2.81-2.81c.8-.78.8-2.07 0-2.86zM5.41 20L4 18.59l7.72-7.72 1.47 1.35L5.41 20z\"/>\n",
              "  </svg>\n",
              "      </button>\n",
              "\n",
              "\n",
              "\n",
              "    <div id=\"df-f8ae84f9-a4b9-487c-80a5-d66d012c9518\">\n",
              "      <button class=\"colab-df-quickchart\" onclick=\"quickchart('df-f8ae84f9-a4b9-487c-80a5-d66d012c9518')\"\n",
              "              title=\"Suggest charts.\"\n",
              "              style=\"display:none;\">\n",
              "\n",
              "<svg xmlns=\"http://www.w3.org/2000/svg\" height=\"24px\"viewBox=\"0 0 24 24\"\n",
              "     width=\"24px\">\n",
              "    <g>\n",
              "        <path d=\"M19 3H5c-1.1 0-2 .9-2 2v14c0 1.1.9 2 2 2h14c1.1 0 2-.9 2-2V5c0-1.1-.9-2-2-2zM9 17H7v-7h2v7zm4 0h-2V7h2v10zm4 0h-2v-4h2v4z\"/>\n",
              "    </g>\n",
              "</svg>\n",
              "      </button>\n",
              "    </div>\n",
              "\n",
              "<style>\n",
              "  .colab-df-quickchart {\n",
              "    background-color: #E8F0FE;\n",
              "    border: none;\n",
              "    border-radius: 50%;\n",
              "    cursor: pointer;\n",
              "    display: none;\n",
              "    fill: #1967D2;\n",
              "    height: 32px;\n",
              "    padding: 0 0 0 0;\n",
              "    width: 32px;\n",
              "  }\n",
              "\n",
              "  .colab-df-quickchart:hover {\n",
              "    background-color: #E2EBFA;\n",
              "    box-shadow: 0px 1px 2px rgba(60, 64, 67, 0.3), 0px 1px 3px 1px rgba(60, 64, 67, 0.15);\n",
              "    fill: #174EA6;\n",
              "  }\n",
              "\n",
              "  [theme=dark] .colab-df-quickchart {\n",
              "    background-color: #3B4455;\n",
              "    fill: #D2E3FC;\n",
              "  }\n",
              "\n",
              "  [theme=dark] .colab-df-quickchart:hover {\n",
              "    background-color: #434B5C;\n",
              "    box-shadow: 0px 1px 3px 1px rgba(0, 0, 0, 0.15);\n",
              "    filter: drop-shadow(0px 1px 2px rgba(0, 0, 0, 0.3));\n",
              "    fill: #FFFFFF;\n",
              "  }\n",
              "</style>\n",
              "\n",
              "    <script>\n",
              "      async function quickchart(key) {\n",
              "        const containerElement = document.querySelector('#' + key);\n",
              "        const charts = await google.colab.kernel.invokeFunction(\n",
              "            'suggestCharts', [key], {});\n",
              "      }\n",
              "    </script>\n",
              "\n",
              "      <script>\n",
              "\n",
              "function displayQuickchartButton(domScope) {\n",
              "  let quickchartButtonEl =\n",
              "    domScope.querySelector('#df-f8ae84f9-a4b9-487c-80a5-d66d012c9518 button.colab-df-quickchart');\n",
              "  quickchartButtonEl.style.display =\n",
              "    google.colab.kernel.accessAllowed ? 'block' : 'none';\n",
              "}\n",
              "\n",
              "        displayQuickchartButton(document);\n",
              "      </script>\n",
              "      <style>\n",
              "    .colab-df-container {\n",
              "      display:flex;\n",
              "      flex-wrap:wrap;\n",
              "      gap: 12px;\n",
              "    }\n",
              "\n",
              "    .colab-df-convert {\n",
              "      background-color: #E8F0FE;\n",
              "      border: none;\n",
              "      border-radius: 50%;\n",
              "      cursor: pointer;\n",
              "      display: none;\n",
              "      fill: #1967D2;\n",
              "      height: 32px;\n",
              "      padding: 0 0 0 0;\n",
              "      width: 32px;\n",
              "    }\n",
              "\n",
              "    .colab-df-convert:hover {\n",
              "      background-color: #E2EBFA;\n",
              "      box-shadow: 0px 1px 2px rgba(60, 64, 67, 0.3), 0px 1px 3px 1px rgba(60, 64, 67, 0.15);\n",
              "      fill: #174EA6;\n",
              "    }\n",
              "\n",
              "    [theme=dark] .colab-df-convert {\n",
              "      background-color: #3B4455;\n",
              "      fill: #D2E3FC;\n",
              "    }\n",
              "\n",
              "    [theme=dark] .colab-df-convert:hover {\n",
              "      background-color: #434B5C;\n",
              "      box-shadow: 0px 1px 3px 1px rgba(0, 0, 0, 0.15);\n",
              "      filter: drop-shadow(0px 1px 2px rgba(0, 0, 0, 0.3));\n",
              "      fill: #FFFFFF;\n",
              "    }\n",
              "  </style>\n",
              "\n",
              "      <script>\n",
              "        const buttonEl =\n",
              "          document.querySelector('#df-00d97d13-00c3-49ec-823b-3d6e09551091 button.colab-df-convert');\n",
              "        buttonEl.style.display =\n",
              "          google.colab.kernel.accessAllowed ? 'block' : 'none';\n",
              "\n",
              "        async function convertToInteractive(key) {\n",
              "          const element = document.querySelector('#df-00d97d13-00c3-49ec-823b-3d6e09551091');\n",
              "          const dataTable =\n",
              "            await google.colab.kernel.invokeFunction('convertToInteractive',\n",
              "                                                     [key], {});\n",
              "          if (!dataTable) return;\n",
              "\n",
              "          const docLinkHtml = 'Like what you see? Visit the ' +\n",
              "            '<a target=\"_blank\" href=https://colab.research.google.com/notebooks/data_table.ipynb>data table notebook</a>'\n",
              "            + ' to learn more about interactive tables.';\n",
              "          element.innerHTML = '';\n",
              "          dataTable['output_type'] = 'display_data';\n",
              "          await google.colab.output.renderOutput(dataTable, element);\n",
              "          const docLink = document.createElement('div');\n",
              "          docLink.innerHTML = docLinkHtml;\n",
              "          element.appendChild(docLink);\n",
              "        }\n",
              "      </script>\n",
              "    </div>\n",
              "  </div>\n"
            ]
          },
          "metadata": {},
          "execution_count": 178
        }
      ]
    },
    {
      "cell_type": "code",
      "source": [
        "car_df.skew()"
      ],
      "metadata": {
        "colab": {
          "base_uri": "https://localhost:8080/"
        },
        "id": "EA4q4cuM9oHA",
        "outputId": "588eff11-11a0-44f7-b5e8-2a7c72d49b72"
      },
      "execution_count": null,
      "outputs": [
        {
          "output_type": "execute_result",
          "data": {
            "text/plain": [
              "dvcat           0.878264\n",
              "weight         11.115386\n",
              "Survived       -2.573960\n",
              "airbag          0.537519\n",
              "seatbelt        0.871645\n",
              "frontal        -0.601667\n",
              "sex            -0.157231\n",
              "ageOFocc        0.911059\n",
              "yearacc        -1.671687\n",
              "yearVeh        -1.026743\n",
              "abcat           0.036515\n",
              "occRole        -1.375262\n",
              "deploy          0.454813\n",
              "injSeverity     0.021729\n",
              "dtype: float64"
            ]
          },
          "metadata": {},
          "execution_count": 179
        }
      ]
    },
    {
      "cell_type": "code",
      "source": [
        "X = car_df.drop([\"Survived\"], axis=1)\n",
        "y = car_df[[\"Survived\"]]"
      ],
      "metadata": {
        "id": "e1iPh6-u9vXC"
      },
      "execution_count": null,
      "outputs": []
    },
    {
      "cell_type": "code",
      "source": [
        "X = sm.add_constant(X)"
      ],
      "metadata": {
        "id": "k7bT3m6v-BuU"
      },
      "execution_count": null,
      "outputs": []
    },
    {
      "cell_type": "code",
      "source": [
        "X_train, X_test, y_train, y_test = train_test_split(X, y, test_size=0.30, random_state=1)"
      ],
      "metadata": {
        "id": "Il_Yul71-RqG"
      },
      "execution_count": null,
      "outputs": []
    },
    {
      "cell_type": "code",
      "source": [
        "X.shape"
      ],
      "metadata": {
        "colab": {
          "base_uri": "https://localhost:8080/"
        },
        "id": "9eGpm4R_-Zu_",
        "outputId": "a1423dc6-09fb-455d-bbfa-65b2d55725cf"
      },
      "execution_count": null,
      "outputs": [
        {
          "output_type": "execute_result",
          "data": {
            "text/plain": [
              "(11217, 14)"
            ]
          },
          "metadata": {},
          "execution_count": 183
        }
      ]
    },
    {
      "cell_type": "code",
      "source": [
        "y.shape"
      ],
      "metadata": {
        "colab": {
          "base_uri": "https://localhost:8080/"
        },
        "id": "wBHhFaPV-dJH",
        "outputId": "56c3f777-9e45-44c9-e239-34dab28f6b19"
      },
      "execution_count": null,
      "outputs": [
        {
          "output_type": "execute_result",
          "data": {
            "text/plain": [
              "(11217, 1)"
            ]
          },
          "metadata": {},
          "execution_count": 184
        }
      ]
    },
    {
      "cell_type": "code",
      "source": [
        "car_df.info()"
      ],
      "metadata": {
        "colab": {
          "base_uri": "https://localhost:8080/"
        },
        "id": "p3gGQC58b2qU",
        "outputId": "26239c21-50ec-4ca9-db3a-fb1ec7d98650"
      },
      "execution_count": null,
      "outputs": [
        {
          "output_type": "stream",
          "name": "stdout",
          "text": [
            "<class 'pandas.core.frame.DataFrame'>\n",
            "RangeIndex: 11217 entries, 0 to 11216\n",
            "Data columns (total 14 columns):\n",
            " #   Column       Non-Null Count  Dtype  \n",
            "---  ------       --------------  -----  \n",
            " 0   dvcat        11217 non-null  int64  \n",
            " 1   weight       11217 non-null  float64\n",
            " 2   Survived     11217 non-null  int64  \n",
            " 3   airbag       11217 non-null  int64  \n",
            " 4   seatbelt     11217 non-null  int64  \n",
            " 5   frontal      11217 non-null  int64  \n",
            " 6   sex          11217 non-null  int64  \n",
            " 7   ageOFocc     11217 non-null  int64  \n",
            " 8   yearacc      11217 non-null  int64  \n",
            " 9   yearVeh      11217 non-null  float64\n",
            " 10  abcat        11217 non-null  int64  \n",
            " 11  occRole      11217 non-null  int64  \n",
            " 12  deploy       11217 non-null  int64  \n",
            " 13  injSeverity  11217 non-null  float64\n",
            "dtypes: float64(3), int64(11)\n",
            "memory usage: 1.2 MB\n"
          ]
        }
      ]
    },
    {
      "cell_type": "code",
      "source": [
        "print(X_train.head())"
      ],
      "metadata": {
        "colab": {
          "base_uri": "https://localhost:8080/"
        },
        "id": "LyGeBR61cEnR",
        "outputId": "c4383336-13fa-492f-e1aa-9e780480b973"
      },
      "execution_count": null,
      "outputs": [
        {
          "output_type": "stream",
          "name": "stdout",
          "text": [
            "       const  dvcat    weight  airbag  seatbelt  frontal  sex  ageOFocc  \\\n",
            "6057     1.0      2    45.575       1         0        1    0        37   \n",
            "8164     1.0      3    84.013       1         0        1    0        26   \n",
            "6693     1.0      3    18.171       0         0        1    1        41   \n",
            "10667    1.0      1  1491.848       0         1        0    1        89   \n",
            "1317     1.0      1     9.829       0         0        1    0        21   \n",
            "\n",
            "       yearacc  yearVeh  abcat  occRole  deploy  injSeverity  \n",
            "6057      2001   1993.0      2        1       0          3.0  \n",
            "8164      2002   1988.0      2        0       0          3.0  \n",
            "6693      2002   1999.0      0        1       1          2.0  \n",
            "10667     2002   1990.0      0        1       1          2.0  \n",
            "1317      2000   1996.0      0        1       1          0.0  \n"
          ]
        }
      ]
    },
    {
      "cell_type": "code",
      "source": [
        "print(X_test.head())"
      ],
      "metadata": {
        "colab": {
          "base_uri": "https://localhost:8080/"
        },
        "id": "QnruSsPOffAt",
        "outputId": "09ccf5da-b8cf-4b48-cf8e-21292d046719"
      },
      "execution_count": null,
      "outputs": [
        {
          "output_type": "stream",
          "name": "stdout",
          "text": [
            "       const  dvcat   weight  airbag  seatbelt  frontal  sex  ageOFocc  \\\n",
            "3555     1.0      1  126.138       1         0        1    1        22   \n",
            "4485     1.0      3   80.230       1         0        0    0        88   \n",
            "7670     1.0      1  760.901       0         0        0    0        25   \n",
            "10516    1.0      1   77.793       0         0        1    1        36   \n",
            "5812     1.0      1   64.863       1         1        0    1        40   \n",
            "\n",
            "       yearacc  yearVeh  abcat  occRole  deploy  injSeverity  \n",
            "3555      2001   1981.0      2        1       0          5.0  \n",
            "4485      2001   1989.0      2        1       0          4.0  \n",
            "7670      2002   1992.0      1        1       0          0.0  \n",
            "10516     2002   1999.0      1        1       0          1.0  \n",
            "5812      2001   1993.0      2        1       0          3.0  \n"
          ]
        }
      ]
    },
    {
      "cell_type": "code",
      "source": [
        "model = LogisticRegression(max_iter=1000)\n",
        "model.fit(X_train, y_train)\n",
        "y_predict = model.predict(X_test)"
      ],
      "metadata": {
        "colab": {
          "base_uri": "https://localhost:8080/"
        },
        "id": "wpVmYXrRflAD",
        "outputId": "78abe1b3-2591-4887-a974-e5b79192da94"
      },
      "execution_count": null,
      "outputs": [
        {
          "output_type": "stream",
          "name": "stderr",
          "text": [
            "/usr/local/lib/python3.10/dist-packages/sklearn/utils/validation.py:1143: DataConversionWarning: A column-vector y was passed when a 1d array was expected. Please change the shape of y to (n_samples, ), for example using ravel().\n",
            "  y = column_or_1d(y, warn=True)\n"
          ]
        }
      ]
    },
    {
      "cell_type": "code",
      "source": [
        "model_score = model.score(X_test, y_test)\n",
        "print('Accuracy Score is ',model_score)"
      ],
      "metadata": {
        "colab": {
          "base_uri": "https://localhost:8080/"
        },
        "id": "JVioe7BkfsfX",
        "outputId": "43f2270f-4db0-4d4a-c769-49112d9593c8"
      },
      "execution_count": null,
      "outputs": [
        {
          "output_type": "stream",
          "name": "stdout",
          "text": [
            "Accuracy Score is  0.9812834224598931\n"
          ]
        }
      ]
    },
    {
      "cell_type": "code",
      "source": [
        "print('Confusion Matrix','\\n',metrics.confusion_matrix(y_test, y_predict),'\\n')\n",
        "print('Classification Report','\\n',metrics.classification_report(y_test, y_predict))"
      ],
      "metadata": {
        "colab": {
          "base_uri": "https://localhost:8080/"
        },
        "id": "_an9OsTYfwDf",
        "outputId": "70c04e5e-3502-4884-8fd8-65bc2ecf69ea"
      },
      "execution_count": null,
      "outputs": [
        {
          "output_type": "stream",
          "name": "stdout",
          "text": [
            "Confusion Matrix \n",
            " [[ 337   46]\n",
            " [  22 2961]] \n",
            "\n",
            "Classification Report \n",
            "               precision    recall  f1-score   support\n",
            "\n",
            "           0       0.94      0.88      0.91       383\n",
            "           1       0.98      0.99      0.99      2983\n",
            "\n",
            "    accuracy                           0.98      3366\n",
            "   macro avg       0.96      0.94      0.95      3366\n",
            "weighted avg       0.98      0.98      0.98      3366\n",
            "\n"
          ]
        }
      ]
    },
    {
      "cell_type": "code",
      "source": [
        "model = LogisticRegression(solver='newton-cg',max_iter=10000,penalty='none',verbose=True,n_jobs=2)\n",
        "model.fit(X_train, y_train)"
      ],
      "metadata": {
        "colab": {
          "base_uri": "https://localhost:8080/",
          "height": 198
        },
        "id": "OLIakPr0g5mQ",
        "outputId": "d358d245-404d-4c44-f46e-9e9ce20664ea"
      },
      "execution_count": null,
      "outputs": [
        {
          "output_type": "stream",
          "name": "stderr",
          "text": [
            "/usr/local/lib/python3.10/dist-packages/sklearn/linear_model/_logistic.py:1173: FutureWarning: `penalty='none'`has been deprecated in 1.2 and will be removed in 1.4. To keep the past behaviour, set `penalty=None`.\n",
            "  warnings.warn(\n",
            "/usr/local/lib/python3.10/dist-packages/sklearn/utils/validation.py:1143: DataConversionWarning: A column-vector y was passed when a 1d array was expected. Please change the shape of y to (n_samples, ), for example using ravel().\n",
            "  y = column_or_1d(y, warn=True)\n",
            "[Parallel(n_jobs=2)]: Using backend LokyBackend with 2 concurrent workers.\n"
          ]
        },
        {
          "output_type": "execute_result",
          "data": {
            "text/plain": [
              "LogisticRegression(max_iter=10000, n_jobs=2, penalty='none', solver='newton-cg',\n",
              "                   verbose=True)"
            ],
            "text/html": [
              "<style>#sk-container-id-3 {color: black;background-color: white;}#sk-container-id-3 pre{padding: 0;}#sk-container-id-3 div.sk-toggleable {background-color: white;}#sk-container-id-3 label.sk-toggleable__label {cursor: pointer;display: block;width: 100%;margin-bottom: 0;padding: 0.3em;box-sizing: border-box;text-align: center;}#sk-container-id-3 label.sk-toggleable__label-arrow:before {content: \"▸\";float: left;margin-right: 0.25em;color: #696969;}#sk-container-id-3 label.sk-toggleable__label-arrow:hover:before {color: black;}#sk-container-id-3 div.sk-estimator:hover label.sk-toggleable__label-arrow:before {color: black;}#sk-container-id-3 div.sk-toggleable__content {max-height: 0;max-width: 0;overflow: hidden;text-align: left;background-color: #f0f8ff;}#sk-container-id-3 div.sk-toggleable__content pre {margin: 0.2em;color: black;border-radius: 0.25em;background-color: #f0f8ff;}#sk-container-id-3 input.sk-toggleable__control:checked~div.sk-toggleable__content {max-height: 200px;max-width: 100%;overflow: auto;}#sk-container-id-3 input.sk-toggleable__control:checked~label.sk-toggleable__label-arrow:before {content: \"▾\";}#sk-container-id-3 div.sk-estimator input.sk-toggleable__control:checked~label.sk-toggleable__label {background-color: #d4ebff;}#sk-container-id-3 div.sk-label input.sk-toggleable__control:checked~label.sk-toggleable__label {background-color: #d4ebff;}#sk-container-id-3 input.sk-hidden--visually {border: 0;clip: rect(1px 1px 1px 1px);clip: rect(1px, 1px, 1px, 1px);height: 1px;margin: -1px;overflow: hidden;padding: 0;position: absolute;width: 1px;}#sk-container-id-3 div.sk-estimator {font-family: monospace;background-color: #f0f8ff;border: 1px dotted black;border-radius: 0.25em;box-sizing: border-box;margin-bottom: 0.5em;}#sk-container-id-3 div.sk-estimator:hover {background-color: #d4ebff;}#sk-container-id-3 div.sk-parallel-item::after {content: \"\";width: 100%;border-bottom: 1px solid gray;flex-grow: 1;}#sk-container-id-3 div.sk-label:hover label.sk-toggleable__label {background-color: #d4ebff;}#sk-container-id-3 div.sk-serial::before {content: \"\";position: absolute;border-left: 1px solid gray;box-sizing: border-box;top: 0;bottom: 0;left: 50%;z-index: 0;}#sk-container-id-3 div.sk-serial {display: flex;flex-direction: column;align-items: center;background-color: white;padding-right: 0.2em;padding-left: 0.2em;position: relative;}#sk-container-id-3 div.sk-item {position: relative;z-index: 1;}#sk-container-id-3 div.sk-parallel {display: flex;align-items: stretch;justify-content: center;background-color: white;position: relative;}#sk-container-id-3 div.sk-item::before, #sk-container-id-3 div.sk-parallel-item::before {content: \"\";position: absolute;border-left: 1px solid gray;box-sizing: border-box;top: 0;bottom: 0;left: 50%;z-index: -1;}#sk-container-id-3 div.sk-parallel-item {display: flex;flex-direction: column;z-index: 1;position: relative;background-color: white;}#sk-container-id-3 div.sk-parallel-item:first-child::after {align-self: flex-end;width: 50%;}#sk-container-id-3 div.sk-parallel-item:last-child::after {align-self: flex-start;width: 50%;}#sk-container-id-3 div.sk-parallel-item:only-child::after {width: 0;}#sk-container-id-3 div.sk-dashed-wrapped {border: 1px dashed gray;margin: 0 0.4em 0.5em 0.4em;box-sizing: border-box;padding-bottom: 0.4em;background-color: white;}#sk-container-id-3 div.sk-label label {font-family: monospace;font-weight: bold;display: inline-block;line-height: 1.2em;}#sk-container-id-3 div.sk-label-container {text-align: center;}#sk-container-id-3 div.sk-container {/* jupyter's `normalize.less` sets `[hidden] { display: none; }` but bootstrap.min.css set `[hidden] { display: none !important; }` so we also need the `!important` here to be able to override the default hidden behavior on the sphinx rendered scikit-learn.org. See: https://github.com/scikit-learn/scikit-learn/issues/21755 */display: inline-block !important;position: relative;}#sk-container-id-3 div.sk-text-repr-fallback {display: none;}</style><div id=\"sk-container-id-3\" class=\"sk-top-container\"><div class=\"sk-text-repr-fallback\"><pre>LogisticRegression(max_iter=10000, n_jobs=2, penalty=&#x27;none&#x27;, solver=&#x27;newton-cg&#x27;,\n",
              "                   verbose=True)</pre><b>In a Jupyter environment, please rerun this cell to show the HTML representation or trust the notebook. <br />On GitHub, the HTML representation is unable to render, please try loading this page with nbviewer.org.</b></div><div class=\"sk-container\" hidden><div class=\"sk-item\"><div class=\"sk-estimator sk-toggleable\"><input class=\"sk-toggleable__control sk-hidden--visually\" id=\"sk-estimator-id-3\" type=\"checkbox\" checked><label for=\"sk-estimator-id-3\" class=\"sk-toggleable__label sk-toggleable__label-arrow\">LogisticRegression</label><div class=\"sk-toggleable__content\"><pre>LogisticRegression(max_iter=10000, n_jobs=2, penalty=&#x27;none&#x27;, solver=&#x27;newton-cg&#x27;,\n",
              "                   verbose=True)</pre></div></div></div></div></div>"
            ]
          },
          "metadata": {},
          "execution_count": 201
        }
      ]
    },
    {
      "cell_type": "code",
      "source": [
        "ytrain_predict = model.predict(X_train)\n",
        "ytest_predict = model.predict(X_test)"
      ],
      "metadata": {
        "id": "BdjvUbyDhusJ"
      },
      "execution_count": null,
      "outputs": []
    },
    {
      "cell_type": "code",
      "source": [
        "ytest_predict_prob=model.predict_proba(X_test)\n",
        "pd.DataFrame(ytest_predict_prob).head()"
      ],
      "metadata": {
        "colab": {
          "base_uri": "https://localhost:8080/",
          "height": 206
        },
        "id": "0HXkD83Wh-Ac",
        "outputId": "fe66998a-8a2e-4bdd-94dd-a302ec045f7e"
      },
      "execution_count": null,
      "outputs": [
        {
          "output_type": "execute_result",
          "data": {
            "text/plain": [
              "              0         1\n",
              "0  8.562699e-01  0.143730\n",
              "1  9.614820e-01  0.038518\n",
              "2  8.407186e-10  1.000000\n",
              "3  2.418578e-07  1.000000\n",
              "4  2.753127e-02  0.972469"
            ],
            "text/html": [
              "\n",
              "\n",
              "  <div id=\"df-a20c57a9-66ce-4448-8adf-dea69dbec237\">\n",
              "    <div class=\"colab-df-container\">\n",
              "      <div>\n",
              "<style scoped>\n",
              "    .dataframe tbody tr th:only-of-type {\n",
              "        vertical-align: middle;\n",
              "    }\n",
              "\n",
              "    .dataframe tbody tr th {\n",
              "        vertical-align: top;\n",
              "    }\n",
              "\n",
              "    .dataframe thead th {\n",
              "        text-align: right;\n",
              "    }\n",
              "</style>\n",
              "<table border=\"1\" class=\"dataframe\">\n",
              "  <thead>\n",
              "    <tr style=\"text-align: right;\">\n",
              "      <th></th>\n",
              "      <th>0</th>\n",
              "      <th>1</th>\n",
              "    </tr>\n",
              "  </thead>\n",
              "  <tbody>\n",
              "    <tr>\n",
              "      <th>0</th>\n",
              "      <td>8.562699e-01</td>\n",
              "      <td>0.143730</td>\n",
              "    </tr>\n",
              "    <tr>\n",
              "      <th>1</th>\n",
              "      <td>9.614820e-01</td>\n",
              "      <td>0.038518</td>\n",
              "    </tr>\n",
              "    <tr>\n",
              "      <th>2</th>\n",
              "      <td>8.407186e-10</td>\n",
              "      <td>1.000000</td>\n",
              "    </tr>\n",
              "    <tr>\n",
              "      <th>3</th>\n",
              "      <td>2.418578e-07</td>\n",
              "      <td>1.000000</td>\n",
              "    </tr>\n",
              "    <tr>\n",
              "      <th>4</th>\n",
              "      <td>2.753127e-02</td>\n",
              "      <td>0.972469</td>\n",
              "    </tr>\n",
              "  </tbody>\n",
              "</table>\n",
              "</div>\n",
              "      <button class=\"colab-df-convert\" onclick=\"convertToInteractive('df-a20c57a9-66ce-4448-8adf-dea69dbec237')\"\n",
              "              title=\"Convert this dataframe to an interactive table.\"\n",
              "              style=\"display:none;\">\n",
              "\n",
              "  <svg xmlns=\"http://www.w3.org/2000/svg\" height=\"24px\"viewBox=\"0 0 24 24\"\n",
              "       width=\"24px\">\n",
              "    <path d=\"M0 0h24v24H0V0z\" fill=\"none\"/>\n",
              "    <path d=\"M18.56 5.44l.94 2.06.94-2.06 2.06-.94-2.06-.94-.94-2.06-.94 2.06-2.06.94zm-11 1L8.5 8.5l.94-2.06 2.06-.94-2.06-.94L8.5 2.5l-.94 2.06-2.06.94zm10 10l.94 2.06.94-2.06 2.06-.94-2.06-.94-.94-2.06-.94 2.06-2.06.94z\"/><path d=\"M17.41 7.96l-1.37-1.37c-.4-.4-.92-.59-1.43-.59-.52 0-1.04.2-1.43.59L10.3 9.45l-7.72 7.72c-.78.78-.78 2.05 0 2.83L4 21.41c.39.39.9.59 1.41.59.51 0 1.02-.2 1.41-.59l7.78-7.78 2.81-2.81c.8-.78.8-2.07 0-2.86zM5.41 20L4 18.59l7.72-7.72 1.47 1.35L5.41 20z\"/>\n",
              "  </svg>\n",
              "      </button>\n",
              "\n",
              "\n",
              "\n",
              "    <div id=\"df-9340fd21-8eef-4732-a67a-094cc28e643f\">\n",
              "      <button class=\"colab-df-quickchart\" onclick=\"quickchart('df-9340fd21-8eef-4732-a67a-094cc28e643f')\"\n",
              "              title=\"Suggest charts.\"\n",
              "              style=\"display:none;\">\n",
              "\n",
              "<svg xmlns=\"http://www.w3.org/2000/svg\" height=\"24px\"viewBox=\"0 0 24 24\"\n",
              "     width=\"24px\">\n",
              "    <g>\n",
              "        <path d=\"M19 3H5c-1.1 0-2 .9-2 2v14c0 1.1.9 2 2 2h14c1.1 0 2-.9 2-2V5c0-1.1-.9-2-2-2zM9 17H7v-7h2v7zm4 0h-2V7h2v10zm4 0h-2v-4h2v4z\"/>\n",
              "    </g>\n",
              "</svg>\n",
              "      </button>\n",
              "    </div>\n",
              "\n",
              "<style>\n",
              "  .colab-df-quickchart {\n",
              "    background-color: #E8F0FE;\n",
              "    border: none;\n",
              "    border-radius: 50%;\n",
              "    cursor: pointer;\n",
              "    display: none;\n",
              "    fill: #1967D2;\n",
              "    height: 32px;\n",
              "    padding: 0 0 0 0;\n",
              "    width: 32px;\n",
              "  }\n",
              "\n",
              "  .colab-df-quickchart:hover {\n",
              "    background-color: #E2EBFA;\n",
              "    box-shadow: 0px 1px 2px rgba(60, 64, 67, 0.3), 0px 1px 3px 1px rgba(60, 64, 67, 0.15);\n",
              "    fill: #174EA6;\n",
              "  }\n",
              "\n",
              "  [theme=dark] .colab-df-quickchart {\n",
              "    background-color: #3B4455;\n",
              "    fill: #D2E3FC;\n",
              "  }\n",
              "\n",
              "  [theme=dark] .colab-df-quickchart:hover {\n",
              "    background-color: #434B5C;\n",
              "    box-shadow: 0px 1px 3px 1px rgba(0, 0, 0, 0.15);\n",
              "    filter: drop-shadow(0px 1px 2px rgba(0, 0, 0, 0.3));\n",
              "    fill: #FFFFFF;\n",
              "  }\n",
              "</style>\n",
              "\n",
              "    <script>\n",
              "      async function quickchart(key) {\n",
              "        const containerElement = document.querySelector('#' + key);\n",
              "        const charts = await google.colab.kernel.invokeFunction(\n",
              "            'suggestCharts', [key], {});\n",
              "      }\n",
              "    </script>\n",
              "\n",
              "      <script>\n",
              "\n",
              "function displayQuickchartButton(domScope) {\n",
              "  let quickchartButtonEl =\n",
              "    domScope.querySelector('#df-9340fd21-8eef-4732-a67a-094cc28e643f button.colab-df-quickchart');\n",
              "  quickchartButtonEl.style.display =\n",
              "    google.colab.kernel.accessAllowed ? 'block' : 'none';\n",
              "}\n",
              "\n",
              "        displayQuickchartButton(document);\n",
              "      </script>\n",
              "      <style>\n",
              "    .colab-df-container {\n",
              "      display:flex;\n",
              "      flex-wrap:wrap;\n",
              "      gap: 12px;\n",
              "    }\n",
              "\n",
              "    .colab-df-convert {\n",
              "      background-color: #E8F0FE;\n",
              "      border: none;\n",
              "      border-radius: 50%;\n",
              "      cursor: pointer;\n",
              "      display: none;\n",
              "      fill: #1967D2;\n",
              "      height: 32px;\n",
              "      padding: 0 0 0 0;\n",
              "      width: 32px;\n",
              "    }\n",
              "\n",
              "    .colab-df-convert:hover {\n",
              "      background-color: #E2EBFA;\n",
              "      box-shadow: 0px 1px 2px rgba(60, 64, 67, 0.3), 0px 1px 3px 1px rgba(60, 64, 67, 0.15);\n",
              "      fill: #174EA6;\n",
              "    }\n",
              "\n",
              "    [theme=dark] .colab-df-convert {\n",
              "      background-color: #3B4455;\n",
              "      fill: #D2E3FC;\n",
              "    }\n",
              "\n",
              "    [theme=dark] .colab-df-convert:hover {\n",
              "      background-color: #434B5C;\n",
              "      box-shadow: 0px 1px 3px 1px rgba(0, 0, 0, 0.15);\n",
              "      filter: drop-shadow(0px 1px 2px rgba(0, 0, 0, 0.3));\n",
              "      fill: #FFFFFF;\n",
              "    }\n",
              "  </style>\n",
              "\n",
              "      <script>\n",
              "        const buttonEl =\n",
              "          document.querySelector('#df-a20c57a9-66ce-4448-8adf-dea69dbec237 button.colab-df-convert');\n",
              "        buttonEl.style.display =\n",
              "          google.colab.kernel.accessAllowed ? 'block' : 'none';\n",
              "\n",
              "        async function convertToInteractive(key) {\n",
              "          const element = document.querySelector('#df-a20c57a9-66ce-4448-8adf-dea69dbec237');\n",
              "          const dataTable =\n",
              "            await google.colab.kernel.invokeFunction('convertToInteractive',\n",
              "                                                     [key], {});\n",
              "          if (!dataTable) return;\n",
              "\n",
              "          const docLinkHtml = 'Like what you see? Visit the ' +\n",
              "            '<a target=\"_blank\" href=https://colab.research.google.com/notebooks/data_table.ipynb>data table notebook</a>'\n",
              "            + ' to learn more about interactive tables.';\n",
              "          element.innerHTML = '';\n",
              "          dataTable['output_type'] = 'display_data';\n",
              "          await google.colab.output.renderOutput(dataTable, element);\n",
              "          const docLink = document.createElement('div');\n",
              "          docLink.innerHTML = docLinkHtml;\n",
              "          element.appendChild(docLink);\n",
              "        }\n",
              "      </script>\n",
              "    </div>\n",
              "  </div>\n"
            ]
          },
          "metadata": {},
          "execution_count": 203
        }
      ]
    },
    {
      "cell_type": "code",
      "source": [
        "model.score(X_train, y_train)"
      ],
      "metadata": {
        "colab": {
          "base_uri": "https://localhost:8080/"
        },
        "id": "lTqd2nXsiCqM",
        "outputId": "20157eb1-1d26-48d9-d4c8-40d54b69dbee"
      },
      "execution_count": null,
      "outputs": [
        {
          "output_type": "execute_result",
          "data": {
            "text/plain": [
              "0.9810215259202649"
            ]
          },
          "metadata": {},
          "execution_count": 204
        }
      ]
    },
    {
      "cell_type": "code",
      "source": [
        "# predict probabilities\n",
        "probs = model.predict_proba(X_train)\n",
        "# keep probabilities for the positive outcome only\n",
        "probs = probs[:, 1]\n",
        "# calculate AUC\n",
        "auc = roc_auc_score(y_train, probs)\n",
        "print('AUC: %.3f' % auc)\n",
        "# calculate roc curve\n",
        "train_fpr, train_tpr, train_thresholds = roc_curve(y_train, probs)\n",
        "plt.plot([0, 1], [0, 1], linestyle='--')\n",
        "# plot the roc curve for the model\n",
        "plt.plot(train_fpr, train_tpr);"
      ],
      "metadata": {
        "colab": {
          "base_uri": "https://localhost:8080/",
          "height": 447
        },
        "id": "pyquILHQhBTY",
        "outputId": "a75d4c2a-0c3a-45a1-87e6-101e004d4379"
      },
      "execution_count": null,
      "outputs": [
        {
          "output_type": "stream",
          "name": "stdout",
          "text": [
            "AUC: 0.992\n"
          ]
        },
        {
          "output_type": "display_data",
          "data": {
            "text/plain": [
              "<Figure size 640x480 with 1 Axes>"
            ],
            "image/png": "[encoded data removed]"
          },
          "metadata": {}
        }
      ]
    },
    {
      "cell_type": "code",
      "source": [
        "model.score(X_test, y_test)"
      ],
      "metadata": {
        "colab": {
          "base_uri": "https://localhost:8080/"
        },
        "id": "9iHt6jNvirji",
        "outputId": "76dabea4-7bbe-4a78-8c5c-e1ba7ab1c33d"
      },
      "execution_count": null,
      "outputs": [
        {
          "output_type": "execute_result",
          "data": {
            "text/plain": [
              "0.9795008912655971"
            ]
          },
          "metadata": {},
          "execution_count": 208
        }
      ]
    },
    {
      "cell_type": "code",
      "source": [
        "# predict probabilities\n",
        "probs = model.predict_proba(X_test)\n",
        "# keep probabilities for the positive outcome only\n",
        "probs = probs[:, 1]\n",
        "# calculate AUC\n",
        "test_auc = roc_auc_score(y_test, probs)\n",
        "print('AUC: %.3f' % auc)\n",
        "# calculate roc curve\n",
        "test_fpr, test_tpr, test_thresholds = roc_curve(y_test, probs)\n",
        "plt.plot([0, 1], [0, 1], linestyle='--')\n",
        "# plot the roc curve for the model\n",
        "plt.plot(test_fpr, test_tpr);"
      ],
      "metadata": {
        "colab": {
          "base_uri": "https://localhost:8080/",
          "height": 447
        },
        "id": "51afnQcji9r5",
        "outputId": "f1a846b6-9a41-406c-d1bf-46b357812f89"
      },
      "execution_count": null,
      "outputs": [
        {
          "output_type": "stream",
          "name": "stdout",
          "text": [
            "AUC: 0.992\n"
          ]
        },
        {
          "output_type": "display_data",
          "data": {
            "text/plain": [
              "<Figure size 640x480 with 1 Axes>"
            ],
            "image/png": "[encoded data removed]"
          },
          "metadata": {}
        }
      ]
    },
    {
      "cell_type": "code",
      "source": [
        "confusion_matrix(y_train, ytrain_predict)"
      ],
      "metadata": {
        "colab": {
          "base_uri": "https://localhost:8080/"
        },
        "id": "O7Tx5A17jEA4",
        "outputId": "d9ff6759-485a-464d-a78f-149183a111d4"
      },
      "execution_count": null,
      "outputs": [
        {
          "output_type": "execute_result",
          "data": {
            "text/plain": [
              "array([[ 704,   93],\n",
              "       [  56, 6998]])"
            ]
          },
          "metadata": {},
          "execution_count": 210
        }
      ]
    },
    {
      "cell_type": "code",
      "source": [
        "print(classification_report(y_train, ytrain_predict))"
      ],
      "metadata": {
        "colab": {
          "base_uri": "https://localhost:8080/"
        },
        "id": "9zzqm6XAjJI5",
        "outputId": "29c1261b-d4c2-43c7-d649-48ebe8d5edd8"
      },
      "execution_count": null,
      "outputs": [
        {
          "output_type": "stream",
          "name": "stdout",
          "text": [
            "              precision    recall  f1-score   support\n",
            "\n",
            "           0       0.93      0.88      0.90       797\n",
            "           1       0.99      0.99      0.99      7054\n",
            "\n",
            "    accuracy                           0.98      7851\n",
            "   macro avg       0.96      0.94      0.95      7851\n",
            "weighted avg       0.98      0.98      0.98      7851\n",
            "\n"
          ]
        }
      ]
    },
    {
      "cell_type": "code",
      "source": [
        "confusion_matrix(y_test, ytest_predict)"
      ],
      "metadata": {
        "colab": {
          "base_uri": "https://localhost:8080/"
        },
        "id": "s8PGUD5fk6fL",
        "outputId": "71663e78-676d-4205-e77a-77c3eb914adc"
      },
      "execution_count": null,
      "outputs": [
        {
          "output_type": "execute_result",
          "data": {
            "text/plain": [
              "array([[ 339,   44],\n",
              "       [  25, 2958]])"
            ]
          },
          "metadata": {},
          "execution_count": 218
        }
      ]
    },
    {
      "cell_type": "code",
      "source": [
        "print(classification_report(y_test, ytest_predict))"
      ],
      "metadata": {
        "colab": {
          "base_uri": "https://localhost:8080/"
        },
        "id": "WCP3vzSPk_2u",
        "outputId": "a81d906a-8f9b-4f48-c354-9796f3a0ea9d"
      },
      "execution_count": null,
      "outputs": [
        {
          "output_type": "stream",
          "name": "stdout",
          "text": [
            "              precision    recall  f1-score   support\n",
            "\n",
            "           0       0.93      0.89      0.91       383\n",
            "           1       0.99      0.99      0.99      2983\n",
            "\n",
            "    accuracy                           0.98      3366\n",
            "   macro avg       0.96      0.94      0.95      3366\n",
            "weighted avg       0.98      0.98      0.98      3366\n",
            "\n"
          ]
        }
      ]
    },
    {
      "cell_type": "code",
      "source": [
        "## Applying GridSearchCV for Logistic Regression"
      ],
      "metadata": {
        "id": "cT0ZF7CzlE5b"
      },
      "execution_count": null,
      "outputs": []
    },
    {
      "cell_type": "code",
      "source": [
        "grid={'penalty':['l2','none'],\n",
        "      'solver':['sag','lbfgs'],\n",
        "      'tol':[0.0001,0.00001]}"
      ],
      "metadata": {
        "id": "UouWZ5n-jNBn"
      },
      "execution_count": null,
      "outputs": []
    },
    {
      "cell_type": "code",
      "source": [
        "model = LogisticRegression(max_iter=10000,n_jobs=2)"
      ],
      "metadata": {
        "id": "f-isKmBqo2RT"
      },
      "execution_count": null,
      "outputs": []
    },
    {
      "cell_type": "code",
      "source": [
        "grid_search = GridSearchCV(estimator = model, param_grid = grid, cv = 3,n_jobs=-1,scoring='f1')"
      ],
      "metadata": {
        "id": "bxUel2kqo5bW"
      },
      "execution_count": null,
      "outputs": []
    },
    {
      "cell_type": "code",
      "source": [
        "grid_search.fit(X_train, y_train)"
      ],
      "metadata": {
        "colab": {
          "base_uri": "https://localhost:8080/",
          "height": 205
        },
        "id": "Utv4YK7Qq-vT",
        "outputId": "50d3a6db-8057-4604-e323-8ea764ddcaf3"
      },
      "execution_count": null,
      "outputs": [
        {
          "output_type": "stream",
          "name": "stderr",
          "text": [
            "/usr/local/lib/python3.10/dist-packages/sklearn/linear_model/_logistic.py:1173: FutureWarning: `penalty='none'`has been deprecated in 1.2 and will be removed in 1.4. To keep the past behaviour, set `penalty=None`.\n",
            "  warnings.warn(\n",
            "/usr/local/lib/python3.10/dist-packages/sklearn/utils/validation.py:1143: DataConversionWarning: A column-vector y was passed when a 1d array was expected. Please change the shape of y to (n_samples, ), for example using ravel().\n",
            "  y = column_or_1d(y, warn=True)\n"
          ]
        },
        {
          "output_type": "execute_result",
          "data": {
            "text/plain": [
              "GridSearchCV(cv=3, estimator=LogisticRegression(max_iter=10000, n_jobs=2),\n",
              "             n_jobs=-1,\n",
              "             param_grid={'penalty': ['l2', 'none'], 'solver': ['sag', 'lbfgs'],\n",
              "                         'tol': [0.0001, 1e-05]},\n",
              "             scoring='f1')"
            ],
            "text/html": [
              "<style>#sk-container-id-5 {color: black;background-color: white;}#sk-container-id-5 pre{padding: 0;}#sk-container-id-5 div.sk-toggleable {background-color: white;}#sk-container-id-5 label.sk-toggleable__label {cursor: pointer;display: block;width: 100%;margin-bottom: 0;padding: 0.3em;box-sizing: border-box;text-align: center;}#sk-container-id-5 label.sk-toggleable__label-arrow:before {content: \"▸\";float: left;margin-right: 0.25em;color: #696969;}#sk-container-id-5 label.sk-toggleable__label-arrow:hover:before {color: black;}#sk-container-id-5 div.sk-estimator:hover label.sk-toggleable__label-arrow:before {color: black;}#sk-container-id-5 div.sk-toggleable__content {max-height: 0;max-width: 0;overflow: hidden;text-align: left;background-color: #f0f8ff;}#sk-container-id-5 div.sk-toggleable__content pre {margin: 0.2em;color: black;border-radius: 0.25em;background-color: #f0f8ff;}#sk-container-id-5 input.sk-toggleable__control:checked~div.sk-toggleable__content {max-height: 200px;max-width: 100%;overflow: auto;}#sk-container-id-5 input.sk-toggleable__control:checked~label.sk-toggleable__label-arrow:before {content: \"▾\";}#sk-container-id-5 div.sk-estimator input.sk-toggleable__control:checked~label.sk-toggleable__label {background-color: #d4ebff;}#sk-container-id-5 div.sk-label input.sk-toggleable__control:checked~label.sk-toggleable__label {background-color: #d4ebff;}#sk-container-id-5 input.sk-hidden--visually {border: 0;clip: rect(1px 1px 1px 1px);clip: rect(1px, 1px, 1px, 1px);height: 1px;margin: -1px;overflow: hidden;padding: 0;position: absolute;width: 1px;}#sk-container-id-5 div.sk-estimator {font-family: monospace;background-color: #f0f8ff;border: 1px dotted black;border-radius: 0.25em;box-sizing: border-box;margin-bottom: 0.5em;}#sk-container-id-5 div.sk-estimator:hover {background-color: #d4ebff;}#sk-container-id-5 div.sk-parallel-item::after {content: \"\";width: 100%;border-bottom: 1px solid gray;flex-grow: 1;}#sk-container-id-5 div.sk-label:hover label.sk-toggleable__label {background-color: #d4ebff;}#sk-container-id-5 div.sk-serial::before {content: \"\";position: absolute;border-left: 1px solid gray;box-sizing: border-box;top: 0;bottom: 0;left: 50%;z-index: 0;}#sk-container-id-5 div.sk-serial {display: flex;flex-direction: column;align-items: center;background-color: white;padding-right: 0.2em;padding-left: 0.2em;position: relative;}#sk-container-id-5 div.sk-item {position: relative;z-index: 1;}#sk-container-id-5 div.sk-parallel {display: flex;align-items: stretch;justify-content: center;background-color: white;position: relative;}#sk-container-id-5 div.sk-item::before, #sk-container-id-5 div.sk-parallel-item::before {content: \"\";position: absolute;border-left: 1px solid gray;box-sizing: border-box;top: 0;bottom: 0;left: 50%;z-index: -1;}#sk-container-id-5 div.sk-parallel-item {display: flex;flex-direction: column;z-index: 1;position: relative;background-color: white;}#sk-container-id-5 div.sk-parallel-item:first-child::after {align-self: flex-end;width: 50%;}#sk-container-id-5 div.sk-parallel-item:last-child::after {align-self: flex-start;width: 50%;}#sk-container-id-5 div.sk-parallel-item:only-child::after {width: 0;}#sk-container-id-5 div.sk-dashed-wrapped {border: 1px dashed gray;margin: 0 0.4em 0.5em 0.4em;box-sizing: border-box;padding-bottom: 0.4em;background-color: white;}#sk-container-id-5 div.sk-label label {font-family: monospace;font-weight: bold;display: inline-block;line-height: 1.2em;}#sk-container-id-5 div.sk-label-container {text-align: center;}#sk-container-id-5 div.sk-container {/* jupyter's `normalize.less` sets `[hidden] { display: none; }` but bootstrap.min.css set `[hidden] { display: none !important; }` so we also need the `!important` here to be able to override the default hidden behavior on the sphinx rendered scikit-learn.org. See: https://github.com/scikit-learn/scikit-learn/issues/21755 */display: inline-block !important;position: relative;}#sk-container-id-5 div.sk-text-repr-fallback {display: none;}</style><div id=\"sk-container-id-5\" class=\"sk-top-container\"><div class=\"sk-text-repr-fallback\"><pre>GridSearchCV(cv=3, estimator=LogisticRegression(max_iter=10000, n_jobs=2),\n",
              "             n_jobs=-1,\n",
              "             param_grid={&#x27;penalty&#x27;: [&#x27;l2&#x27;, &#x27;none&#x27;], &#x27;solver&#x27;: [&#x27;sag&#x27;, &#x27;lbfgs&#x27;],\n",
              "                         &#x27;tol&#x27;: [0.0001, 1e-05]},\n",
              "             scoring=&#x27;f1&#x27;)</pre><b>In a Jupyter environment, please rerun this cell to show the HTML representation or trust the notebook. <br />On GitHub, the HTML representation is unable to render, please try loading this page with nbviewer.org.</b></div><div class=\"sk-container\" hidden><div class=\"sk-item sk-dashed-wrapped\"><div class=\"sk-label-container\"><div class=\"sk-label sk-toggleable\"><input class=\"sk-toggleable__control sk-hidden--visually\" id=\"sk-estimator-id-7\" type=\"checkbox\" ><label for=\"sk-estimator-id-7\" class=\"sk-toggleable__label sk-toggleable__label-arrow\">GridSearchCV</label><div class=\"sk-toggleable__content\"><pre>GridSearchCV(cv=3, estimator=LogisticRegression(max_iter=10000, n_jobs=2),\n",
              "             n_jobs=-1,\n",
              "             param_grid={&#x27;penalty&#x27;: [&#x27;l2&#x27;, &#x27;none&#x27;], &#x27;solver&#x27;: [&#x27;sag&#x27;, &#x27;lbfgs&#x27;],\n",
              "                         &#x27;tol&#x27;: [0.0001, 1e-05]},\n",
              "             scoring=&#x27;f1&#x27;)</pre></div></div></div><div class=\"sk-parallel\"><div class=\"sk-parallel-item\"><div class=\"sk-item\"><div class=\"sk-label-container\"><div class=\"sk-label sk-toggleable\"><input class=\"sk-toggleable__control sk-hidden--visually\" id=\"sk-estimator-id-8\" type=\"checkbox\" ><label for=\"sk-estimator-id-8\" class=\"sk-toggleable__label sk-toggleable__label-arrow\">estimator: LogisticRegression</label><div class=\"sk-toggleable__content\"><pre>LogisticRegression(max_iter=10000, n_jobs=2)</pre></div></div></div><div class=\"sk-serial\"><div class=\"sk-item\"><div class=\"sk-estimator sk-toggleable\"><input class=\"sk-toggleable__control sk-hidden--visually\" id=\"sk-estimator-id-9\" type=\"checkbox\" ><label for=\"sk-estimator-id-9\" class=\"sk-toggleable__label sk-toggleable__label-arrow\">LogisticRegression</label><div class=\"sk-toggleable__content\"><pre>LogisticRegression(max_iter=10000, n_jobs=2)</pre></div></div></div></div></div></div></div></div></div></div>"
            ]
          },
          "metadata": {},
          "execution_count": 230
        }
      ]
    },
    {
      "cell_type": "code",
      "source": [
        "print(grid_search.best_params_,'\\n')\n",
        "print(grid_search.best_estimator_)"
      ],
      "metadata": {
        "colab": {
          "base_uri": "https://localhost:8080/"
        },
        "id": "w4W4V6ofpya6",
        "outputId": "871504db-3cd4-470d-b283-763c5c335e20"
      },
      "execution_count": null,
      "outputs": [
        {
          "output_type": "stream",
          "name": "stdout",
          "text": [
            "{'penalty': 'none', 'solver': 'lbfgs', 'tol': 0.0001} \n",
            "\n",
            "LogisticRegression(max_iter=10000, n_jobs=2, penalty='none')\n"
          ]
        }
      ]
    },
    {
      "cell_type": "code",
      "source": [
        "best_model = grid_search.best_estimator_"
      ],
      "metadata": {
        "id": "bzRnZZcWrvtB"
      },
      "execution_count": null,
      "outputs": []
    },
    {
      "cell_type": "code",
      "source": [
        "#Prediction on training set"
      ],
      "metadata": {
        "id": "s8s3IbUer5VI"
      },
      "execution_count": null,
      "outputs": []
    },
    {
      "cell_type": "code",
      "source": [
        "ytrain_predict = best_model.predict(X_train)\n",
        "ytest_predict = best_model.predict(X_test)"
      ],
      "metadata": {
        "id": "fNyBpw85qh-Z"
      },
      "execution_count": null,
      "outputs": []
    },
    {
      "cell_type": "code",
      "source": [
        "## Getting the probabilities on the test set\n",
        "\n",
        "ytest_predict_prob=best_model.predict_proba(X_test)\n",
        "pd.DataFrame(ytest_predict_prob).head()"
      ],
      "metadata": {
        "colab": {
          "base_uri": "https://localhost:8080/",
          "height": 206
        },
        "id": "nDAZ1IfRr_kK",
        "outputId": "cd83e530-4299-4c39-c83f-a35aba974f89"
      },
      "execution_count": null,
      "outputs": [
        {
          "output_type": "execute_result",
          "data": {
            "text/plain": [
              "              0         1\n",
              "0  9.378999e-01  0.062100\n",
              "1  9.791000e-01  0.020900\n",
              "2  4.176963e-10  1.000000\n",
              "3  6.128291e-07  0.999999\n",
              "4  6.200158e-02  0.937998"
            ],
            "text/html": [
              "\n",
              "\n",
              "  <div id=\"df-e822ed79-c1b3-4746-87cd-690abd5ca677\">\n",
              "    <div class=\"colab-df-container\">\n",
              "      <div>\n",
              "<style scoped>\n",
              "    .dataframe tbody tr th:only-of-type {\n",
              "        vertical-align: middle;\n",
              "    }\n",
              "\n",
              "    .dataframe tbody tr th {\n",
              "        vertical-align: top;\n",
              "    }\n",
              "\n",
              "    .dataframe thead th {\n",
              "        text-align: right;\n",
              "    }\n",
              "</style>\n",
              "<table border=\"1\" class=\"dataframe\">\n",
              "  <thead>\n",
              "    <tr style=\"text-align: right;\">\n",
              "      <th></th>\n",
              "      <th>0</th>\n",
              "      <th>1</th>\n",
              "    </tr>\n",
              "  </thead>\n",
              "  <tbody>\n",
              "    <tr>\n",
              "      <th>0</th>\n",
              "      <td>9.378999e-01</td>\n",
              "      <td>0.062100</td>\n",
              "    </tr>\n",
              "    <tr>\n",
              "      <th>1</th>\n",
              "      <td>9.791000e-01</td>\n",
              "      <td>0.020900</td>\n",
              "    </tr>\n",
              "    <tr>\n",
              "      <th>2</th>\n",
              "      <td>4.176963e-10</td>\n",
              "      <td>1.000000</td>\n",
              "    </tr>\n",
              "    <tr>\n",
              "      <th>3</th>\n",
              "      <td>6.128291e-07</td>\n",
              "      <td>0.999999</td>\n",
              "    </tr>\n",
              "    <tr>\n",
              "      <th>4</th>\n",
              "      <td>6.200158e-02</td>\n",
              "      <td>0.937998</td>\n",
              "    </tr>\n",
              "  </tbody>\n",
              "</table>\n",
              "</div>\n",
              "      <button class=\"colab-df-convert\" onclick=\"convertToInteractive('df-e822ed79-c1b3-4746-87cd-690abd5ca677')\"\n",
              "              title=\"Convert this dataframe to an interactive table.\"\n",
              "              style=\"display:none;\">\n",
              "\n",
              "  <svg xmlns=\"http://www.w3.org/2000/svg\" height=\"24px\"viewBox=\"0 0 24 24\"\n",
              "       width=\"24px\">\n",
              "    <path d=\"M0 0h24v24H0V0z\" fill=\"none\"/>\n",
              "    <path d=\"M18.56 5.44l.94 2.06.94-2.06 2.06-.94-2.06-.94-.94-2.06-.94 2.06-2.06.94zm-11 1L8.5 8.5l.94-2.06 2.06-.94-2.06-.94L8.5 2.5l-.94 2.06-2.06.94zm10 10l.94 2.06.94-2.06 2.06-.94-2.06-.94-.94-2.06-.94 2.06-2.06.94z\"/><path d=\"M17.41 7.96l-1.37-1.37c-.4-.4-.92-.59-1.43-.59-.52 0-1.04.2-1.43.59L10.3 9.45l-7.72 7.72c-.78.78-.78 2.05 0 2.83L4 21.41c.39.39.9.59 1.41.59.51 0 1.02-.2 1.41-.59l7.78-7.78 2.81-2.81c.8-.78.8-2.07 0-2.86zM5.41 20L4 18.59l7.72-7.72 1.47 1.35L5.41 20z\"/>\n",
              "  </svg>\n",
              "      </button>\n",
              "\n",
              "\n",
              "\n",
              "    <div id=\"df-4325b495-3344-458c-8b94-eefe15e51e8b\">\n",
              "      <button class=\"colab-df-quickchart\" onclick=\"quickchart('df-4325b495-3344-458c-8b94-eefe15e51e8b')\"\n",
              "              title=\"Suggest charts.\"\n",
              "              style=\"display:none;\">\n",
              "\n",
              "<svg xmlns=\"http://www.w3.org/2000/svg\" height=\"24px\"viewBox=\"0 0 24 24\"\n",
              "     width=\"24px\">\n",
              "    <g>\n",
              "        <path d=\"M19 3H5c-1.1 0-2 .9-2 2v14c0 1.1.9 2 2 2h14c1.1 0 2-.9 2-2V5c0-1.1-.9-2-2-2zM9 17H7v-7h2v7zm4 0h-2V7h2v10zm4 0h-2v-4h2v4z\"/>\n",
              "    </g>\n",
              "</svg>\n",
              "      </button>\n",
              "    </div>\n",
              "\n",
              "<style>\n",
              "  .colab-df-quickchart {\n",
              "    background-color: #E8F0FE;\n",
              "    border: none;\n",
              "    border-radius: 50%;\n",
              "    cursor: pointer;\n",
              "    display: none;\n",
              "    fill: #1967D2;\n",
              "    height: 32px;\n",
              "    padding: 0 0 0 0;\n",
              "    width: 32px;\n",
              "  }\n",
              "\n",
              "  .colab-df-quickchart:hover {\n",
              "    background-color: #E2EBFA;\n",
              "    box-shadow: 0px 1px 2px rgba(60, 64, 67, 0.3), 0px 1px 3px 1px rgba(60, 64, 67, 0.15);\n",
              "    fill: #174EA6;\n",
              "  }\n",
              "\n",
              "  [theme=dark] .colab-df-quickchart {\n",
              "    background-color: #3B4455;\n",
              "    fill: #D2E3FC;\n",
              "  }\n",
              "\n",
              "  [theme=dark] .colab-df-quickchart:hover {\n",
              "    background-color: #434B5C;\n",
              "    box-shadow: 0px 1px 3px 1px rgba(0, 0, 0, 0.15);\n",
              "    filter: drop-shadow(0px 1px 2px rgba(0, 0, 0, 0.3));\n",
              "    fill: #FFFFFF;\n",
              "  }\n",
              "</style>\n",
              "\n",
              "    <script>\n",
              "      async function quickchart(key) {\n",
              "        const containerElement = document.querySelector('#' + key);\n",
              "        const charts = await google.colab.kernel.invokeFunction(\n",
              "            'suggestCharts', [key], {});\n",
              "      }\n",
              "    </script>\n",
              "\n",
              "      <script>\n",
              "\n",
              "function displayQuickchartButton(domScope) {\n",
              "  let quickchartButtonEl =\n",
              "    domScope.querySelector('#df-4325b495-3344-458c-8b94-eefe15e51e8b button.colab-df-quickchart');\n",
              "  quickchartButtonEl.style.display =\n",
              "    google.colab.kernel.accessAllowed ? 'block' : 'none';\n",
              "}\n",
              "\n",
              "        displayQuickchartButton(document);\n",
              "      </script>\n",
              "      <style>\n",
              "    .colab-df-container {\n",
              "      display:flex;\n",
              "      flex-wrap:wrap;\n",
              "      gap: 12px;\n",
              "    }\n",
              "\n",
              "    .colab-df-convert {\n",
              "      background-color: #E8F0FE;\n",
              "      border: none;\n",
              "      border-radius: 50%;\n",
              "      cursor: pointer;\n",
              "      display: none;\n",
              "      fill: #1967D2;\n",
              "      height: 32px;\n",
              "      padding: 0 0 0 0;\n",
              "      width: 32px;\n",
              "    }\n",
              "\n",
              "    .colab-df-convert:hover {\n",
              "      background-color: #E2EBFA;\n",
              "      box-shadow: 0px 1px 2px rgba(60, 64, 67, 0.3), 0px 1px 3px 1px rgba(60, 64, 67, 0.15);\n",
              "      fill: #174EA6;\n",
              "    }\n",
              "\n",
              "    [theme=dark] .colab-df-convert {\n",
              "      background-color: #3B4455;\n",
              "      fill: #D2E3FC;\n",
              "    }\n",
              "\n",
              "    [theme=dark] .colab-df-convert:hover {\n",
              "      background-color: #434B5C;\n",
              "      box-shadow: 0px 1px 3px 1px rgba(0, 0, 0, 0.15);\n",
              "      filter: drop-shadow(0px 1px 2px rgba(0, 0, 0, 0.3));\n",
              "      fill: #FFFFFF;\n",
              "    }\n",
              "  </style>\n",
              "\n",
              "      <script>\n",
              "        const buttonEl =\n",
              "          document.querySelector('#df-e822ed79-c1b3-4746-87cd-690abd5ca677 button.colab-df-convert');\n",
              "        buttonEl.style.display =\n",
              "          google.colab.kernel.accessAllowed ? 'block' : 'none';\n",
              "\n",
              "        async function convertToInteractive(key) {\n",
              "          const element = document.querySelector('#df-e822ed79-c1b3-4746-87cd-690abd5ca677');\n",
              "          const dataTable =\n",
              "            await google.colab.kernel.invokeFunction('convertToInteractive',\n",
              "                                                     [key], {});\n",
              "          if (!dataTable) return;\n",
              "\n",
              "          const docLinkHtml = 'Like what you see? Visit the ' +\n",
              "            '<a target=\"_blank\" href=https://colab.research.google.com/notebooks/data_table.ipynb>data table notebook</a>'\n",
              "            + ' to learn more about interactive tables.';\n",
              "          element.innerHTML = '';\n",
              "          dataTable['output_type'] = 'display_data';\n",
              "          await google.colab.output.renderOutput(dataTable, element);\n",
              "          const docLink = document.createElement('div');\n",
              "          docLink.innerHTML = docLinkHtml;\n",
              "          element.appendChild(docLink);\n",
              "        }\n",
              "      </script>\n",
              "    </div>\n",
              "  </div>\n"
            ]
          },
          "metadata": {},
          "execution_count": 234
        }
      ]
    },
    {
      "cell_type": "code",
      "source": [
        "## Confusion matrix on the training data\n",
        "\n",
        "confusion_matrix(y_train, ytrain_predict)\n",
        "print(classification_report(y_train, ytrain_predict),'\\n');"
      ],
      "metadata": {
        "colab": {
          "base_uri": "https://localhost:8080/"
        },
        "id": "cE2zrxLPsD_o",
        "outputId": "9990f1fe-a929-4533-e619-6c774abae6d6"
      },
      "execution_count": null,
      "outputs": [
        {
          "output_type": "stream",
          "name": "stdout",
          "text": [
            "              precision    recall  f1-score   support\n",
            "\n",
            "           0       0.92      0.89      0.90       797\n",
            "           1       0.99      0.99      0.99      7054\n",
            "\n",
            "    accuracy                           0.98      7851\n",
            "   macro avg       0.95      0.94      0.95      7851\n",
            "weighted avg       0.98      0.98      0.98      7851\n",
            " \n",
            "\n"
          ]
        }
      ]
    },
    {
      "cell_type": "code",
      "source": [
        "## Confusion matrix on the test data\n",
        "\n",
        "confusion_matrix(y_test,ytest_predict)\n",
        "print(classification_report(y_test, ytest_predict),'\\n');"
      ],
      "metadata": {
        "colab": {
          "base_uri": "https://localhost:8080/"
        },
        "id": "f82XQKyTtE9n",
        "outputId": "e20efe19-833e-47eb-c3e8-465e3e50151a"
      },
      "execution_count": null,
      "outputs": [
        {
          "output_type": "stream",
          "name": "stdout",
          "text": [
            "              precision    recall  f1-score   support\n",
            "\n",
            "           0       0.94      0.88      0.91       383\n",
            "           1       0.98      0.99      0.99      2983\n",
            "\n",
            "    accuracy                           0.98      3366\n",
            "   macro avg       0.96      0.94      0.95      3366\n",
            "weighted avg       0.98      0.98      0.98      3366\n",
            " \n",
            "\n"
          ]
        }
      ]
    },
    {
      "cell_type": "code",
      "source": [
        "from sklearn.metrics import confusion_matrix\n",
        "tn, fp, fn, tp = confusion_matrix(y_test, ytest_predict).ravel()"
      ],
      "metadata": {
        "id": "eoJmSYCVt9OQ"
      },
      "execution_count": null,
      "outputs": []
    },
    {
      "cell_type": "code",
      "source": [
        "tn,fp,fn,tp"
      ],
      "metadata": {
        "colab": {
          "base_uri": "https://localhost:8080/"
        },
        "id": "CJKBfhzyuEpS",
        "outputId": "6f4459af-d107-4dea-8f30-f47b47588ce4"
      },
      "execution_count": null,
      "outputs": [
        {
          "output_type": "execute_result",
          "data": {
            "text/plain": [
              "(337, 46, 22, 2961)"
            ]
          },
          "metadata": {},
          "execution_count": 245
        }
      ]
    },
    {
      "cell_type": "code",
      "source": [
        "(tp+tn)/(tp+tn+fp+fn)# ACCURACY of predicting 0's and 1's correctly"
      ],
      "metadata": {
        "colab": {
          "base_uri": "https://localhost:8080/"
        },
        "id": "CGgNyXSruIwi",
        "outputId": "e6c9d71a-1605-4f8b-e032-fc2f089a917b"
      },
      "execution_count": null,
      "outputs": [
        {
          "output_type": "execute_result",
          "data": {
            "text/plain": [
              "0.9797979797979798"
            ]
          },
          "metadata": {},
          "execution_count": 246
        }
      ]
    },
    {
      "cell_type": "code",
      "source": [
        "tp/(tp+fp)#Precision for 1's"
      ],
      "metadata": {
        "colab": {
          "base_uri": "https://localhost:8080/"
        },
        "id": "5BBYq2w9uN0I",
        "outputId": "8586ab6e-398c-473b-b1c2-5e9a228819a0"
      },
      "execution_count": null,
      "outputs": [
        {
          "output_type": "execute_result",
          "data": {
            "text/plain": [
              "0.9847023611572996"
            ]
          },
          "metadata": {},
          "execution_count": 247
        }
      ]
    },
    {
      "cell_type": "code",
      "source": [
        "tp/(tp+fn)#Recall for 1's"
      ],
      "metadata": {
        "colab": {
          "base_uri": "https://localhost:8080/"
        },
        "id": "jYXvH6ezuQ__",
        "outputId": "14a38c77-2e5c-4e3c-adfe-fa29351ef606"
      },
      "execution_count": null,
      "outputs": [
        {
          "output_type": "execute_result",
          "data": {
            "text/plain": [
              "0.9926248742876299"
            ]
          },
          "metadata": {},
          "execution_count": 248
        }
      ]
    },
    {
      "cell_type": "code",
      "source": [
        "# Applying Standard Scaler to scale the data"
      ],
      "metadata": {
        "id": "x1ycYKg0swl2"
      },
      "execution_count": null,
      "outputs": []
    },
    {
      "cell_type": "code",
      "source": [
        "from sklearn.preprocessing import StandardScaler\n",
        "stand_scal = StandardScaler()\n",
        "X_train = stand_scal.fit_transform(X_train)\n",
        "X_test = stand_scal.transform (X_test)"
      ],
      "metadata": {
        "id": "JDUBLosNsrkh"
      },
      "execution_count": null,
      "outputs": []
    },
    {
      "cell_type": "code",
      "source": [
        "#Build LDA Model\n",
        "clf = LinearDiscriminantAnalysis()\n",
        "model=clf.fit(X_train,y_train)"
      ],
      "metadata": {
        "colab": {
          "base_uri": "https://localhost:8080/"
        },
        "id": "3V2Y4PSJ-78j",
        "outputId": "307d3bda-5f82-4337-b31f-4410e1fd52bc"
      },
      "execution_count": null,
      "outputs": [
        {
          "output_type": "stream",
          "name": "stderr",
          "text": [
            "/usr/local/lib/python3.10/dist-packages/sklearn/utils/validation.py:1143: DataConversionWarning: A column-vector y was passed when a 1d array was expected. Please change the shape of y to (n_samples, ), for example using ravel().\n",
            "  y = column_or_1d(y, warn=True)\n"
          ]
        }
      ]
    },
    {
      "cell_type": "code",
      "source": [
        "# Training Data Class Prediction with a cut-off value of 0.5\n",
        "pred_class_train = model.predict(X_train)\n",
        "\n",
        "# Test Data Class Prediction with a cut-off value of 0.5\n",
        "pred_class_test = model.predict(X_test)"
      ],
      "metadata": {
        "id": "Rb0Oi4lz_HOo"
      },
      "execution_count": null,
      "outputs": []
    },
    {
      "cell_type": "markdown",
      "source": [
        "# Training Data and Test Data Confusion Matrix Comparison"
      ],
      "metadata": {
        "id": "vg9Ffg67_aj6"
      }
    },
    {
      "cell_type": "code",
      "source": [
        "f,a =  plt.subplots(1,2,sharex=True,sharey=True,squeeze=False)\n",
        "\n",
        "#Plotting confusion matrix for the different models for the Training Data\n",
        "\n",
        "plot_0 = sns.heatmap((metrics.confusion_matrix(y_train,pred_class_train)),annot=True,fmt='.5g',cmap='Greys',ax=a[0][0]);\n",
        "a[0][0].set_title('Training Data')\n",
        "\n",
        "plot_1 = sns.heatmap((metrics.confusion_matrix(y_test,pred_class_test)),annot=True,fmt='.5g',cmap='Greys',ax=a[0][1]);\n",
        "a[0][1].set_title('Test Data');"
      ],
      "metadata": {
        "colab": {
          "base_uri": "https://localhost:8080/",
          "height": 452
        },
        "id": "gdmFSE8g_Rpy",
        "outputId": "10d2a026-1d46-4119-de3e-3d3751592797"
      },
      "execution_count": null,
      "outputs": [
        {
          "output_type": "display_data",
          "data": {
            "text/plain": [
              "<Figure size 640x480 with 4 Axes>"
            ],
            "image/png": "[encoded data removed]"
          },
          "metadata": {}
        }
      ]
    },
    {
      "cell_type": "code",
      "source": [],
      "metadata": {
        "id": "skrstyDS_h_s"
      },
      "execution_count": null,
      "outputs": []
    },
    {
      "cell_type": "markdown",
      "source": [
        "# Training Data and Test Data Classification Report Comparison"
      ],
      "metadata": {
        "id": "90azSXta_rGu"
      }
    },
    {
      "cell_type": "code",
      "source": [
        "print('Classification Report of the training data:\\n\\n',metrics.classification_report(y_train,pred_class_train),'\\n')\n",
        "print('Classification Report of the test data:\\n\\n',metrics.classification_report(y_test,pred_class_test),'\\n')"
      ],
      "metadata": {
        "colab": {
          "base_uri": "https://localhost:8080/"
        },
        "id": "C12fYZ8bsnkb",
        "outputId": "989fa046-90a9-4eca-c90f-74ab9e094c20"
      },
      "execution_count": null,
      "outputs": [
        {
          "output_type": "stream",
          "name": "stdout",
          "text": [
            "Classification Report of the training data:\n",
            "\n",
            "               precision    recall  f1-score   support\n",
            "\n",
            "           0       0.89      0.69      0.78       797\n",
            "           1       0.97      0.99      0.98      7054\n",
            "\n",
            "    accuracy                           0.96      7851\n",
            "   macro avg       0.93      0.84      0.88      7851\n",
            "weighted avg       0.96      0.96      0.96      7851\n",
            " \n",
            "\n",
            "Classification Report of the test data:\n",
            "\n",
            "               precision    recall  f1-score   support\n",
            "\n",
            "           0       0.92      0.72      0.81       383\n",
            "           1       0.96      0.99      0.98      2983\n",
            "\n",
            "    accuracy                           0.96      3366\n",
            "   macro avg       0.94      0.85      0.89      3366\n",
            "weighted avg       0.96      0.96      0.96      3366\n",
            " \n",
            "\n"
          ]
        }
      ]
    },
    {
      "cell_type": "code",
      "source": [
        "pred_train = model.predict(X_train)\n",
        "#The optimal cut off would be where tpr is high and fpr is low\n",
        "fpr, tpr, thresholds = metrics.roc_curve(y_train, pred_train)\n",
        "\n",
        "optimal_idx = np.argmax(tpr-fpr)\n",
        "optimal_threshold = thresholds[optimal_idx]\n",
        "print(optimal_threshold)"
      ],
      "metadata": {
        "colab": {
          "base_uri": "https://localhost:8080/"
        },
        "id": "9X3VomIT_2EL",
        "outputId": "6ea7eed6-6a43-402e-8aa6-d6dc0a579e39"
      },
      "execution_count": null,
      "outputs": [
        {
          "output_type": "stream",
          "name": "stdout",
          "text": [
            "1\n"
          ]
        }
      ]
    },
    {
      "cell_type": "code",
      "source": [
        "pred_test = model.predict(X_test)\n",
        "#The optimal cut off would be where tpr is high and fpr is low\n",
        "fpr, tpr, thresholds = metrics.roc_curve(y_test, pred_test)\n",
        "\n",
        "optimal_idx = np.argmax(tpr-fpr)\n",
        "optimal_threshold = thresholds[optimal_idx]\n",
        "print(optimal_threshold)"
      ],
      "metadata": {
        "colab": {
          "base_uri": "https://localhost:8080/"
        },
        "id": "O1TIQ0obAGl9",
        "outputId": "c2e0b9f1-a237-4820-e6d4-eddfc677b342"
      },
      "execution_count": null,
      "outputs": [
        {
          "output_type": "stream",
          "name": "stdout",
          "text": [
            "1\n"
          ]
        }
      ]
    },
    {
      "cell_type": "code",
      "source": [
        "pred_prob_test = model.predict_proba(X_test)\n",
        "prob = pd.DataFrame(pred_prob_test[:,1])\n",
        "pred = np.where(prob>0.20, 1, 0)\n",
        "print(metrics.classification_report(y_test, pred))"
      ],
      "metadata": {
        "colab": {
          "base_uri": "https://localhost:8080/"
        },
        "id": "0XuRtnCGALvR",
        "outputId": "f7d8b994-08d6-4359-900d-f5e4a4ca39bf"
      },
      "execution_count": null,
      "outputs": [
        {
          "output_type": "stream",
          "name": "stdout",
          "text": [
            "              precision    recall  f1-score   support\n",
            "\n",
            "           0       0.99      0.63      0.77       383\n",
            "           1       0.95      1.00      0.98      2983\n",
            "\n",
            "    accuracy                           0.96      3366\n",
            "   macro avg       0.97      0.81      0.87      3366\n",
            "weighted avg       0.96      0.96      0.95      3366\n",
            "\n"
          ]
        }
      ]
    },
    {
      "cell_type": "code",
      "source": [
        "pred_prob_test = model.predict_proba(X_test)\n",
        "prob = pd.DataFrame(pred_prob_test[:,1])\n",
        "pred = np.where(prob>0.17, 1, 0)\n",
        "print(metrics.classification_report(y_test, pred))"
      ],
      "metadata": {
        "colab": {
          "base_uri": "https://localhost:8080/"
        },
        "id": "f38F5N2BASj-",
        "outputId": "1ad2defa-3d7a-4315-cd2f-e0c42471fbc8"
      },
      "execution_count": null,
      "outputs": [
        {
          "output_type": "stream",
          "name": "stdout",
          "text": [
            "              precision    recall  f1-score   support\n",
            "\n",
            "           0       1.00      0.61      0.76       383\n",
            "           1       0.95      1.00      0.98      2983\n",
            "\n",
            "    accuracy                           0.96      3366\n",
            "   macro avg       0.97      0.81      0.87      3366\n",
            "weighted avg       0.96      0.96      0.95      3366\n",
            "\n"
          ]
        }
      ]
    },
    {
      "cell_type": "code",
      "source": [],
      "metadata": {
        "id": "k1um6EsqAYAn"
      },
      "execution_count": null,
      "outputs": []
    },
    {
      "cell_type": "markdown",
      "source": [
        "# Probability prediction for the training and test data"
      ],
      "metadata": {
        "id": "cmW60tf_Ay79"
      }
    },
    {
      "cell_type": "code",
      "source": [
        "# Training Data Probability Prediction\n",
        "pred_prob_train = model.predict_proba(X_train)\n",
        "\n",
        "# Test Data Probability Prediction\n",
        "pred_prob_test = model.predict_proba(X_test)"
      ],
      "metadata": {
        "id": "UyM_7H22A0Dz"
      },
      "execution_count": null,
      "outputs": []
    },
    {
      "cell_type": "code",
      "source": [
        "# AUC and ROC for the training data\n",
        "\n",
        "# calculate AUC\n",
        "auc = metrics.roc_auc_score(y_train,pred_prob_train[:,1])\n",
        "print('AUC for the Training Data: %.3f' % auc)\n",
        "\n",
        "#  calculate roc curve\n",
        "fpr, tpr, thresholds = metrics.roc_curve(y_train,pred_prob_train[:,1])\n",
        "plt.plot([0, 1], [0, 1], linestyle='--')\n",
        "# plot the roc curve for the model\n",
        "plt.plot(fpr, tpr, marker='.',label = 'Training Data')\n",
        "\n",
        "\n",
        "# AUC and ROC for the test data\n",
        "\n",
        "# calculate AUC\n",
        "auc = metrics.roc_auc_score(y_test,pred_prob_test[:,1])\n",
        "print('AUC for the Test Data: %.3f' % auc)\n",
        "\n",
        "#  calculate roc curve\n",
        "fpr, tpr, thresholds = metrics.roc_curve(y_test,pred_prob_test[:,1])\n",
        "plt.plot([0, 1], [0, 1], linestyle='--')\n",
        "# plot the roc curve for the model\n",
        "plt.plot(fpr, tpr, marker='.',label='Test Data')\n",
        "# show the plot\n",
        "plt.legend(loc='best')\n",
        "plt.show()"
      ],
      "metadata": {
        "colab": {
          "base_uri": "https://localhost:8080/",
          "height": 465
        },
        "id": "KXaZEhtNA37D",
        "outputId": "d2c7b1e9-1c7c-4a7d-935b-bee6ffc9b2f9"
      },
      "execution_count": null,
      "outputs": [
        {
          "output_type": "stream",
          "name": "stdout",
          "text": [
            "AUC for the Training Data: 0.968\n",
            "AUC for the Test Data: 0.966\n"
          ]
        },
        {
          "output_type": "display_data",
          "data": {
            "text/plain": [
              "<Figure size 640x480 with 1 Axes>"
            ],
            "image/png": "[encoded data removed]"
          },
          "metadata": {}
        }
      ]
    },
    {
      "cell_type": "code",
      "source": [
        "pred_prob_train[:,1]"
      ],
      "metadata": {
        "colab": {
          "base_uri": "https://localhost:8080/"
        },
        "id": "gE2i6vtlBLf2",
        "outputId": "519d7bc7-079c-40d9-859e-67d5bfb35d8a"
      },
      "execution_count": null,
      "outputs": [
        {
          "output_type": "execute_result",
          "data": {
            "text/plain": [
              "array([0.98973437, 0.99767266, 0.99867209, ..., 0.99944054, 0.99643755,\n",
              "       0.10504056])"
            ]
          },
          "metadata": {},
          "execution_count": 267
        }
      ]
    },
    {
      "cell_type": "markdown",
      "source": [
        "# Generate Coefficients and intercept for the Linear Discriminant Function"
      ],
      "metadata": {
        "id": "-k4oEjhvBVZ4"
      }
    },
    {
      "cell_type": "code",
      "source": [
        "#intercept value\n",
        "clf.intercept_"
      ],
      "metadata": {
        "colab": {
          "base_uri": "https://localhost:8080/"
        },
        "id": "TmRcRt4IBWRB",
        "outputId": "159c8e44-3183-4c2f-fa0a-edb3f605ea71"
      },
      "execution_count": null,
      "outputs": [
        {
          "output_type": "execute_result",
          "data": {
            "text/plain": [
              "array([5.99310266])"
            ]
          },
          "metadata": {},
          "execution_count": 268
        }
      ]
    },
    {
      "cell_type": "code",
      "source": [
        "#coefficients for the Linear Discriminant Function\n",
        "clf.coef_"
      ],
      "metadata": {
        "colab": {
          "base_uri": "https://localhost:8080/"
        },
        "id": "rQr8GcZYBZGQ",
        "outputId": "19fbce34-c10f-42e9-b8cb-69f196e8b6e7"
      },
      "execution_count": null,
      "outputs": [
        {
          "output_type": "execute_result",
          "data": {
            "text/plain": [
              "array([[ 0.        , -1.17882309, -0.18210877,  0.04308371, -0.20807087,\n",
              "         0.4593997 , -0.21481736, -0.50919161,  2.49745078, -0.1376967 ,\n",
              "        -0.04282506,  0.04127923,  0.1180156 , -1.81412319]])"
            ]
          },
          "metadata": {},
          "execution_count": 269
        }
      ]
    },
    {
      "cell_type": "code",
      "source": [
        "X.columns"
      ],
      "metadata": {
        "colab": {
          "base_uri": "https://localhost:8080/"
        },
        "id": "G_gMp6aiBdWV",
        "outputId": "47bea015-b64e-4132-9d28-70c17d7f35c8"
      },
      "execution_count": null,
      "outputs": [
        {
          "output_type": "execute_result",
          "data": {
            "text/plain": [
              "Index(['const', 'dvcat', 'weight', 'airbag', 'seatbelt', 'frontal', 'sex',\n",
              "       'ageOFocc', 'yearacc', 'yearVeh', 'abcat', 'occRole', 'deploy',\n",
              "       'injSeverity'],\n",
              "      dtype='object')"
            ]
          },
          "metadata": {},
          "execution_count": 270
        }
      ]
    },
    {
      "cell_type": "code",
      "source": [
        "a=clf.coef_\n",
        "np.round(a,2) # rounded up coefficients"
      ],
      "metadata": {
        "colab": {
          "base_uri": "https://localhost:8080/"
        },
        "id": "cNSBCc4BBjls",
        "outputId": "ac438264-e6b1-4d7f-a6a2-f05e1693407e"
      },
      "execution_count": null,
      "outputs": [
        {
          "output_type": "execute_result",
          "data": {
            "text/plain": [
              "array([[ 0.  , -1.18, -0.18,  0.04, -0.21,  0.46, -0.21, -0.51,  2.5 ,\n",
              "        -0.14, -0.04,  0.04,  0.12, -1.81]])"
            ]
          },
          "metadata": {},
          "execution_count": 271
        }
      ]
    },
    {
      "cell_type": "code",
      "source": [],
      "metadata": {
        "id": "RkNzpPyBBoZF"
      },
      "execution_count": null,
      "outputs": []
    },
    {
      "cell_type": "markdown",
      "source": [
        "# <font color='red'>Using LDA for Dimensionality Reduction</font>"
      ],
      "metadata": {
        "id": "hzZL1I8lCckM"
      }
    },
    {
      "cell_type": "code",
      "source": [
        "lda_model = LinearDiscriminantAnalysis(n_components = 1) # as only two classes are there for prediction thus 2-1=1 component\n",
        "X_train_lda = lda_model.fit_transform(X_train, y_train)\n",
        "X_test_lda = lda_model.transform(X_test)"
      ],
      "metadata": {
        "colab": {
          "base_uri": "https://localhost:8080/"
        },
        "id": "EztiSQTiCexw",
        "outputId": "89dbf101-8612-446a-9bbe-435a10f04750"
      },
      "execution_count": null,
      "outputs": [
        {
          "output_type": "stream",
          "name": "stderr",
          "text": [
            "/usr/local/lib/python3.10/dist-packages/sklearn/utils/validation.py:1143: DataConversionWarning: A column-vector y was passed when a 1d array was expected. Please change the shape of y to (n_samples, ), for example using ravel().\n",
            "  y = column_or_1d(y, warn=True)\n"
          ]
        }
      ]
    },
    {
      "cell_type": "code",
      "source": [
        "print(X_train_lda.shape)\n",
        "print(X_test_lda.shape)"
      ],
      "metadata": {
        "colab": {
          "base_uri": "https://localhost:8080/"
        },
        "id": "BqdpnwrTCla5",
        "outputId": "1696ad84-10a3-4d62-821f-3a4f88c2bae3"
      },
      "execution_count": null,
      "outputs": [
        {
          "output_type": "stream",
          "name": "stdout",
          "text": [
            "(7851, 1)\n",
            "(3366, 1)\n"
          ]
        }
      ]
    },
    {
      "cell_type": "code",
      "source": [
        "from sklearn.linear_model import LogisticRegression\n",
        "\n",
        "model = LogisticRegression()\n",
        "model.fit(X_train_lda, y_train)\n",
        "y_pred = model.predict(X_test_lda)"
      ],
      "metadata": {
        "colab": {
          "base_uri": "https://localhost:8080/"
        },
        "id": "t8cekbp9CqH_",
        "outputId": "efc45dd0-6efa-4d81-f836-661825c75e23"
      },
      "execution_count": null,
      "outputs": [
        {
          "output_type": "stream",
          "name": "stderr",
          "text": [
            "/usr/local/lib/python3.10/dist-packages/sklearn/utils/validation.py:1143: DataConversionWarning: A column-vector y was passed when a 1d array was expected. Please change the shape of y to (n_samples, ), for example using ravel().\n",
            "  y = column_or_1d(y, warn=True)\n"
          ]
        }
      ]
    },
    {
      "cell_type": "code",
      "source": [
        "print('Classification Report of the test data:\\n\\n',metrics.classification_report(y_test,y_pred),'\\n')"
      ],
      "metadata": {
        "colab": {
          "base_uri": "https://localhost:8080/"
        },
        "id": "LuAzuWx3C0kl",
        "outputId": "fec0928b-c57d-47f7-bd45-dd824f4b9fdb"
      },
      "execution_count": null,
      "outputs": [
        {
          "output_type": "stream",
          "name": "stdout",
          "text": [
            "Classification Report of the test data:\n",
            "\n",
            "               precision    recall  f1-score   support\n",
            "\n",
            "           0       0.91      0.72      0.80       383\n",
            "           1       0.97      0.99      0.98      2983\n",
            "\n",
            "    accuracy                           0.96      3366\n",
            "   macro avg       0.94      0.86      0.89      3366\n",
            "weighted avg       0.96      0.96      0.96      3366\n",
            " \n",
            "\n"
          ]
        }
      ]
    },
    {
      "cell_type": "code",
      "source": [],
      "metadata": {
        "id": "AEFEebMXLv2Y"
      },
      "execution_count": null,
      "outputs": []
    },
    {
      "cell_type": "code",
      "source": [],
      "metadata": {
        "id": "GoYeIkbmLh6E"
      },
      "execution_count": null,
      "outputs": []
    },
    {
      "cell_type": "code",
      "source": [],
      "metadata": {
        "id": "WHkTjDZ4LgKs"
      },
      "execution_count": null,
      "outputs": []
    },
    {
      "cell_type": "code",
      "source": [],
      "metadata": {
        "id": "oSwIfOWtLegt"
      },
      "execution_count": null,
      "outputs": []
    },
    {
      "cell_type": "code",
      "source": [],
      "metadata": {
        "id": "M5gd7LwaKzig"
      },
      "execution_count": null,
      "outputs": []
    },
    {
      "cell_type": "code",
      "source": [],
      "metadata": {
        "id": "Ib-o3b8lADt8"
      },
      "execution_count": null,
      "outputs": []
    },
    {
      "cell_type": "code",
      "source": [],
      "metadata": {
        "id": "P1Hqz_ljsOaz"
      },
      "execution_count": null,
      "outputs": []
    },
    {
      "cell_type": "code",
      "source": [],
      "metadata": {
        "id": "F8OBc8uysJho"
      },
      "execution_count": null,
      "outputs": []
    },
    {
      "cell_type": "code",
      "source": [],
      "metadata": {
        "id": "4JjfVa31pU5O"
      },
      "execution_count": null,
      "outputs": []
    },
    {
      "cell_type": "code",
      "source": [],
      "metadata": {
        "id": "YnWY4GV4pBOx"
      },
      "execution_count": null,
      "outputs": []
    },
    {
      "cell_type": "code",
      "source": [],
      "metadata": {
        "id": "qbMxeH9FiUdp"
      },
      "execution_count": null,
      "outputs": []
    },
    {
      "cell_type": "code",
      "source": [],
      "metadata": {
        "id": "hQrzAeHOgiaY"
      },
      "execution_count": null,
      "outputs": []
    },
    {
      "cell_type": "code",
      "source": [],
      "metadata": {
        "id": "pVRvK5pgenqp"
      },
      "execution_count": null,
      "outputs": []
    },
    {
      "cell_type": "code",
      "source": [],
      "metadata": {
        "id": "YHHtGtuweYtz"
      },
      "execution_count": null,
      "outputs": []
    },
    {
      "cell_type": "code",
      "source": [],
      "metadata": {
        "id": "RT3baExmb3gr"
      },
      "execution_count": null,
      "outputs": []
    },
    {
      "cell_type": "code",
      "source": [],
      "metadata": {
        "id": "n6Snx_Qcbk5b"
      },
      "execution_count": null,
      "outputs": []
    },
    {
      "cell_type": "code",
      "source": [],
      "metadata": {
        "id": "4VJ9n75Abdzl"
      },
      "execution_count": null,
      "outputs": []
    },
    {
      "cell_type": "code",
      "source": [],
      "metadata": {
        "id": "t6xDMBdUasy5"
      },
      "execution_count": null,
      "outputs": []
    },
    {
      "cell_type": "code",
      "source": [],
      "metadata": {
        "id": "UgFXQ8MgYOx2"
      },
      "execution_count": null,
      "outputs": []
    },
    {
      "cell_type": "code",
      "source": [],
      "metadata": {
        "id": "SvkDbnALYG0o"
      },
      "execution_count": null,
      "outputs": []
    },
    {
      "cell_type": "code",
      "source": [],
      "metadata": {
        "id": "jA-V_qWsYBoz"
      },
      "execution_count": null,
      "outputs": []
    },
    {
      "cell_type": "code",
      "source": [],
      "metadata": {
        "id": "ySEqqzo_X6Wg"
      },
      "execution_count": null,
      "outputs": []
    },
    {
      "cell_type": "code",
      "source": [],
      "metadata": {
        "id": "dWKk5Ptv-GGs"
      },
      "execution_count": null,
      "outputs": []
    },
    {
      "cell_type": "code",
      "source": [],
      "metadata": {
        "id": "vze3l6X79hYD"
      },
      "execution_count": null,
      "outputs": []
    },
    {
      "cell_type": "code",
      "source": [],
      "metadata": {
        "id": "9YFV61HJ9C30"
      },
      "execution_count": null,
      "outputs": []
    },
    {
      "cell_type": "code",
      "source": [],
      "metadata": {
        "id": "0lNMYd-8xVxj"
      },
      "execution_count": null,
      "outputs": []
    },
    {
      "cell_type": "code",
      "source": [],
      "metadata": {
        "id": "wAoNQWG3xPgx"
      },
      "execution_count": null,
      "outputs": []
    },
    {
      "cell_type": "code",
      "source": [],
      "metadata": {
        "id": "1xXXBaK1xHM1"
      },
      "execution_count": null,
      "outputs": []
    },
    {
      "cell_type": "code",
      "source": [],
      "metadata": {
        "id": "jw5TqK5DxB2p"
      },
      "execution_count": null,
      "outputs": []
    },
    {
      "cell_type": "code",
      "source": [],
      "metadata": {
        "id": "apt9-zvyrgrS"
      },
      "execution_count": null,
      "outputs": []
    },
    {
      "cell_type": "code",
      "source": [],
      "metadata": {
        "id": "0rREIFgdqORM"
      },
      "execution_count": null,
      "outputs": []
    },
    {
      "cell_type": "code",
      "source": [],
      "metadata": {
        "id": "28L_oS2o0l5S"
      },
      "execution_count": null,
      "outputs": []
    },
    {
      "cell_type": "code",
      "source": [],
      "metadata": {
        "id": "X8YxjRG7obHa"
      },
      "execution_count": null,
      "outputs": []
    },
    {
      "cell_type": "code",
      "source": [],
      "metadata": {
        "id": "CN3gawjVoc3P"
      },
      "execution_count": null,
      "outputs": []
    },
    {
      "cell_type": "code",
      "source": [],
      "metadata": {
        "id": "CF1CikIToeVQ"
      },
      "execution_count": null,
      "outputs": []
    },
    {
      "cell_type": "code",
      "source": [],
      "metadata": {
        "id": "c_KhTKFN-nYt"
      },
      "execution_count": null,
      "outputs": []
    },
    {
      "cell_type": "code",
      "source": [],
      "metadata": {
        "id": "uW5rARHX-kVe"
      },
      "execution_count": null,
      "outputs": []
    },
    {
      "cell_type": "code",
      "source": [],
      "metadata": {
        "id": "HnG403CrpZTj"
      },
      "execution_count": null,
      "outputs": []
    },
    {
      "cell_type": "code",
      "source": [],
      "metadata": {
        "id": "53SjKon6n8yM"
      },
      "execution_count": null,
      "outputs": []
    },
    {
      "cell_type": "code",
      "source": [],
      "metadata": {
        "id": "T0UOWPNn-HVz"
      },
      "execution_count": null,
      "outputs": []
    },
    {
      "cell_type": "code",
      "source": [],
      "metadata": {
        "id": "ymx_U9o59sHf"
      },
      "execution_count": null,
      "outputs": []
    },
    {
      "cell_type": "code",
      "source": [],
      "metadata": {
        "id": "J_CAmnlz9UoX"
      },
      "execution_count": null,
      "outputs": []
    },
    {
      "cell_type": "code",
      "source": [],
      "metadata": {
        "id": "g8w7yPcB1SK-"
      },
      "execution_count": null,
      "outputs": []
    },
    {
      "cell_type": "code",
      "source": [],
      "metadata": {
        "id": "BdWwLzOJ1Q1t"
      },
      "execution_count": null,
      "outputs": []
    },
    {
      "cell_type": "code",
      "source": [],
      "metadata": {
        "id": "EZGXBDld1OnK"
      },
      "execution_count": null,
      "outputs": []
    },
    {
      "cell_type": "code",
      "source": [],
      "metadata": {
        "id": "JMUS-8WN1IA8"
      },
      "execution_count": null,
      "outputs": []
    },
    {
      "cell_type": "code",
      "source": [],
      "metadata": {
        "id": "Fj7T4kdQ1EkA"
      },
      "execution_count": null,
      "outputs": []
    },
    {
      "cell_type": "code",
      "source": [],
      "metadata": {
        "id": "ZmHfilXjzjlu"
      },
      "execution_count": null,
      "outputs": []
    },
    {
      "cell_type": "code",
      "source": [],
      "metadata": {
        "id": "2bvraiMyzgOF"
      },
      "execution_count": null,
      "outputs": []
    },
    {
      "cell_type": "code",
      "source": [],
      "metadata": {
        "id": "jxm9aeM4wa-y"
      },
      "execution_count": null,
      "outputs": []
    },
    {
      "cell_type": "code",
      "source": [],
      "metadata": {
        "id": "VQEJ7FLEIdw9"
      },
      "execution_count": null,
      "outputs": []
    }
  ]
}